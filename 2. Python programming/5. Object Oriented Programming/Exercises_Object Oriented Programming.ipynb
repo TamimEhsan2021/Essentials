{
 "cells": [
  {
   "cell_type": "markdown",
   "metadata": {},
   "source": [
    "## Exercise\n",
    "Here is an example for you to have a go at. Try defining a class for a cylinder. It should contain: <br>\n",
    "- 2 parameters:\n",
    "    - height\n",
    "    - radius, which should have a default value of 1\n",
    "<br><br>\n",
    "- 4 attributes:\n",
    "    - height\n",
    "    - radius\n",
    "    - surface_area, initialised as None\n",
    "    - volume, initialised as None\n",
    "<br><br>\n",
    "- 2 methods:\n",
    "    - get_surface_area: define surface_area, update attribute surface_area, return surface_area rounded to 2dp.\n",
    "    - get_volume: define volume, update attribute volume, return volume rounded to 2dp.\n",
    "<br><br>\n",
    "- Use google to find the formulae for surface area and volume of a cylinder.\n",
    "- Use the formulae to create method definitions for these."
   ]
  },
  {
   "cell_type": "code",
   "execution_count": 11,
   "metadata": {
    "ExecuteTime": {
     "end_time": "2021-08-05T07:57:04.601777Z",
     "start_time": "2021-08-05T07:57:04.595877Z"
    }
   },
   "outputs": [],
   "source": [
    "import math\n",
    "pi = math.pi\n",
    "class Cylinder:\n",
    "    \n",
    "    def __init__(self, height, radius=1):\n",
    "        self.height = height\n",
    "        self.radius = radius\n",
    "        self.surface_area = None\n",
    "        self.volume = None\n",
    "        self.get_surface_area()\n",
    "    \n",
    "    \n",
    "    def get_surface_area(self):\n",
    "        area = (2 * pi * self.radius * self.height) + (2 * pi * self.radius**2)\n",
    "        self.surface_area = area\n",
    "        print(area)\n",
    "        return round(self.surface_area, 2)\n",
    "    \n",
    "    \n",
    "    #def get_volume(self)"
   ]
  },
  {
   "cell_type": "code",
   "execution_count": 12,
   "metadata": {
    "ExecuteTime": {
     "end_time": "2021-08-05T07:57:05.252815Z",
     "start_time": "2021-08-05T07:57:05.242144Z"
    }
   },
   "outputs": [
    {
     "name": "stdout",
     "output_type": "stream",
     "text": [
      "37.69911184307752\n"
     ]
    },
    {
     "data": {
      "text/plain": [
       "<__main__.Cylinder at 0x7fd0f4ef7c40>"
      ]
     },
     "execution_count": 12,
     "metadata": {},
     "output_type": "execute_result"
    }
   ],
   "source": [
    "Cylinder(5)"
   ]
  },
  {
   "cell_type": "code",
   "execution_count": null,
   "metadata": {},
   "outputs": [],
   "source": []
  },
  {
   "cell_type": "code",
   "execution_count": null,
   "metadata": {},
   "outputs": [],
   "source": []
  }
 ],
 "metadata": {
  "interpreter": {
   "hash": "aee8b7b246df8f9039afb4144a1f6fd8d2ca17a180786b69acc140d282b71a49"
  },
  "kernelspec": {
   "display_name": "Python 3 (ipykernel)",
   "language": "python",
   "name": "python3"
  },
  "language_info": {
   "codemirror_mode": {
    "name": "ipython",
    "version": 3
   },
   "file_extension": ".py",
   "mimetype": "text/x-python",
   "name": "python",
   "nbconvert_exporter": "python",
   "pygments_lexer": "ipython3",
   "version": "3.9.6"
  }
 },
 "nbformat": 4,
 "nbformat_minor": 2
}
