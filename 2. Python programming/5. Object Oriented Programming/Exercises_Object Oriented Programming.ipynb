{
 "cells": [
  {
   "cell_type": "markdown",
   "metadata": {},
   "source": [
    "## Exercise\n",
    "Here is an example for you to have a go at. Try defining a class for a cylinder. It should contain: <br>\n",
    "- 2 parameters:\n",
    "    - height\n",
    "    - radius, which should have a default value of 1\n",
    "<br><br>\n",
    "- 4 attributes:\n",
    "    - height\n",
    "    - radius\n",
    "    - surface_area, initialised as None\n",
    "    - volume, initialised as None\n",
    "<br><br>\n",
    "- 2 methods:\n",
    "    - get_surface_area: define surface_area, update attribute surface_area, return surface_area rounded to 2dp.\n",
    "    - get_volume: define volume, update attribute volume, return volume rounded to 2dp.\n",
    "<br><br>\n",
    "- Use google to find the formulae for surface area and volume of a cylinder.\n",
    "- Use the formulae to create method definitions for these."
   ]
  },
  {
   "cell_type": "code",
   "execution_count": 22,
   "metadata": {
    "ExecuteTime": {
     "end_time": "2021-08-05T18:23:21.359469Z",
     "start_time": "2021-08-05T18:23:21.345901Z"
    }
   },
   "outputs": [],
   "source": [
    "import math\n",
    "pi = math.pi\n",
    "class Cylinder:\n",
    "    \n",
    "    def __init__(self, height, radius=1):\n",
    "        self.height = height\n",
    "        self.radius = radius\n",
    "        self.surface_area = None\n",
    "        self.volume = None\n",
    "        area = self.get_surface_area()\n",
    "        #print(area)\n",
    "    \n",
    "    \n",
    "    def get_surface_area(self):\n",
    "        area = (2 * pi * self.radius * self.height) + (2 * pi * self.radius**2)\n",
    "        return round(area, 2)\n",
    "    \n",
    "    #def get_volume(self):\n",
    "     #   volume = \n",
    "    \n",
    "    #def get_volume(self)"
   ]
  },
  {
   "cell_type": "code",
   "execution_count": 23,
   "metadata": {
    "ExecuteTime": {
     "end_time": "2021-08-05T18:23:21.846164Z",
     "start_time": "2021-08-05T18:23:21.836607Z"
    }
   },
   "outputs": [
    {
     "data": {
      "text/plain": [
       "471.24"
      ]
     },
     "execution_count": 23,
     "metadata": {},
     "output_type": "execute_result"
    }
   ],
   "source": [
    "object1 = Cylinder(height=10, radius=5)\n",
    "object1.get_surface_area()"
   ]
  },
  {
   "cell_type": "code",
   "execution_count": 32,
   "metadata": {
    "ExecuteTime": {
     "end_time": "2021-08-05T20:12:53.312750Z",
     "start_time": "2021-08-05T20:12:53.305588Z"
    }
   },
   "outputs": [],
   "source": [
    "def summation(**kwargs):\n",
    "    print(kwargs)\n",
    "    for k in kwargs:\n",
    "        print(k)"
   ]
  },
  {
   "cell_type": "code",
   "execution_count": 34,
   "metadata": {
    "ExecuteTime": {
     "end_time": "2021-08-05T20:15:17.395980Z",
     "start_time": "2021-08-05T20:15:17.386676Z"
    }
   },
   "outputs": [
    {
     "ename": "SyntaxError",
     "evalue": "positional argument follows keyword argument (3397766842.py, line 1)",
     "output_type": "error",
     "traceback": [
      "\u001b[0;36m  File \u001b[0;32m\"/tmp/ipykernel_76939/3397766842.py\"\u001b[0;36m, line \u001b[0;32m1\u001b[0m\n\u001b[0;31m    summation(key=1,6)\u001b[0m\n\u001b[0m                     ^\u001b[0m\n\u001b[0;31mSyntaxError\u001b[0m\u001b[0;31m:\u001b[0m positional argument follows keyword argument\n"
     ]
    }
   ],
   "source": [
    "summation(key=1,6)"
   ]
  },
  {
   "cell_type": "code",
   "execution_count": null,
   "metadata": {},
   "outputs": [],
   "source": []
  }
 ],
 "metadata": {
  "interpreter": {
   "hash": "aee8b7b246df8f9039afb4144a1f6fd8d2ca17a180786b69acc140d282b71a49"
  },
  "kernelspec": {
   "display_name": "Python 3 (ipykernel)",
   "language": "python",
   "name": "python3"
  },
  "language_info": {
   "codemirror_mode": {
    "name": "ipython",
    "version": 3
   },
   "file_extension": ".py",
   "mimetype": "text/x-python",
   "name": "python",
   "nbconvert_exporter": "python",
   "pygments_lexer": "ipython3",
   "version": "3.9.6"
  }
 },
 "nbformat": 4,
 "nbformat_minor": 2
}
