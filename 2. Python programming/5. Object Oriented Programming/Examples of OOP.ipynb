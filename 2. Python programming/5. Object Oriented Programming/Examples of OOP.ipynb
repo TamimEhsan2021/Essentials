{
 "cells": [
  {
   "cell_type": "markdown",
   "id": "4aa0ca8c",
   "metadata": {},
   "source": [
    "# Notes\n",
    "\n",
    "- An object is an instance of a class\n",
    "- An attribute is what an object has or is e.g name, age, height\n",
    "- A method is what an object can do eg eat, sleep, drive\n",
    "    - Defining a function iniside a class turns it into a method. e.g\n",
    "\n",
    "def car(): This is a function\n",
    "\n",
    "class cars():    \n",
    "    def car():  This is a method\n",
    "    \n",
    "    \n",
    "- A class is a blueprint that describes what attributes and methods that a distinct object will have\n",
    "\n",
    "- def __init__(self): is used to construct objects for us. This is also known as the constructor\n",
    "    - We can pass arguements after self and use them in our methods.\n",
    "\n",
    "- \"self\" is an arguement that we do not need to pass anything to. Python does it for us\n"
   ]
  },
  {
   "cell_type": "markdown",
   "id": "209baaae",
   "metadata": {},
   "source": [
    "## Example 1 Car Class"
   ]
  },
  {
   "cell_type": "code",
   "execution_count": 1,
   "id": "74d2e8e8",
   "metadata": {
    "ExecuteTime": {
     "end_time": "2021-08-06T07:13:29.515827Z",
     "start_time": "2021-08-06T07:13:29.504674Z"
    }
   },
   "outputs": [],
   "source": [
    "class Car:  # for classes the name needs to start with a capital letter\n",
    "    def __init__(self, make, model, year, color): #This is our constructor\n",
    "        self.make = make\n",
    "        self.model = model\n",
    "        self.year = year\n",
    "        self.color = color\n",
    "    \n",
    "    def drive(self):  #First method\n",
    "        print(\"This car is driving\")\n",
    "        \n",
    "    def stop(self):   #Second method\n",
    "        print(\"This car is stopped\")"
   ]
  },
  {
   "cell_type": "code",
   "execution_count": 6,
   "id": "e2acaa18",
   "metadata": {
    "ExecuteTime": {
     "end_time": "2021-08-06T07:16:57.939169Z",
     "start_time": "2021-08-06T07:16:57.930024Z"
    }
   },
   "outputs": [
    {
     "name": "stdout",
     "output_type": "stream",
     "text": [
      "Nissan\n",
      "nvida\n",
      "This car is driving\n"
     ]
    }
   ],
   "source": [
    "# We can pass car attributes to the class and save them in a variable\n",
    "car_1 = Car(\"Nissan\", \"nvida\", 1992, \"blue\")\n",
    "\n",
    "# We can then get certain attributes back by doing the following\n",
    "print(car_1.make)\n",
    "print(car_1.model)\n",
    "\n",
    "# We can also call the methods inside our class\n",
    "car_1.drive()"
   ]
  },
  {
   "cell_type": "code",
   "execution_count": null,
   "id": "054f1ea8",
   "metadata": {},
   "outputs": [],
   "source": []
  }
 ],
 "metadata": {
  "kernelspec": {
   "display_name": "Python 3 (ipykernel)",
   "language": "python",
   "name": "python3"
  },
  "language_info": {
   "codemirror_mode": {
    "name": "ipython",
    "version": 3
   },
   "file_extension": ".py",
   "mimetype": "text/x-python",
   "name": "python",
   "nbconvert_exporter": "python",
   "pygments_lexer": "ipython3",
   "version": "3.9.6"
  }
 },
 "nbformat": 4,
 "nbformat_minor": 5
}
