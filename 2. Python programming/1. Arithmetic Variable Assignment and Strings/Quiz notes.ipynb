{
 "cells": [
  {
   "cell_type": "code",
   "execution_count": 6,
   "id": "51f31a03",
   "metadata": {
    "ExecuteTime": {
     "end_time": "2021-08-11T05:31:45.156880Z",
     "start_time": "2021-08-11T05:31:45.154075Z"
    }
   },
   "outputs": [
    {
     "name": "stdout",
     "output_type": "stream",
     "text": [
      "1\n",
      "<class 'int'>\n"
     ]
    }
   ],
   "source": [
    "x = 4%3\n",
    "print(x)\n",
    "print(type(x))"
   ]
  },
  {
   "cell_type": "code",
   "execution_count": 7,
   "id": "2048656c",
   "metadata": {
    "ExecuteTime": {
     "end_time": "2021-08-11T05:32:39.960296Z",
     "start_time": "2021-08-11T05:32:39.957372Z"
    }
   },
   "outputs": [
    {
     "name": "stdout",
     "output_type": "stream",
     "text": [
      "helloworld\n"
     ]
    }
   ],
   "source": [
    "str1 = \"hello\"\n",
    "str2 = \"world\"\n",
    "new_str = str1+str2\n",
    "print(new_str)"
   ]
  },
  {
   "cell_type": "code",
   "execution_count": 8,
   "id": "ee5cc730",
   "metadata": {
    "ExecuteTime": {
     "end_time": "2021-08-11T05:33:30.755218Z",
     "start_time": "2021-08-11T05:33:30.752081Z"
    }
   },
   "outputs": [
    {
     "name": "stdout",
     "output_type": "stream",
     "text": [
      "[1, 2, 4, 5, 6, 7]\n"
     ]
    }
   ],
   "source": [
    "lst1= [1,2,4]\n",
    "lst2= [5,6,7]\n",
    "new_lst = lst1+lst2\n",
    "\n",
    "print(new_lst)"
   ]
  },
  {
   "cell_type": "code",
   "execution_count": 9,
   "id": "9d63451a",
   "metadata": {
    "ExecuteTime": {
     "end_time": "2021-08-11T05:34:26.735216Z",
     "start_time": "2021-08-11T05:34:26.729253Z"
    }
   },
   "outputs": [
    {
     "ename": "TypeError",
     "evalue": "unsupported operand type(s) for +: 'set' and 'set'",
     "output_type": "error",
     "traceback": [
      "\u001b[0;31m---------------------------------------------------------------------------\u001b[0m",
      "\u001b[0;31mTypeError\u001b[0m                                 Traceback (most recent call last)",
      "\u001b[0;32m/tmp/ipykernel_216741/2369440111.py\u001b[0m in \u001b[0;36m<module>\u001b[0;34m\u001b[0m\n\u001b[1;32m      1\u001b[0m \u001b[0mset1\u001b[0m\u001b[0;34m=\u001b[0m\u001b[0;34m{\u001b[0m\u001b[0;36m1\u001b[0m\u001b[0;34m,\u001b[0m\u001b[0;36m2\u001b[0m\u001b[0;34m,\u001b[0m\u001b[0;36m3\u001b[0m\u001b[0;34m,\u001b[0m\u001b[0;36m4\u001b[0m\u001b[0;34m}\u001b[0m\u001b[0;34m\u001b[0m\u001b[0;34m\u001b[0m\u001b[0m\n\u001b[1;32m      2\u001b[0m \u001b[0mset2\u001b[0m\u001b[0;34m=\u001b[0m\u001b[0;34m{\u001b[0m\u001b[0;36m5\u001b[0m\u001b[0;34m,\u001b[0m\u001b[0;36m6\u001b[0m\u001b[0;34m,\u001b[0m\u001b[0;36m7\u001b[0m\u001b[0;34m,\u001b[0m\u001b[0;36m8\u001b[0m\u001b[0;34m}\u001b[0m\u001b[0;34m\u001b[0m\u001b[0;34m\u001b[0m\u001b[0m\n\u001b[0;32m----> 3\u001b[0;31m \u001b[0mnew_set\u001b[0m \u001b[0;34m=\u001b[0m \u001b[0mset1\u001b[0m\u001b[0;34m+\u001b[0m\u001b[0mset2\u001b[0m\u001b[0;34m\u001b[0m\u001b[0;34m\u001b[0m\u001b[0m\n\u001b[0m\u001b[1;32m      4\u001b[0m \u001b[0mprint\u001b[0m\u001b[0;34m(\u001b[0m\u001b[0mnew_set\u001b[0m\u001b[0;34m)\u001b[0m\u001b[0;34m\u001b[0m\u001b[0;34m\u001b[0m\u001b[0m\n",
      "\u001b[0;31mTypeError\u001b[0m: unsupported operand type(s) for +: 'set' and 'set'"
     ]
    }
   ],
   "source": [
    "set1={1,2,3,4}\n",
    "set2={5,6,7,8}\n",
    "new_set = set1+set2\n",
    "print(new_set)"
   ]
  },
  {
   "cell_type": "code",
   "execution_count": 10,
   "id": "9d8d6502",
   "metadata": {
    "ExecuteTime": {
     "end_time": "2021-08-11T05:35:20.981903Z",
     "start_time": "2021-08-11T05:35:20.976253Z"
    }
   },
   "outputs": [
    {
     "name": "stdout",
     "output_type": "stream",
     "text": [
      "(1, 2, 3, 4, 5, 6, 7, 8)\n"
     ]
    }
   ],
   "source": [
    "tupl1=(1,2,3,4)\n",
    "tupl2=(5,6,7,8)\n",
    "new_tupl=tupl1+tupl2\n",
    "print(new_tupl)"
   ]
  },
  {
   "cell_type": "code",
   "execution_count": 17,
   "id": "2c725a04",
   "metadata": {
    "ExecuteTime": {
     "end_time": "2021-08-11T05:38:38.062258Z",
     "start_time": "2021-08-11T05:38:38.059545Z"
    }
   },
   "outputs": [
    {
     "name": "stdout",
     "output_type": "stream",
     "text": [
      "[1, 2, 4, 1, 2, 4]\n"
     ]
    }
   ],
   "source": [
    "multiple_lst = lst1*2\n",
    "print(multiple_lst)"
   ]
  },
  {
   "cell_type": "code",
   "execution_count": 30,
   "id": "f57f0ce3",
   "metadata": {
    "ExecuteTime": {
     "end_time": "2021-08-11T05:43:26.006873Z",
     "start_time": "2021-08-11T05:43:26.003295Z"
    }
   },
   "outputs": [
    {
     "name": "stdout",
     "output_type": "stream",
     "text": [
      "1.0\n",
      "1.0\n"
     ]
    }
   ],
   "source": [
    "a=9\n",
    "a/=a\n",
    "print(a)\n",
    "a//=a\n",
    "print(a)"
   ]
  },
  {
   "cell_type": "code",
   "execution_count": 26,
   "id": "66818030",
   "metadata": {
    "ExecuteTime": {
     "end_time": "2021-08-11T05:41:26.918449Z",
     "start_time": "2021-08-11T05:41:26.916361Z"
    }
   },
   "outputs": [],
   "source": [
    "a+=1 #increment by 1\n",
    "a+=a # 2 * 8\n",
    "a*=a # a squared"
   ]
  },
  {
   "cell_type": "code",
   "execution_count": null,
   "id": "df177e7c",
   "metadata": {},
   "outputs": [],
   "source": [
    "new_str = \"hello world\".split()\n",
    "type(new)"
   ]
  },
  {
   "cell_type": "code",
   "execution_count": 35,
   "id": "f2c03bbc",
   "metadata": {
    "ExecuteTime": {
     "end_time": "2021-08-11T05:47:49.824019Z",
     "start_time": "2021-08-11T05:47:49.820523Z"
    }
   },
   "outputs": [
    {
     "data": {
      "text/plain": [
       "False"
      ]
     },
     "execution_count": 35,
     "metadata": {},
     "output_type": "execute_result"
    }
   ],
   "source": [
    "str_test = 'This Assessment Is Taking Forever'\n",
    "str_test.endswith('t')"
   ]
  },
  {
   "cell_type": "code",
   "execution_count": 36,
   "id": "089a5668",
   "metadata": {
    "ExecuteTime": {
     "end_time": "2021-08-11T05:48:14.902193Z",
     "start_time": "2021-08-11T05:48:14.898802Z"
    }
   },
   "outputs": [
    {
     "data": {
      "text/plain": [
       "True"
      ]
     },
     "execution_count": 36,
     "metadata": {},
     "output_type": "execute_result"
    }
   ],
   "source": [
    "str_test.istitle()"
   ]
  },
  {
   "cell_type": "code",
   "execution_count": 37,
   "id": "5515d463",
   "metadata": {
    "ExecuteTime": {
     "end_time": "2021-08-11T05:48:28.898379Z",
     "start_time": "2021-08-11T05:48:28.886833Z"
    }
   },
   "outputs": [
    {
     "data": {
      "text/plain": [
       "False"
      ]
     },
     "execution_count": 37,
     "metadata": {},
     "output_type": "execute_result"
    }
   ],
   "source": [
    "str_test.isalpha()"
   ]
  },
  {
   "cell_type": "code",
   "execution_count": 38,
   "id": "c4995c99",
   "metadata": {
    "ExecuteTime": {
     "end_time": "2021-08-11T05:48:47.710946Z",
     "start_time": "2021-08-11T05:48:47.707128Z"
    }
   },
   "outputs": [
    {
     "data": {
      "text/plain": [
       "True"
      ]
     },
     "execution_count": 38,
     "metadata": {},
     "output_type": "execute_result"
    }
   ],
   "source": [
    "str_test.replace(' ', '').isalpha()"
   ]
  },
  {
   "cell_type": "code",
   "execution_count": 39,
   "id": "b5ba8bff",
   "metadata": {
    "ExecuteTime": {
     "end_time": "2021-08-11T05:49:05.283684Z",
     "start_time": "2021-08-11T05:49:05.279428Z"
    }
   },
   "outputs": [
    {
     "data": {
      "text/plain": [
       "True"
      ]
     },
     "execution_count": 39,
     "metadata": {},
     "output_type": "execute_result"
    }
   ],
   "source": [
    "'This' in str_test"
   ]
  },
  {
   "cell_type": "code",
   "execution_count": null,
   "id": "c2630799",
   "metadata": {},
   "outputs": [],
   "source": []
  }
 ],
 "metadata": {
  "kernelspec": {
   "display_name": "Python 3 (ipykernel)",
   "language": "python",
   "name": "python3"
  },
  "language_info": {
   "codemirror_mode": {
    "name": "ipython",
    "version": 3
   },
   "file_extension": ".py",
   "mimetype": "text/x-python",
   "name": "python",
   "nbconvert_exporter": "python",
   "pygments_lexer": "ipython3",
   "version": "3.9.6"
  }
 },
 "nbformat": 4,
 "nbformat_minor": 5
}
