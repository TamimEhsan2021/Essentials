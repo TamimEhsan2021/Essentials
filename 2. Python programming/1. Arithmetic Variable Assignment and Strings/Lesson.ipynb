{
 "cells": [
  {
   "cell_type": "markdown",
   "metadata": {},
   "source": [
    "# 1: Introduction, Arithmetic, Variable Assignment and Strings "
   ]
  },
  {
   "cell_type": "markdown",
   "metadata": {},
   "source": [
    "## Prerequisites\n",
    "- Enthusiasm for and determination to learn Python for Data Science.\n",
    "- Patience... lots of patience: this is essential for learning anything, but especially coding, where literally nothing will ever go right first time.\n",
    "\n",
    "## Learning objectives\n",
    "- Understand the difference between integers and floats.\n",
    "- Understand the difference between None and int 0.\n",
    "- Know how to use Python as a calculator.\n",
    "- Know how to assign variables, and variable naming conventions.\n",
    "- Understand strings and some basic string methods including .format().\n",
    "- Know how to perform indexing and slicing."
   ]
  },
  {
   "cell_type": "markdown",
   "metadata": {},
   "source": [
    "# Introduction"
   ]
  },
  {
   "cell_type": "markdown",
   "metadata": {},
   "source": [
    "## What is Python?\n",
    "- A coding language: a system of rules that can be used to operate a computer.\n",
    "- Dynamically typed (we will go into detail later).\n",
    "- Can have many uses (networks, games, graphics, apps).\n",
    "- We are focusing on data science applications of Python.\n",
    "- Python can be used for the whole data pipeline, from data input to model validation."
   ]
  },
  {
   "cell_type": "markdown",
   "metadata": {},
   "source": [
    "## What is an IDE?\n",
    "- Integrated Development Environment: a place to write programs in a language.\n",
    "- Most famous for Python are PyCharm and Jupyter Notebook (also Spyder).\n",
    "- We will use Jupyter Notebook (advantages/drawbacks will be clear over time).\n",
    "- Jupyter Notebook works using cells.\n",
    "- You input your code into each cell and then run the code per cell.\n",
    "- Each cell acts as a 'mini-script' which can be executed independently of other cells.\n",
    "- The file type of a Jupyter Notebook is a __.ipynb file__ (IPython NoteBook).\n",
    "- .ipynb files cannot be opened directly by any program on your computer; rather, you have to open Jupyter Notebook first and then open the file from inside it. This is due to the structure of the file (too complicated to cover here).\n",
    "- The other common type of Python file is a .py script: this is a single file written usually in a text editor, and when it is executed, the entirety of the code runs in one go, rather than individual blocks.\n",
    "- .py scripts can be opened using any text editor including TextEdit on Mac or the equivalent on Windows (also other text editors)."
   ]
  },
  {
   "cell_type": "markdown",
   "metadata": {},
   "source": [
    "## Jupyter Notebook\n",
    "- Has many keyboard shortcuts, you will get used to them.\n",
    "- Use Esc key to use shortcuts: use Esc + H to find a list.\n",
    "- 2 main types of cell:\n",
    "    - Code: this is self-explanatory.\n",
    "    - Markdown: used to write explanatory text/titles etc in a notebook."
   ]
  },
  {
   "cell_type": "markdown",
   "metadata": {},
   "source": [
    "## Comments\n",
    "- A comment is a piece of text added to code to explain it and make it easier to understand for anyone reading who isn't the author.\n",
    "- \\# at the start of a line indicates that a line is a comment in a code cell.\n",
    "- There are 2 schools of thought on comments: some argue that comments should be used extensively, others argue they should be minimal as the code should be self-explanatory.\n",
    "- Do not be afraid of adding quite a lot of comments at first; as you get better at coding you will begin to realise what requires a comment and what doesn't.\n",
    "- Remember __readability and reproducibility are paramount__. Use this to guide your usage of comments."
   ]
  },
  {
   "cell_type": "markdown",
   "metadata": {},
   "source": [
    "## Data Types in Python\n",
    "Python can take in many data types, these include:\n",
    "- Integers (int).\n",
    "- Floating Point Numbers (float).\n",
    "- Strings (str).\n",
    "- Lists (list).\n",
    "- Dictionaries (dict).\n",
    "- Tuples (tuple).\n",
    "- Sets (set).\n",
    "- Booleans (bool)."
   ]
  },
  {
   "cell_type": "markdown",
   "metadata": {},
   "source": [
    "## Numbers in Python\n",
    "- Numbers in Python are of two types: \n",
    "    - Integers (int).\n",
    "    - Floating-point numbers (float).\n",
    "- Put simply: \n",
    "    - An integer is an integer.\n",
    "    - A floating-point number is any number with a decimal point.\n",
    "- The only catch with floating-point numbers is that due to the nature of floating-point calculations, they are not exactly what you expect them to be, and hence it is often better to round them."
   ]
  },
  {
   "cell_type": "markdown",
   "metadata": {},
   "source": [
    "## Arithmetic in Python\n",
    "- Arithmetic is fairly simple: we use the standard operators: \n",
    "### / * + - <br>\n",
    "- Python will follow Order of Operations (BIDMAS).\n",
    "- We use double asterisk __\\*\\*__ for powers (roots are just fractional powers).\n",
    "- Division always returns a floating-point number.\n",
    "- There are a couple of special operations:\n",
    "    - Modulo (x%y) gives the remainder of dividing x by y.\n",
    "    - Floor division (x//y) gives the result of dividing x by y rounded down to the nearest integer.\n",
    "- When using arithmetic operators, leave one space either side by convention, unless not leaving a space makes it clearer."
   ]
  },
  {
   "cell_type": "code",
   "execution_count": 1,
   "metadata": {
    "ExecuteTime": {
     "end_time": "2021-08-01T16:38:56.269179Z",
     "start_time": "2021-08-01T16:38:56.244615Z"
    }
   },
   "outputs": [
    {
     "data": {
      "text/plain": [
       "3"
      ]
     },
     "execution_count": 1,
     "metadata": {},
     "output_type": "execute_result"
    }
   ],
   "source": [
    "# Addition\n",
    "2 + 1"
   ]
  },
  {
   "cell_type": "code",
   "execution_count": 2,
   "metadata": {
    "ExecuteTime": {
     "end_time": "2021-08-01T16:38:59.951137Z",
     "start_time": "2021-08-01T16:38:59.947641Z"
    }
   },
   "outputs": [
    {
     "data": {
      "text/plain": [
       "1"
      ]
     },
     "execution_count": 2,
     "metadata": {},
     "output_type": "execute_result"
    }
   ],
   "source": [
    "# Subtraction\n",
    "2 - 1"
   ]
  },
  {
   "cell_type": "code",
   "execution_count": 3,
   "metadata": {
    "ExecuteTime": {
     "end_time": "2021-08-01T16:39:04.741016Z",
     "start_time": "2021-08-01T16:39:04.737223Z"
    }
   },
   "outputs": [
    {
     "data": {
      "text/plain": [
       "4"
      ]
     },
     "execution_count": 3,
     "metadata": {},
     "output_type": "execute_result"
    }
   ],
   "source": [
    "# Multiplication\n",
    "2 * 2"
   ]
  },
  {
   "cell_type": "code",
   "execution_count": 4,
   "metadata": {
    "ExecuteTime": {
     "end_time": "2021-08-01T16:39:05.669909Z",
     "start_time": "2021-08-01T16:39:05.660807Z"
    }
   },
   "outputs": [
    {
     "data": {
      "text/plain": [
       "3.3333333333333335"
      ]
     },
     "execution_count": 4,
     "metadata": {},
     "output_type": "execute_result"
    }
   ],
   "source": [
    "# Division\n",
    "10 / 3"
   ]
  },
  {
   "cell_type": "markdown",
   "metadata": {},
   "source": [
    "# Floor Division\n",
    "7 // 4"
   ]
  },
  {
   "cell_type": "code",
   "execution_count": 5,
   "metadata": {
    "ExecuteTime": {
     "end_time": "2021-08-01T16:39:13.662821Z",
     "start_time": "2021-08-01T16:39:13.654274Z"
    }
   },
   "outputs": [
    {
     "data": {
      "text/plain": [
       "3"
      ]
     },
     "execution_count": 5,
     "metadata": {},
     "output_type": "execute_result"
    }
   ],
   "source": [
    "# Modulo\n",
    "7 % 4"
   ]
  },
  {
   "cell_type": "code",
   "execution_count": 6,
   "metadata": {
    "ExecuteTime": {
     "end_time": "2021-08-01T16:39:23.933741Z",
     "start_time": "2021-08-01T16:39:23.928945Z"
    }
   },
   "outputs": [
    {
     "data": {
      "text/plain": [
       "0"
      ]
     },
     "execution_count": 6,
     "metadata": {},
     "output_type": "execute_result"
    }
   ],
   "source": [
    "# If modulo 2 of a number is equal to zero, the number is even\n",
    "6 % 2"
   ]
  },
  {
   "cell_type": "code",
   "execution_count": 7,
   "metadata": {
    "ExecuteTime": {
     "end_time": "2021-08-01T16:39:46.041576Z",
     "start_time": "2021-08-01T16:39:46.030816Z"
    }
   },
   "outputs": [
    {
     "data": {
      "text/plain": [
       "8"
      ]
     },
     "execution_count": 7,
     "metadata": {},
     "output_type": "execute_result"
    }
   ],
   "source": [
    "# Powers\n",
    "2 ** 3"
   ]
  },
  {
   "cell_type": "code",
   "execution_count": 8,
   "metadata": {
    "ExecuteTime": {
     "end_time": "2021-08-01T16:39:53.958185Z",
     "start_time": "2021-08-01T16:39:53.948328Z"
    }
   },
   "outputs": [
    {
     "data": {
      "text/plain": [
       "2.0"
      ]
     },
     "execution_count": 8,
     "metadata": {},
     "output_type": "execute_result"
    }
   ],
   "source": [
    "# Can also do roots this way\n",
    "4 ** 0.5"
   ]
  },
  {
   "cell_type": "code",
   "execution_count": 9,
   "metadata": {
    "ExecuteTime": {
     "end_time": "2021-08-01T16:40:09.005032Z",
     "start_time": "2021-08-01T16:40:08.993024Z"
    }
   },
   "outputs": [
    {
     "data": {
      "text/plain": [
       "123"
      ]
     },
     "execution_count": 9,
     "metadata": {},
     "output_type": "execute_result"
    }
   ],
   "source": [
    "# Order of Operations followed in Python\n",
    "(2 + 10) * 10 + 3"
   ]
  },
  {
   "cell_type": "code",
   "execution_count": 10,
   "metadata": {
    "ExecuteTime": {
     "end_time": "2021-08-01T16:40:15.750295Z",
     "start_time": "2021-08-01T16:40:15.744896Z"
    }
   },
   "outputs": [
    {
     "data": {
      "text/plain": [
       "156"
      ]
     },
     "execution_count": 10,
     "metadata": {},
     "output_type": "execute_result"
    }
   ],
   "source": [
    "# Can use parentheses to specify orders\n",
    "(2 + 10) * (10 + 3)"
   ]
  },
  {
   "cell_type": "code",
   "execution_count": 11,
   "metadata": {
    "ExecuteTime": {
     "end_time": "2021-08-01T16:40:43.236095Z",
     "start_time": "2021-08-01T16:40:43.223449Z"
    }
   },
   "outputs": [
    {
     "data": {
      "text/plain": [
       "105"
      ]
     },
     "execution_count": 11,
     "metadata": {},
     "output_type": "execute_result"
    }
   ],
   "source": [
    "#without using parentheses\n",
    "2 + 10 * 10 + 3"
   ]
  },
  {
   "cell_type": "code",
   "execution_count": 17,
   "metadata": {
    "ExecuteTime": {
     "end_time": "2021-08-01T16:42:31.242902Z",
     "start_time": "2021-08-01T16:42:31.233591Z"
    }
   },
   "outputs": [
    {
     "name": "stdout",
     "output_type": "stream",
     "text": [
      "rounded 3.333\n",
      "not rounded 3.3333333333333335\n"
     ]
    }
   ],
   "source": [
    "# use round(expression, decimal_places) to give rounded answer\n",
    "print(\"rounded\",round(10/3, 3))\n",
    "print(\"not rounded\", (10/3))"
   ]
  },
  {
   "cell_type": "markdown",
   "metadata": {},
   "source": [
    "### NoneType\n",
    "- We must distinguish between None and 0 here.\n",
    "- None has data type 'NoneType' and is therefore a not a value (can use as placeholder before adding values).\n",
    "- 0 is an integer, and therefore a value, this shows that we have a value, but the value is the integer 0.\n",
    "- We can see this clearly when we check the types of each"
   ]
  },
  {
   "cell_type": "code",
   "execution_count": 18,
   "metadata": {
    "ExecuteTime": {
     "end_time": "2021-08-01T16:43:46.867579Z",
     "start_time": "2021-08-01T16:43:46.858604Z"
    }
   },
   "outputs": [
    {
     "data": {
      "text/plain": [
       "NoneType"
      ]
     },
     "execution_count": 18,
     "metadata": {},
     "output_type": "execute_result"
    }
   ],
   "source": [
    "type(None)"
   ]
  },
  {
   "cell_type": "code",
   "execution_count": 19,
   "metadata": {
    "ExecuteTime": {
     "end_time": "2021-08-01T16:43:48.112449Z",
     "start_time": "2021-08-01T16:43:48.103725Z"
    }
   },
   "outputs": [
    {
     "data": {
      "text/plain": [
       "int"
      ]
     },
     "execution_count": 19,
     "metadata": {},
     "output_type": "execute_result"
    }
   ],
   "source": [
    "type(0)"
   ]
  },
  {
   "cell_type": "code",
   "execution_count": 20,
   "metadata": {
    "ExecuteTime": {
     "end_time": "2021-08-01T16:44:02.623530Z",
     "start_time": "2021-08-01T16:44:02.615322Z"
    }
   },
   "outputs": [
    {
     "data": {
      "text/plain": [
       "1"
      ]
     },
     "execution_count": 20,
     "metadata": {},
     "output_type": "execute_result"
    }
   ],
   "source": [
    "# 0 + 1 works as they are both numbers\n",
    "0 + 1"
   ]
  },
  {
   "cell_type": "code",
   "execution_count": 21,
   "metadata": {
    "ExecuteTime": {
     "end_time": "2021-08-01T16:44:10.225507Z",
     "start_time": "2021-08-01T16:44:10.140173Z"
    }
   },
   "outputs": [
    {
     "ename": "TypeError",
     "evalue": "unsupported operand type(s) for +: 'NoneType' and 'int'",
     "output_type": "error",
     "traceback": [
      "\u001b[0;31m---------------------------------------------------------------------------\u001b[0m",
      "\u001b[0;31mTypeError\u001b[0m                                 Traceback (most recent call last)",
      "\u001b[0;32m/tmp/ipykernel_275074/2944600579.py\u001b[0m in \u001b[0;36m<module>\u001b[0;34m\u001b[0m\n\u001b[1;32m      1\u001b[0m \u001b[0;31m# None + 1 throws an error, as None means there is nothing there\u001b[0m\u001b[0;34m\u001b[0m\u001b[0;34m\u001b[0m\u001b[0;34m\u001b[0m\u001b[0m\n\u001b[0;32m----> 2\u001b[0;31m \u001b[0;32mNone\u001b[0m \u001b[0;34m+\u001b[0m \u001b[0;36m1\u001b[0m\u001b[0;34m\u001b[0m\u001b[0;34m\u001b[0m\u001b[0m\n\u001b[0m",
      "\u001b[0;31mTypeError\u001b[0m: unsupported operand type(s) for +: 'NoneType' and 'int'"
     ]
    }
   ],
   "source": [
    "# None + 1 throws an error, as None means there is nothing there\n",
    "None + 1"
   ]
  },
  {
   "cell_type": "code",
   "execution_count": null,
   "metadata": {},
   "outputs": [],
   "source": []
  },
  {
   "cell_type": "markdown",
   "metadata": {},
   "source": [
    "## Numbers Exercises\n",
    "- Click on the markdown cells where it says \"Answer here\" to type inside them.\n",
    "- Add your code to the commented cells saying \"CODE HERE\"."
   ]
  },
  {
   "cell_type": "markdown",
   "metadata": {},
   "source": [
    "### Question 1:\n",
    "What is the difference between an integer and a floating-point number?"
   ]
  },
  {
   "cell_type": "markdown",
   "metadata": {},
   "source": [
    "<font color='green'> <h3> Answer 1 </h3> </font> \n",
    "\n",
    "An interger is a whole number where floating-point is has a decimal in it"
   ]
  },
  {
   "cell_type": "markdown",
   "metadata": {},
   "source": [
    "### Question 2:\n",
    "Write an expression using addition & subtraction & multiplication & division that is equal to 1044.75"
   ]
  },
  {
   "cell_type": "code",
   "execution_count": 27,
   "metadata": {
    "ExecuteTime": {
     "end_time": "2021-08-01T16:50:00.561230Z",
     "start_time": "2021-08-01T16:50:00.551578Z"
    }
   },
   "outputs": [
    {
     "data": {
      "text/plain": [
       "1044.75"
      ]
     },
     "execution_count": 27,
     "metadata": {},
     "output_type": "execute_result"
    }
   ],
   "source": [
    "# CODE HERE\n",
    "1044.75 + 3 - 3 /10 * 5 * 2"
   ]
  },
  {
   "cell_type": "markdown",
   "metadata": {},
   "source": [
    "<font color='green'> <h3> Answer 2 </h3> </font> \n",
    "\n",
    "The reason why \n",
    "1044.75 + 3 - 3 /10 * 5 *2 = 1044.75 is because python does operations in the following way\n",
    "- Divide\n",
    "- multiplication\n",
    "- addition \n",
    "- subtraction\n",
    "\n",
    "Therefore it will do \n",
    "- 3/10\n",
    "- 0.3*5\n",
    "- 1.5*3\n",
    "- 3-3\n",
    "- 1044.75"
   ]
  },
  {
   "cell_type": "markdown",
   "metadata": {},
   "source": [
    "### Question 3:\n",
    "What is the modulo operator and name one function of it?"
   ]
  },
  {
   "cell_type": "markdown",
   "metadata": {},
   "source": [
    "<font color='green'> <h3> Answer 3 </h3> </font>\n",
    "\n",
    "The modulo operator gives you the remander of two numbers. This can be used to determine whether a number is odd or even.\n",
    "\n",
    "if x % y == 0 then x is even other wise its odd"
   ]
  },
  {
   "cell_type": "code",
   "execution_count": 29,
   "metadata": {
    "ExecuteTime": {
     "end_time": "2021-08-01T16:59:33.229522Z",
     "start_time": "2021-08-01T16:59:33.220527Z"
    }
   },
   "outputs": [
    {
     "data": {
      "text/plain": [
       "2"
      ]
     },
     "execution_count": 29,
     "metadata": {},
     "output_type": "execute_result"
    }
   ],
   "source": [
    "12 % 5"
   ]
  },
  {
   "cell_type": "markdown",
   "metadata": {},
   "source": [
    "### Question 4:\n",
    "What is the difference between normal and floor division?"
   ]
  },
  {
   "cell_type": "code",
   "execution_count": 30,
   "metadata": {
    "ExecuteTime": {
     "end_time": "2021-08-01T16:59:42.600896Z",
     "start_time": "2021-08-01T16:59:42.592896Z"
    }
   },
   "outputs": [
    {
     "data": {
      "text/plain": [
       "1.3333333333333333"
      ]
     },
     "execution_count": 30,
     "metadata": {},
     "output_type": "execute_result"
    }
   ],
   "source": [
    "4/3"
   ]
  },
  {
   "cell_type": "code",
   "execution_count": 31,
   "metadata": {
    "ExecuteTime": {
     "end_time": "2021-08-01T16:59:49.078138Z",
     "start_time": "2021-08-01T16:59:49.066811Z"
    }
   },
   "outputs": [
    {
     "data": {
      "text/plain": [
       "1"
      ]
     },
     "execution_count": 31,
     "metadata": {},
     "output_type": "execute_result"
    }
   ],
   "source": [
    "4 // 3\n"
   ]
  },
  {
   "cell_type": "markdown",
   "metadata": {},
   "source": [
    "<font color='green'> <h3> Answer 4 </h3> </font> \n",
    "- Normal division gives the number with all of the numbers after the decimal point\n",
    "- Floor division outputs an interger rounded down"
   ]
  },
  {
   "cell_type": "markdown",
   "metadata": {},
   "source": [
    "### Question 5:\n",
    "What is 1 \\+ 2 \\* 3 \\- 4 / 6(6 \\+ 7) \\* 8 \\*\\* 9?"
   ]
  },
  {
   "cell_type": "code",
   "execution_count": 32,
   "metadata": {
    "ExecuteTime": {
     "end_time": "2021-08-01T17:02:23.934528Z",
     "start_time": "2021-08-01T17:02:23.925351Z"
    }
   },
   "outputs": [
    {
     "data": {
      "text/plain": [
       "-1163220302.3333333"
      ]
     },
     "execution_count": 32,
     "metadata": {},
     "output_type": "execute_result"
    }
   ],
   "source": [
    "# CODE HERE\n",
    "1 + 2 * 3 - 4 / 6*(6 + 7) * 8 ** 9"
   ]
  },
  {
   "cell_type": "code",
   "execution_count": null,
   "metadata": {},
   "outputs": [],
   "source": []
  },
  {
   "cell_type": "markdown",
   "metadata": {},
   "source": [
    "## Variable Assignment\n",
    "- Often we want to use the same object repeatedly, and hence rather than defining it repeatedly in code we can assign a variable which we use instead.\n",
    "- This concept is called DRY coding (Don't Repeat Yourself): we will see many examples of this throughout.\n",
    "- We assign variables by using the equals sign __=__ in Python\n",
    "- Python is dynamically typed: if you assign a variable, it can be changed to something else later in your code (NOT like C which is statically typed).\n",
    "- Variables are named using the following guidelines:"
   ]
  },
  {
   "cell_type": "markdown",
   "metadata": {},
   "source": [
    "## Variable Naming\n",
    "1. Use __snake_case__: all lowercase, no spaces, underscores \\_ instead.\n",
    "2. Names cannot start with a number or use these symbols: \n",
    "## \\:\\'\\\"\\,\\<\\>\\/\\?\\|\\\\\\(\\)\\!@\\#\\$\\%\\^\\&\\*\\~\\-\\+\n",
    "<br>\n",
    "3. Avoid using 'l' (lowercase l), 'O' (uppercase o), or 'I' (uppercase i) as single character names.\n",
    "4. Do __NOT__ use Python keywords (see below for a list of keywords).\n",
    "<br><br>\n",
    "__If you reassign a Python keyword by accident, use Kernel --> Restart to reset everything back to normal.__ \n",
    "<br><br>\n",
    "See PEP8 for further details: https://www.python.org/dev/peps/pep-0008/"
   ]
  },
  {
   "cell_type": "code",
   "execution_count": 33,
   "metadata": {
    "ExecuteTime": {
     "end_time": "2021-08-01T17:07:25.299144Z",
     "start_time": "2021-08-01T17:07:25.289089Z"
    }
   },
   "outputs": [
    {
     "name": "stdout",
     "output_type": "stream",
     "text": [
      "False\n",
      "None\n",
      "True\n",
      "__peg_parser__\n",
      "and\n",
      "as\n",
      "assert\n",
      "async\n",
      "await\n",
      "break\n",
      "class\n",
      "continue\n",
      "def\n",
      "del\n",
      "elif\n",
      "else\n",
      "except\n",
      "finally\n",
      "for\n",
      "from\n",
      "global\n",
      "if\n",
      "import\n",
      "in\n",
      "is\n",
      "lambda\n",
      "nonlocal\n",
      "not\n",
      "or\n",
      "pass\n",
      "raise\n",
      "return\n",
      "try\n",
      "while\n",
      "with\n",
      "yield\n"
     ]
    }
   ],
   "source": [
    "# List of keywords\n",
    "import keyword\n",
    "\n",
    "for i in keyword.kwlist:\n",
    "    print(i)"
   ]
  },
  {
   "cell_type": "markdown",
   "metadata": {},
   "source": [
    "Here we create an object named x (a variable) and give it the integer value 5. <br>\n",
    "The \\= sign assigns the value on the right to the object on the left:"
   ]
  },
  {
   "cell_type": "code",
   "execution_count": 34,
   "metadata": {
    "ExecuteTime": {
     "end_time": "2021-08-01T17:07:46.032148Z",
     "start_time": "2021-08-01T17:07:46.029132Z"
    }
   },
   "outputs": [],
   "source": [
    "x = 3"
   ]
  },
  {
   "cell_type": "markdown",
   "metadata": {},
   "source": [
    "This is called calling the variable:"
   ]
  },
  {
   "cell_type": "code",
   "execution_count": 35,
   "metadata": {
    "ExecuteTime": {
     "end_time": "2021-08-01T17:07:47.415686Z",
     "start_time": "2021-08-01T17:07:47.406931Z"
    }
   },
   "outputs": [
    {
     "data": {
      "text/plain": [
       "3"
      ]
     },
     "execution_count": 35,
     "metadata": {},
     "output_type": "execute_result"
    }
   ],
   "source": [
    "x"
   ]
  },
  {
   "cell_type": "markdown",
   "metadata": {},
   "source": [
    "Arithmetic done using variables uses the system of the underlying objects (differs between data types). <br>\n",
    "We will see how this works as we discover more data types:"
   ]
  },
  {
   "cell_type": "code",
   "execution_count": 36,
   "metadata": {
    "ExecuteTime": {
     "end_time": "2021-08-01T17:08:01.233540Z",
     "start_time": "2021-08-01T17:08:01.224349Z"
    }
   },
   "outputs": [
    {
     "data": {
      "text/plain": [
       "6"
      ]
     },
     "execution_count": 36,
     "metadata": {},
     "output_type": "execute_result"
    }
   ],
   "source": [
    "x + x"
   ]
  },
  {
   "cell_type": "markdown",
   "metadata": {},
   "source": [
    "We can reassign x to be 10 with no errors: this is called reassignment and is an example of __'dynamic typing'__.<br>\n",
    "In a __'statically typed'__ language such as C, this would throw an error:"
   ]
  },
  {
   "cell_type": "code",
   "execution_count": 37,
   "metadata": {
    "ExecuteTime": {
     "end_time": "2021-08-01T17:08:12.314703Z",
     "start_time": "2021-08-01T17:08:12.308698Z"
    }
   },
   "outputs": [],
   "source": [
    "x = 10"
   ]
  },
  {
   "cell_type": "markdown",
   "metadata": {},
   "source": [
    "We can now see x has changed from 3 to 10:"
   ]
  },
  {
   "cell_type": "code",
   "execution_count": 38,
   "metadata": {
    "ExecuteTime": {
     "end_time": "2021-08-01T17:08:17.399597Z",
     "start_time": "2021-08-01T17:08:17.390393Z"
    }
   },
   "outputs": [
    {
     "data": {
      "text/plain": [
       "10"
      ]
     },
     "execution_count": 38,
     "metadata": {},
     "output_type": "execute_result"
    }
   ],
   "source": [
    "x"
   ]
  },
  {
   "cell_type": "markdown",
   "metadata": {},
   "source": [
    "#### A short note on the print() function\n",
    "- Before, we have just called the variable, now we see how to display it.\n",
    "- The print() function __displays__ the output rather than just returning it: in Jupyter Notebook this often makes no practical difference, but when working in other IDEs, you may not see the output unless you print it.\n",
    "- This becomes obvious when you want to see 2 things from a cell: Jupyter Notebook will __only show you the latest call__.\n",
    "- print() statements can be used to display multiple outputs.\n",
    "- We can specify the 'end' parameter inside the print() function to change how a print() statement ends.\n",
    "- e.g. __end = \"\\n\\n\" provides a new line after the print() output: this can be useful to make the output more readable__.\n",
    "- A blank print() statement also gives a new line."
   ]
  },
  {
   "cell_type": "code",
   "execution_count": 39,
   "metadata": {
    "ExecuteTime": {
     "end_time": "2021-08-01T17:09:27.974630Z",
     "start_time": "2021-08-01T17:09:27.965115Z"
    }
   },
   "outputs": [
    {
     "data": {
      "text/plain": [
       "2"
      ]
     },
     "execution_count": 39,
     "metadata": {},
     "output_type": "execute_result"
    }
   ],
   "source": [
    "# assigning a and b\n",
    "a = 1\n",
    "b = 2\n",
    "\n",
    "# calling a and b\n",
    "a\n",
    "b"
   ]
  },
  {
   "cell_type": "code",
   "execution_count": 40,
   "metadata": {
    "ExecuteTime": {
     "end_time": "2021-08-01T17:09:36.492949Z",
     "start_time": "2021-08-01T17:09:36.485221Z"
    }
   },
   "outputs": [
    {
     "name": "stdout",
     "output_type": "stream",
     "text": [
      "1\n",
      "2\n"
     ]
    }
   ],
   "source": [
    "# printing a and b\n",
    "print(a)\n",
    "print(b)"
   ]
  },
  {
   "cell_type": "code",
   "execution_count": 41,
   "metadata": {
    "ExecuteTime": {
     "end_time": "2021-08-01T17:09:40.700983Z",
     "start_time": "2021-08-01T17:09:40.693599Z"
    }
   },
   "outputs": [
    {
     "name": "stdout",
     "output_type": "stream",
     "text": [
      "1\n",
      "\n",
      "2\n"
     ]
    }
   ],
   "source": [
    "# using end to give a new line\n",
    "print(a, end=\"\\n\\n\")\n",
    "print(b)"
   ]
  },
  {
   "cell_type": "code",
   "execution_count": 42,
   "metadata": {
    "ExecuteTime": {
     "end_time": "2021-08-01T17:09:45.150378Z",
     "start_time": "2021-08-01T17:09:45.147066Z"
    }
   },
   "outputs": [
    {
     "name": "stdout",
     "output_type": "stream",
     "text": [
      "1\n",
      "\n",
      "2\n"
     ]
    }
   ],
   "source": [
    "# using a blank print statement to give a new line\n",
    "print(a)\n",
    "print()\n",
    "print(b)"
   ]
  },
  {
   "cell_type": "markdown",
   "metadata": {},
   "source": [
    "## Back to Variable Assignment...\n",
    "We can even redefine x using x itself. <br>\n",
    "Here, x is being __called__ on the right of the = sign, and being *redefined* on the left. <br>\n",
    "We can think of this as *new x* = __old x__ + __old x__ (*new x* = __10__ + __10__):"
   ]
  },
  {
   "cell_type": "code",
   "execution_count": 43,
   "metadata": {
    "ExecuteTime": {
     "end_time": "2021-08-01T17:10:17.780756Z",
     "start_time": "2021-08-01T17:10:17.774019Z"
    }
   },
   "outputs": [],
   "source": [
    "x = x + x"
   ]
  },
  {
   "cell_type": "markdown",
   "metadata": {},
   "source": [
    "x is now equal to 20:"
   ]
  },
  {
   "cell_type": "code",
   "execution_count": 44,
   "metadata": {
    "ExecuteTime": {
     "end_time": "2021-08-01T17:10:20.198506Z",
     "start_time": "2021-08-01T17:10:20.189420Z"
    }
   },
   "outputs": [
    {
     "data": {
      "text/plain": [
       "20"
      ]
     },
     "execution_count": 44,
     "metadata": {},
     "output_type": "execute_result"
    }
   ],
   "source": [
    "x"
   ]
  },
  {
   "cell_type": "code",
   "execution_count": 45,
   "metadata": {
    "ExecuteTime": {
     "end_time": "2021-08-01T17:10:33.707949Z",
     "start_time": "2021-08-01T17:10:33.703033Z"
    }
   },
   "outputs": [
    {
     "data": {
      "text/plain": [
       "12.0"
      ]
     },
     "execution_count": 45,
     "metadata": {},
     "output_type": "execute_result"
    }
   ],
   "source": [
    "# clearly named variables are key when writing production-quality code\n",
    "shopping_bill = 10.00\n",
    "\n",
    "vat_rate = 1.2\n",
    "\n",
    "bill_with_vat = shopping_bill * vat_rate\n",
    "\n",
    "bill_with_vat"
   ]
  },
  {
   "cell_type": "code",
   "execution_count": null,
   "metadata": {},
   "outputs": [],
   "source": []
  },
  {
   "cell_type": "markdown",
   "metadata": {},
   "source": [
    "## Variable Assignment Exercises"
   ]
  },
  {
   "cell_type": "markdown",
   "metadata": {},
   "source": [
    "Use variable assignment to calculate some shopping bills:\n",
    "- Tomatoes cost 87p for a pack of 6\n",
    "- 500g sugar costs £1.09\n",
    "- Washing sponges cost 29p for a pack of 10\n",
    "- Juice is £1.89 per 1.5l bottle\n",
    "- Foil is £1.29 per 30m roll"
   ]
  },
  {
   "cell_type": "markdown",
   "metadata": {},
   "source": [
    "### Question 1:\n",
    "Assign variables for each of these items and their prices"
   ]
  },
  {
   "cell_type": "code",
   "execution_count": 46,
   "metadata": {
    "ExecuteTime": {
     "end_time": "2021-08-01T17:11:04.015051Z",
     "start_time": "2021-08-01T17:11:04.008614Z"
    }
   },
   "outputs": [],
   "source": [
    "# CODE HERE\n",
    "tomatoes = 0.87\n",
    "sugar500g = 1.09\n",
    "sponges10 = 0.29\n",
    "juice1_5L = 1.89\n",
    "foil30m = 1.29"
   ]
  },
  {
   "cell_type": "markdown",
   "metadata": {},
   "source": [
    "### Question 2:\n",
    "    \n",
    "How much for 1kg sugar?"
   ]
  },
  {
   "cell_type": "code",
   "execution_count": 47,
   "metadata": {
    "ExecuteTime": {
     "end_time": "2021-08-01T17:11:15.498004Z",
     "start_time": "2021-08-01T17:11:15.494139Z"
    }
   },
   "outputs": [
    {
     "data": {
      "text/plain": [
       "2.18"
      ]
     },
     "execution_count": 47,
     "metadata": {},
     "output_type": "execute_result"
    }
   ],
   "source": [
    "# CODE HERE\n",
    "2*sugar500g"
   ]
  },
  {
   "cell_type": "markdown",
   "metadata": {},
   "source": [
    "### Question 3:\n",
    "\n",
    "How much for 20 washing sponges, 3l of juice, 2 packs of tomatoes?"
   ]
  },
  {
   "cell_type": "code",
   "execution_count": 49,
   "metadata": {
    "ExecuteTime": {
     "end_time": "2021-08-01T17:12:18.004256Z",
     "start_time": "2021-08-01T17:12:17.995860Z"
    }
   },
   "outputs": [
    {
     "name": "stdout",
     "output_type": "stream",
     "text": [
      "Without paranthesis 6.1\n",
      "With paranthesis 6.1\n"
     ]
    }
   ],
   "source": [
    "# CODE HERE\n",
    "print(\"Without paranthesis\",2 * sponges10 + 2 * juice1_5L + 2 * tomatoes)\n",
    "\n",
    "print(\"With paranthesis\",2 * (sponges10 + juice1_5L + tomatoes))"
   ]
  },
  {
   "cell_type": "markdown",
   "metadata": {},
   "source": [
    "### Question 4:\n",
    "\n",
    "How much to shop for 5 people, if they each need:\n",
    "- A pack of tomatoes\n",
    "- 3 washing sponges\n",
    "- A litre of juice\n",
    "- 20m of foil\n",
    "- 180g sugar\n",
    "<br><br>\n",
    "Bear in mind, you can only purchase items in full packs from a shop, but they can be divided up at home.\n",
    "<br><br>\n",
    "Provide your answer as a printed variable called 'total'."
   ]
  },
  {
   "cell_type": "code",
   "execution_count": 55,
   "metadata": {
    "ExecuteTime": {
     "end_time": "2021-08-01T17:22:53.666464Z",
     "start_time": "2021-08-01T17:22:53.662402Z"
    }
   },
   "outputs": [
    {
     "name": "stdout",
     "output_type": "stream",
     "text": [
      "19.83\n"
     ]
    }
   ],
   "source": [
    "# CODE HERE\n",
    "total = (5 * tomatoes) + (2 * sponges10) + (4 * juice1_5L) + (4 * foil30m) + (2 * sugar500g)\n",
    "print(total)"
   ]
  },
  {
   "cell_type": "markdown",
   "metadata": {},
   "source": [
    "### Question 5:\n",
    "These prices do not include VAT, calculate the VAT on the shopping from Question 4, and then calculate the total with VAT. <br>\n",
    "Provide both numbers rounded appropriately for pricing in pounds and pence. VAT is 20%."
   ]
  },
  {
   "cell_type": "code",
   "execution_count": 59,
   "metadata": {
    "ExecuteTime": {
     "end_time": "2021-08-01T17:24:41.065634Z",
     "start_time": "2021-08-01T17:24:41.057143Z"
    }
   },
   "outputs": [
    {
     "name": "stdout",
     "output_type": "stream",
     "text": [
      "3.97\n",
      "23.8\n"
     ]
    }
   ],
   "source": [
    "# CODE HERE\n",
    "VAT = round((20/100)*total,2)\n",
    "vat_total = total + VAT\n",
    "print(VAT)\n",
    "print(round(vat_total,2))"
   ]
  },
  {
   "cell_type": "code",
   "execution_count": null,
   "metadata": {},
   "outputs": [],
   "source": []
  },
  {
   "cell_type": "markdown",
   "metadata": {},
   "source": [
    "## Strings in Python\n",
    "- Strings (str) are a way of representing textual information in Python.\n",
    "- They are denoted by quotation marks: single ('') or double (\"\").\n",
    "- It is usually best to use double speech marks, as apostrophes in text can prematurely end a string.\n",
    "- Apostrophes or other special characters in strings can be escaped using the backslash \\\\ character."
   ]
  },
  {
   "cell_type": "markdown",
   "metadata": {},
   "source": [
    "## String Functions and Methods\n",
    "- print() displays the output contained within it.\n",
    "- For strings, print() interprets escape characters (tabs, new lines etc.) and displays the string without quotations.\n",
    "- A method is a function associated with an object.\n",
    "- Strings have many associated methods, we will look at a few here.\n",
    "- Can find the rest at: \n",
    "<br> https://docs.python.org/2/library/stdtypes.html#string-methods"
   ]
  },
  {
   "cell_type": "code",
   "execution_count": 65,
   "metadata": {},
   "outputs": [
    {
     "name": "stdout",
     "output_type": "stream",
     "text": [
      "hi\n"
     ]
    }
   ],
   "source": [
    "x = \"Hello World\"\n",
    "print('hi')"
   ]
  },
  {
   "cell_type": "code",
   "execution_count": 19,
   "metadata": {},
   "outputs": [
    {
     "ename": "SyntaxError",
     "evalue": "invalid syntax (<ipython-input-19-f68951f46ab8>, line 1)",
     "output_type": "error",
     "traceback": [
      "\u001b[0;36m  File \u001b[0;32m\"<ipython-input-19-f68951f46ab8>\"\u001b[0;36m, line \u001b[0;32m1\u001b[0m\n\u001b[0;31m    print('What's the problem here?')\u001b[0m\n\u001b[0m                ^\u001b[0m\n\u001b[0;31mSyntaxError\u001b[0m\u001b[0;31m:\u001b[0m invalid syntax\n"
     ]
    }
   ],
   "source": [
    "# Using single quotations can be problematic, here, the apostrophe ends the string early\n",
    "print('What's the problem here?')"
   ]
  },
  {
   "cell_type": "code",
   "execution_count": 20,
   "metadata": {},
   "outputs": [
    {
     "name": "stdout",
     "output_type": "stream",
     "text": [
      "What's the problem here?\n"
     ]
    }
   ],
   "source": [
    "# we can use double quotations\n",
    "print(\"What's the problem here?\")"
   ]
  },
  {
   "cell_type": "code",
   "execution_count": 21,
   "metadata": {},
   "outputs": [
    {
     "name": "stdout",
     "output_type": "stream",
     "text": [
      "What's the \"problem\" here?\n"
     ]
    }
   ],
   "source": [
    "# or backslash if we have single and double quotes\n",
    "print(\"What\\'s the \\\"problem\\\" here?\")"
   ]
  },
  {
   "cell_type": "code",
   "execution_count": 73,
   "metadata": {},
   "outputs": [
    {
     "name": "stdout",
     "output_type": "stream",
     "text": [
      "HELLO WORLD\n",
      "Hello World\n"
     ]
    },
    {
     "data": {
      "text/plain": [
       "1"
      ]
     },
     "execution_count": 73,
     "metadata": {},
     "output_type": "execute_result"
    }
   ],
   "source": [
    "# .upper() method makes all caps (not inplace)\n",
    "print(x.upper())\n",
    "print(x)\n",
    "\n",
    "\n",
    "y = 1\n",
    "y = str(1)\n",
    "y = int(y)\n",
    "round(y)"
   ]
  },
  {
   "cell_type": "code",
   "execution_count": 19,
   "metadata": {},
   "outputs": [
    {
     "name": "stdout",
     "output_type": "stream",
     "text": [
      "Hello World\n",
      "HELLO WORLD\n"
     ]
    }
   ],
   "source": [
    "# if we want to change x itself, we must reassign it\n",
    "print(x)\n",
    "\n",
    "x = x.upper()\n",
    "\n",
    "print(x)"
   ]
  },
  {
   "cell_type": "code",
   "execution_count": 56,
   "metadata": {},
   "outputs": [
    {
     "name": "stdout",
     "output_type": "stream",
     "text": [
      "hello world\n"
     ]
    }
   ],
   "source": [
    "# .lower() method makes all lowercase (not inplace)\n",
    "print(x.lower())"
   ]
  },
  {
   "cell_type": "code",
   "execution_count": 57,
   "metadata": {},
   "outputs": [
    {
     "name": "stdout",
     "output_type": "stream",
     "text": [
      "['Hello', 'World']\n",
      "['Hell', ' W', 'rld']\n"
     ]
    }
   ],
   "source": [
    "# .split() method splits on space as default or desired separator\n",
    "print(x.split())\n",
    "print(x.split(\"o\"))"
   ]
  },
  {
   "cell_type": "markdown",
   "metadata": {},
   "source": [
    "## .format Method\n",
    "- The .format method is a way of inserting something into a string.\n",
    "- This can be other strings or a variable taken from elsewhere in your code.\n",
    "- The syntax used is detailed below.\n",
    "- When using .format to add in a float to a string, we can specify the width and precision of the decimal."
   ]
  },
  {
   "cell_type": "code",
   "execution_count": 65,
   "metadata": {},
   "outputs": [
    {
     "name": "stdout",
     "output_type": "stream",
     "text": [
      "The fox brown quick\n"
     ]
    }
   ],
   "source": [
    "# default prints in order\n",
    "print(\"The {} {} {}\".format(\"fox\", \"brown\", \"quick\"))"
   ]
  },
  {
   "cell_type": "code",
   "execution_count": 66,
   "metadata": {},
   "outputs": [
    {
     "name": "stdout",
     "output_type": "stream",
     "text": [
      "The quick brown fox\n"
     ]
    }
   ],
   "source": [
    "# can index\n",
    "print(\"The {2} {1} {0}\".format(\"fox\", \"brown\", \"quick\"))"
   ]
  },
  {
   "cell_type": "code",
   "execution_count": 68,
   "metadata": {},
   "outputs": [
    {
     "name": "stdout",
     "output_type": "stream",
     "text": [
      "The quick brown fox\n"
     ]
    }
   ],
   "source": [
    "# can use variable keys for readability\n",
    "print(\"The {q} {b} {f}\".format(f=\"fox\", b=\"brown\", q=\"quick\"))"
   ]
  },
  {
   "cell_type": "code",
   "execution_count": 16,
   "metadata": {},
   "outputs": [
    {
     "name": "stdout",
     "output_type": "stream",
     "text": [
      "0.1287001287001287\n",
      "\n",
      "The result was 0.129\n",
      "The result was 0.129\n",
      "The result was 0.1287001\n",
      "The result was    0.129\n"
     ]
    }
   ],
   "source": [
    "# create long decimal\n",
    "result = 100/777\n",
    "print(result, end = \"\\n\\n\")\n",
    "\n",
    "# use value:width.precisionf for formatting\n",
    "# width is minimum length of string, padded with whitespace if necessary\n",
    "# precision is decimal places\n",
    "print(\"The result was {:1.3f}\".format(result))\n",
    "print(\"The result was {r:1.3f}\".format(r=result))\n",
    "print(\"The result was {r:1.7f}\".format(r=result))\n",
    "print(\"The result was {r:8.3f}\".format(r=result))"
   ]
  },
  {
   "cell_type": "markdown",
   "metadata": {},
   "source": [
    "## String Indexing and Slicing\n",
    "- Strings are iterable, meaning they can return their elements one at a time.\n",
    "- Strings are also immutable, meaning their elements cannot be changed once assigned.\n",
    "- They must be __REASSIGNED__ in order to change them.\n",
    "- Each character in the string is one element: this includes spaces and punctuation.\n",
    "- We can make use of this to call back one element (indexing).\n",
    "- Or a range of elements (slicing)."
   ]
  },
  {
   "cell_type": "markdown",
   "metadata": {},
   "source": [
    "In Python:\n",
    "- Indexing starts at 0 (zero).\n",
    "- Slicing is inclusive at the lower bound (including).\n",
    "- Slicing is exclusive at the upper bound (up to but not including)."
   ]
  },
  {
   "cell_type": "code",
   "execution_count": 20,
   "metadata": {},
   "outputs": [],
   "source": [
    "my_first_string = \"Hello World\""
   ]
  },
  {
   "cell_type": "code",
   "execution_count": 15,
   "metadata": {},
   "outputs": [
    {
     "data": {
      "text/plain": [
       "'H'"
      ]
     },
     "execution_count": 15,
     "metadata": {},
     "output_type": "execute_result"
    }
   ],
   "source": [
    "# Index 0 gives first element\n",
    "my_first_string[0]"
   ]
  },
  {
   "cell_type": "markdown",
   "metadata": {},
   "source": [
    "Use colon to indicate slice, 1:4 returns 2nd (index 1), 3rd (index 2), 4th (index 3) items __but not 5th (index 4)__:"
   ]
  },
  {
   "cell_type": "code",
   "execution_count": 16,
   "metadata": {},
   "outputs": [
    {
     "data": {
      "text/plain": [
       "'ell'"
      ]
     },
     "execution_count": 16,
     "metadata": {},
     "output_type": "execute_result"
    }
   ],
   "source": [
    "my_first_string[1:4]"
   ]
  },
  {
   "cell_type": "markdown",
   "metadata": {},
   "source": [
    "Absent upper bound starts with first index indicated and gives everything beyond:"
   ]
  },
  {
   "cell_type": "code",
   "execution_count": 17,
   "metadata": {},
   "outputs": [
    {
     "data": {
      "text/plain": [
       "'ello World'"
      ]
     },
     "execution_count": 17,
     "metadata": {},
     "output_type": "execute_result"
    }
   ],
   "source": [
    "my_first_string[1:]"
   ]
  },
  {
   "cell_type": "markdown",
   "metadata": {},
   "source": [
    "Absent lower bound starts from index 0, up to but not including upper bound:"
   ]
  },
  {
   "cell_type": "code",
   "execution_count": 18,
   "metadata": {},
   "outputs": [
    {
     "data": {
      "text/plain": [
       "'Hel'"
      ]
     },
     "execution_count": 18,
     "metadata": {},
     "output_type": "execute_result"
    }
   ],
   "source": [
    "my_first_string[:3]"
   ]
  },
  {
   "cell_type": "markdown",
   "metadata": {},
   "source": [
    "We cannot change elements of a string:"
   ]
  },
  {
   "cell_type": "code",
   "execution_count": 21,
   "metadata": {},
   "outputs": [
    {
     "ename": "TypeError",
     "evalue": "'str' object does not support item assignment",
     "output_type": "error",
     "traceback": [
      "\u001b[0;31m---------------------------------------------------------------------------\u001b[0m",
      "\u001b[0;31mTypeError\u001b[0m                                 Traceback (most recent call last)",
      "\u001b[0;32m<ipython-input-21-987619901b59>\u001b[0m in \u001b[0;36m<module>\u001b[0;34m\u001b[0m\n\u001b[1;32m      1\u001b[0m \u001b[0;31m# we cannot change elements of a string\u001b[0m\u001b[0;34m\u001b[0m\u001b[0;34m\u001b[0m\u001b[0;34m\u001b[0m\u001b[0m\n\u001b[0;32m----> 2\u001b[0;31m \u001b[0mmy_first_string\u001b[0m\u001b[0;34m[\u001b[0m\u001b[0;36m0\u001b[0m\u001b[0;34m]\u001b[0m \u001b[0;34m=\u001b[0m \u001b[0;34m'l'\u001b[0m\u001b[0;34m\u001b[0m\u001b[0;34m\u001b[0m\u001b[0m\n\u001b[0m",
      "\u001b[0;31mTypeError\u001b[0m: 'str' object does not support item assignment"
     ]
    }
   ],
   "source": [
    "my_first_string[0] = 'l'"
   ]
  },
  {
   "cell_type": "markdown",
   "metadata": {},
   "source": [
    "## Strings Exercises"
   ]
  },
  {
   "cell_type": "markdown",
   "metadata": {},
   "source": [
    "__Cuboid:__\n",
    "- Height (h): 25/7.\n",
    "- Width (w): 25/2.\n",
    "- Length (l): 35.\n",
    "\n",
    "__Cone:__\n",
    "- Height (h): 10.\n",
    "- Radius of base (r): 3."
   ]
  },
  {
   "cell_type": "markdown",
   "metadata": {},
   "source": [
    "### Question 1:\n",
    "\n",
    "Use formulae to produce the volumes and surface areas of the following shapes and assign them to variables. <br>\n",
    "pi has been imported for you, it is just called pi."
   ]
  },
  {
   "cell_type": "markdown",
   "metadata": {},
   "source": [
    "- Cuboid volume = l \\* w \\* h\n",
    "- Cuboid surface area = 2(lw + lh + hw)"
   ]
  },
  {
   "cell_type": "markdown",
   "metadata": {},
   "source": [
    "- Cone volume = pi * r\\*\\*2 * h/3\n",
    "- Cone surface area = pi * r(r + sqrt(h\\*\\*2 + r\\*\\*2))"
   ]
  },
  {
   "cell_type": "code",
   "execution_count": 9,
   "metadata": {
    "ExecuteTime": {
     "end_time": "2021-08-03T07:47:29.582291Z",
     "start_time": "2021-08-03T07:47:29.573182Z"
    }
   },
   "outputs": [
    {
     "name": "stdout",
     "output_type": "stream",
     "text": [
      "1562.5\n",
      "1214.2857142857142\n"
     ]
    }
   ],
   "source": [
    "h = 25/7\n",
    "w = 25/2\n",
    "l = 35\n",
    "cuboid_vol = l * w * h\n",
    "print(cuboid_vol)\n",
    "cuboid_sa = 2*((l * w) + (l * h) + (h * w))\n",
    "print(cuboid_sa)"
   ]
  },
  {
   "cell_type": "code",
   "execution_count": 15,
   "metadata": {
    "ExecuteTime": {
     "end_time": "2021-08-03T07:53:53.561734Z",
     "start_time": "2021-08-03T07:53:53.552212Z"
    }
   },
   "outputs": [
    {
     "name": "stdout",
     "output_type": "stream",
     "text": [
      "94.2477796076938 126.6719045711654\n"
     ]
    }
   ],
   "source": [
    "from math import pi # ignore this line, it just imports pi\n",
    "h = 10\n",
    "r = 3\n",
    "\n",
    "cone_vol = pi * r**2 * h/3\n",
    "\n",
    "cone_sa = pi * r * (r + (h**2 + r**2)**0.5)\n",
    "print(cone_vol, cone_sa)"
   ]
  },
  {
   "cell_type": "markdown",
   "metadata": {},
   "source": [
    "### Question 2:\n",
    "\n",
    "Write 2 print statements (one for each shape) in the format: \n",
    "- '(shape) has volume x and surface area y.' <br><br>\n",
    "Where:\n",
    "- shape is cuboid or cone\n",
    "- x is the respective volume you have just defined added in by .format\n",
    "- y is the respective surface area you have just defined added in by .format"
   ]
  },
  {
   "cell_type": "code",
   "execution_count": 39,
   "metadata": {},
   "outputs": [
    {
     "name": "stdout",
     "output_type": "stream",
     "text": [
      "Cuboid has volume 1562.5 and surface area 1214.2857142857142.\n",
      "Cone has volume 94.2477796076938 and surface area 126.6719045711654.\n"
     ]
    }
   ],
   "source": [
    "# CODE HERE"
   ]
  },
  {
   "cell_type": "markdown",
   "metadata": {},
   "source": [
    "### Question 3:\n",
    "\n",
    "Write 2 more print statements, this time with the dimensions of each shape formatted in, and all of the numbers rounded to 2dp. The statements should take the form:\n",
    "- '(shape) has (dimensions), with volume x and surface area y.'\n",
    "- The dimensions statements are provided for you."
   ]
  },
  {
   "cell_type": "code",
   "execution_count": 40,
   "metadata": {},
   "outputs": [
    {
     "name": "stdout",
     "output_type": "stream",
     "text": [
      "Cuboid has height 3.57, width 12.50, length 35.00, with volume 1562.50 and surface area 1214.29\n",
      "Cone has height 10.00, radius 3.00, with volume 94.25 and surface area 126.67\n"
     ]
    }
   ],
   "source": [
    "cuboid_dim = \"height 3.57, width 12.50, length 35.00\"\n",
    "\n",
    "cone_dim = \"height 10.00, radius 3.00\"\n",
    "\n",
    "# CODE HERE"
   ]
  },
  {
   "cell_type": "code",
   "execution_count": null,
   "metadata": {},
   "outputs": [],
   "source": []
  },
  {
   "cell_type": "markdown",
   "metadata": {},
   "source": [
    "## Summary\n",
    "We now understand:\n",
    "- The nature of ints and floats.\n",
    "- The nature of None.\n",
    "- The nature of variables.\n",
    "- What strings and print formatting are.\n",
    "<br><br>\n",
    "\n",
    "We now know how to:\n",
    "- Use python as a calculator.\n",
    "- Assign variables and use them.\n",
    "- Use strings and string methods including .upper(), .lower(), .split() and .format().\n",
    "- Add in objects to strings using .format().\n",
    "- Format floats.\n",
    "- Index strings.\n",
    "- Slice strings.\n",
    "\n",
    "\n",
    "Please refer back to this notebook to check if you are unsure of any commands or syntax. <br>\n",
    "Please use the documentation below to find further string methods and conventions for style in Python.\n",
    "\n",
    "## Further reading\n",
    "- PEP8 Style Documentation: https://www.python.org/dev/peps/pep-0008/\n",
    "- String Methods: https://docs.python.org/2/library/stdtypes.html#string-methods\n",
    "- Python None: https://docs.python.org/3/c-api/none.html"
   ]
  },
  {
   "cell_type": "code",
   "execution_count": null,
   "metadata": {},
   "outputs": [],
   "source": []
  }
 ],
 "metadata": {
  "kernelspec": {
   "display_name": "Python 3 (ipykernel)",
   "language": "python",
   "name": "python3"
  },
  "language_info": {
   "codemirror_mode": {
    "name": "ipython",
    "version": 3
   },
   "file_extension": ".py",
   "mimetype": "text/x-python",
   "name": "python",
   "nbconvert_exporter": "python",
   "pygments_lexer": "ipython3",
   "version": "3.9.6"
  }
 },
 "nbformat": 4,
 "nbformat_minor": 4
}
