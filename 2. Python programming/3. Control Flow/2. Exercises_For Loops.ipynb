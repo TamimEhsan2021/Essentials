{
 "cells": [
  {
   "cell_type": "markdown",
   "metadata": {},
   "source": [
    "## Exercise 1"
   ]
  },
  {
   "cell_type": "markdown",
   "metadata": {},
   "source": [
    "Write a for loop to count how many even and odd numbers between 1 and 100."
   ]
  },
  {
   "cell_type": "code",
   "execution_count": 4,
   "metadata": {
    "ExecuteTime": {
     "end_time": "2021-08-07T18:15:00.195128Z",
     "start_time": "2021-08-07T18:15:00.185412Z"
    }
   },
   "outputs": [
    {
     "name": "stdout",
     "output_type": "stream",
     "text": [
      "Number of Even Numbers: 49\n",
      "Number of Odd Numbers: 50\n"
     ]
    }
   ],
   "source": [
    "count_odd = 0\n",
    "count_even = 0\n",
    "\n",
    "for i in range(1,100):\n",
    "    if i % 2 == 0:\n",
    "        count_even +=1\n",
    "    else:\n",
    "        count_odd +=1\n",
    "\n",
    "print(\"Number of Even Numbers: {}\".format(count_even))\n",
    "print(\"Number of Odd Numbers: {}\".format(count_odd))"
   ]
  },
  {
   "cell_type": "markdown",
   "metadata": {},
   "source": [
    "## Exercise 2"
   ]
  },
  {
   "cell_type": "markdown",
   "metadata": {},
   "source": [
    "Using the names dictionary and order_list shown below, write a program that fits the following conditions:\n",
    "- It should produce an order by adding items to receipt from order_list sequentially.\n",
    "- It should Print \"Current Total: £x\" with each iteration\n",
    "- If the order value exceeds the budget value, it should stop adding items and print \"Budget Exceeded!\".\n",
    "- If not, each time it adds items, it should: \n",
    "    - Print \"Adding *full name of item* (quantity)\".\n",
    "    - Subtract the price from budget.\n",
    "    - Add the price to running_total.\n",
    "- It should print out running_total, order and budget formatted into print statements (done for you)."
   ]
  },
  {
   "cell_type": "code",
   "execution_count": 9,
   "metadata": {
    "ExecuteTime": {
     "end_time": "2021-08-07T18:21:19.676392Z",
     "start_time": "2021-08-07T18:21:19.668485Z"
    }
   },
   "outputs": [
    {
     "name": "stdout",
     "output_type": "stream",
     "text": [
      "3.48\n",
      "6.96\n",
      "10.44\n",
      "The total for the order is: £10.44\n",
      "The items in the order are: ['tom', 'tom', 'tom']\n",
      "The remaining budget is: £10.00\n"
     ]
    }
   ],
   "source": [
    "order_list = [(\"tom\", 0.87, 4), \n",
    "         (\"sug\", 1.09, 3), \n",
    "         (\"ws\", 0.29, 4), \n",
    "         (\"juc\", 1.89, 1), \n",
    "         (\"fo\", 1.29, 2)]\n",
    "\n",
    "names = {\"tom\":\"Tomatoes\", \n",
    "         \"sug\":\"Sugar\", \n",
    "         \"ws\":\"Washing Sponges\", \n",
    "         \"juc\":\"Juice\", \n",
    "         \"fo\":\"Foil\"}\n",
    "\n",
    "budget = 10.00\n",
    "running_total = 0\n",
    "receipt = []\n",
    "\n",
    "for i in order_list:\n",
    "    while running_total <= budget:\n",
    "        receipt.append(i[0])\n",
    "        running_total += i[1]*i[2]\n",
    "        print(running_total)\n",
    "        \n",
    "print(\"The total for the order is: £{:5.2f}\".format(running_total))\n",
    "print(\"The items in the order are: {}\".format(receipt))\n",
    "print(\"The remaining budget is: £{:5.2f}\".format(budget))"
   ]
  },
  {
   "cell_type": "markdown",
   "metadata": {},
   "source": [
    "## Exercise 3"
   ]
  },
  {
   "cell_type": "markdown",
   "metadata": {},
   "source": [
    "- Create a list comprehension that squares even arguments, and adds 1 to and squares odd arguments\n",
    "- Test on my_list"
   ]
  },
  {
   "cell_type": "code",
   "execution_count": 11,
   "metadata": {
    "ExecuteTime": {
     "end_time": "2021-08-07T18:26:07.632318Z",
     "start_time": "2021-08-07T18:26:07.621306Z"
    }
   },
   "outputs": [
    {
     "name": "stdout",
     "output_type": "stream",
     "text": [
      "[1156, 2704, 5042, 1522, 484, 5330, 8464]\n"
     ]
    }
   ],
   "source": [
    "my_list = [34,52,71,39,22,73,92]\n",
    "new_list = []\n",
    "\n",
    "for i in my_list:\n",
    "    if i % 2 == 0:\n",
    "        i = i **2\n",
    "        new_list.append(i)\n",
    "    else:\n",
    "        i = (i **2) + 1\n",
    "        new_list.append(i)\n",
    "print(new_list)\n",
    "\n",
    "# CODE HERE"
   ]
  },
  {
   "cell_type": "markdown",
   "metadata": {},
   "source": [
    "## Exercise 4"
   ]
  },
  {
   "cell_type": "markdown",
   "metadata": {},
   "source": [
    "Filter shop_dict using list comprehension to find only items with values of over 1.00\n",
    "\n",
    "Assign them to a list called filtered_shop by their full names, not their codes, using names_dict."
   ]
  },
  {
   "cell_type": "code",
   "execution_count": 24,
   "metadata": {
    "ExecuteTime": {
     "end_time": "2021-08-07T18:46:10.392040Z",
     "start_time": "2021-08-07T18:46:10.378959Z"
    }
   },
   "outputs": [
    {
     "name": "stdout",
     "output_type": "stream",
     "text": [
      "['Sugar', 'Coca-Cola', 'Coca-Cola Zero']\n"
     ]
    }
   ],
   "source": [
    "shop_dict = {\"tom\":0.87,\n",
    "        \"sug\":1.09,\n",
    "        \"ws\":0.29,\n",
    "        \"cc\":1.89,\n",
    "        \"ccz\":1.29}\n",
    "\n",
    "names_dict = {\"tom\":\"Tomatoes\", \n",
    "         \"sug\":\"Sugar\", \n",
    "         \"ws\":\"Washing Sponges\", \n",
    "         \"cc\":\"Coca-Cola\", \n",
    "         \"ccz\":\"Coca-Cola Zero\"}\n",
    "\n",
    "filtered_shop = []\n",
    "\n",
    "for k,v in shop_dict.items():\n",
    "    if v >= 1.00:\n",
    "        for k1,v1 in names_dict.items():\n",
    "            if k == k1:\n",
    "                filtered_shop.append(v1)\n",
    "    \n",
    "\n",
    "print(filtered_shop)"
   ]
  },
  {
   "cell_type": "markdown",
   "metadata": {},
   "source": [
    "## Exercise 5"
   ]
  },
  {
   "cell_type": "markdown",
   "metadata": {},
   "source": [
    "Write a program to produce the following pattern.\n",
    "\n",
    "CLUE: Use nested for loops, using one nested loop to increase in size and another to decrease."
   ]
  },
  {
   "cell_type": "code",
   "execution_count": 25,
   "metadata": {
    "ExecuteTime": {
     "end_time": "2021-08-07T18:47:03.259017Z",
     "start_time": "2021-08-07T18:47:03.253596Z"
    }
   },
   "outputs": [],
   "source": [
    "n=5\n"
   ]
  },
  {
   "cell_type": "markdown",
   "metadata": {},
   "source": [
    "## Bonus Question"
   ]
  },
  {
   "cell_type": "markdown",
   "metadata": {},
   "source": [
    "Write a program to check whether each number from 10 to 50 is prime\n",
    "\n",
    "Your answer should take the following format:\n",
    "- \"x IS a prime number.\" for primes\n",
    "- \"x IS NOT a prime number because y is a factor of x.\" for non-primes\n",
    "\n",
    "CLUE: This is possible using a while loop nested in a for loop or using a nested for loop; if you can, try to find both."
   ]
  },
  {
   "cell_type": "code",
   "execution_count": 39,
   "metadata": {
    "ExecuteTime": {
     "end_time": "2021-08-07T19:02:49.520664Z",
     "start_time": "2021-08-07T19:02:49.494726Z"
    }
   },
   "outputs": [
    {
     "name": "stdout",
     "output_type": "stream",
     "text": [
      "10 is not a prime number\n",
      "2 times 5 is 10\n",
      "11 is a prime number\n",
      "12 is not a prime number\n",
      "2 times 6 is 12\n",
      "13 is a prime number\n",
      "14 is not a prime number\n",
      "2 times 7 is 14\n",
      "15 is a prime number\n",
      "16 is not a prime number\n",
      "2 times 8 is 16\n",
      "17 is a prime number\n",
      "18 is not a prime number\n",
      "2 times 9 is 18\n",
      "19 is a prime number\n",
      "20 is not a prime number\n",
      "2 times 10 is 20\n",
      "21 is a prime number\n",
      "22 is not a prime number\n",
      "2 times 11 is 22\n",
      "23 is a prime number\n",
      "24 is not a prime number\n",
      "2 times 12 is 24\n",
      "25 is a prime number\n",
      "26 is not a prime number\n",
      "2 times 13 is 26\n",
      "27 is a prime number\n",
      "28 is not a prime number\n",
      "2 times 14 is 28\n",
      "29 is a prime number\n",
      "30 is not a prime number\n",
      "2 times 15 is 30\n",
      "31 is a prime number\n",
      "32 is not a prime number\n",
      "2 times 16 is 32\n",
      "33 is a prime number\n",
      "34 is not a prime number\n",
      "2 times 17 is 34\n",
      "35 is a prime number\n",
      "36 is not a prime number\n",
      "2 times 18 is 36\n",
      "37 is a prime number\n",
      "38 is not a prime number\n",
      "2 times 19 is 38\n",
      "39 is a prime number\n",
      "40 is not a prime number\n",
      "2 times 20 is 40\n",
      "41 is a prime number\n",
      "42 is not a prime number\n",
      "2 times 21 is 42\n",
      "43 is a prime number\n",
      "44 is not a prime number\n",
      "2 times 22 is 44\n",
      "45 is a prime number\n",
      "46 is not a prime number\n",
      "2 times 23 is 46\n",
      "47 is a prime number\n",
      "48 is not a prime number\n",
      "2 times 24 is 48\n",
      "49 is a prime number\n"
     ]
    }
   ],
   "source": [
    "nums = range(10,50)\n",
    "for num in nums:  \n",
    "    if num > 1: \n",
    "\n",
    "        for i in range(2,num):  \n",
    "            if (num % i) == 0:  \n",
    "                print(num,\"is not a prime number\")  \n",
    "                print(i,\"times\",num//i,\"is\",num)  \n",
    "                break  \n",
    "            else:  \n",
    "                print(num,\"is a prime number\")\n",
    "                break\n",
    "\n",
    "        else:  \n",
    "            print(num,\"is not a prime number\") "
   ]
  },
  {
   "cell_type": "code",
   "execution_count": null,
   "metadata": {},
   "outputs": [],
   "source": []
  }
 ],
 "metadata": {
  "interpreter": {
   "hash": "aee8b7b246df8f9039afb4144a1f6fd8d2ca17a180786b69acc140d282b71a49"
  },
  "kernelspec": {
   "display_name": "Python 3 (ipykernel)",
   "language": "python",
   "name": "python3"
  },
  "language_info": {
   "codemirror_mode": {
    "name": "ipython",
    "version": 3
   },
   "file_extension": ".py",
   "mimetype": "text/x-python",
   "name": "python",
   "nbconvert_exporter": "python",
   "pygments_lexer": "ipython3",
   "version": "3.9.6"
  }
 },
 "nbformat": 4,
 "nbformat_minor": 2
}
