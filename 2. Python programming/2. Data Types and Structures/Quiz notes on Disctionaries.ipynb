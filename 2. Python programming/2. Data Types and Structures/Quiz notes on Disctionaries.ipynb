{
 "cells": [
  {
   "cell_type": "code",
   "execution_count": 6,
   "id": "45af5de7",
   "metadata": {
    "ExecuteTime": {
     "end_time": "2021-08-11T06:34:14.291458Z",
     "start_time": "2021-08-11T06:34:14.282501Z"
    }
   },
   "outputs": [
    {
     "data": {
      "text/plain": [
       "1"
      ]
     },
     "execution_count": 6,
     "metadata": {},
     "output_type": "execute_result"
    }
   ],
   "source": [
    "new_dict = {'key1':''}\n",
    "len(new_dict)"
   ]
  },
  {
   "cell_type": "code",
   "execution_count": 7,
   "id": "b1934794",
   "metadata": {
    "ExecuteTime": {
     "end_time": "2021-08-11T06:34:18.020683Z",
     "start_time": "2021-08-11T06:34:18.017418Z"
    }
   },
   "outputs": [
    {
     "data": {
      "text/plain": [
       "dict_keys(['key1'])"
      ]
     },
     "execution_count": 7,
     "metadata": {},
     "output_type": "execute_result"
    }
   ],
   "source": [
    "new_dict.keys()"
   ]
  },
  {
   "cell_type": "code",
   "execution_count": 4,
   "id": "517666ae",
   "metadata": {
    "ExecuteTime": {
     "end_time": "2021-08-11T06:33:49.108771Z",
     "start_time": "2021-08-11T06:33:49.105300Z"
    }
   },
   "outputs": [
    {
     "data": {
      "text/plain": [
       "dict_items([('key1', '3')])"
      ]
     },
     "execution_count": 4,
     "metadata": {},
     "output_type": "execute_result"
    }
   ],
   "source": [
    "new_dict.items()"
   ]
  },
  {
   "cell_type": "code",
   "execution_count": 12,
   "id": "cf017af6",
   "metadata": {
    "ExecuteTime": {
     "end_time": "2021-08-11T06:40:45.540976Z",
     "start_time": "2021-08-11T06:40:45.533415Z"
    }
   },
   "outputs": [],
   "source": [
    "dic_test = {'Person_1' : {'Name':'Harry',\n",
    "                           'Age': 23,\n",
    "                           'Position': 'Founder'},\n",
    "             'Person_2' : {'Name': 'Ivan',\n",
    "                           'Age':30,\n",
    "                           'Position': 'Instructor'}\n",
    "            }"
   ]
  },
  {
   "cell_type": "code",
   "execution_count": 13,
   "id": "4d032e77",
   "metadata": {
    "ExecuteTime": {
     "end_time": "2021-08-11T06:40:46.100474Z",
     "start_time": "2021-08-11T06:40:46.085961Z"
    }
   },
   "outputs": [
    {
     "ename": "KeyError",
     "evalue": "1",
     "output_type": "error",
     "traceback": [
      "\u001b[0;31m---------------------------------------------------------------------------\u001b[0m",
      "\u001b[0;31mKeyError\u001b[0m                                  Traceback (most recent call last)",
      "\u001b[0;32m/tmp/ipykernel_33298/1728313844.py\u001b[0m in \u001b[0;36m<module>\u001b[0;34m\u001b[0m\n\u001b[0;32m----> 1\u001b[0;31m \u001b[0mdic_test\u001b[0m\u001b[0;34m[\u001b[0m\u001b[0;36m1\u001b[0m\u001b[0;34m]\u001b[0m\u001b[0;34m[\u001b[0m\u001b[0;36m1\u001b[0m\u001b[0;34m]\u001b[0m\u001b[0;34m\u001b[0m\u001b[0;34m\u001b[0m\u001b[0m\n\u001b[0m",
      "\u001b[0;31mKeyError\u001b[0m: 1"
     ]
    }
   ],
   "source": [
    "dic_test[1][1]"
   ]
  },
  {
   "cell_type": "code",
   "execution_count": 14,
   "id": "a8a15c65",
   "metadata": {
    "ExecuteTime": {
     "end_time": "2021-08-11T06:40:57.093033Z",
     "start_time": "2021-08-11T06:40:57.088567Z"
    }
   },
   "outputs": [
    {
     "ename": "KeyError",
     "evalue": "1",
     "output_type": "error",
     "traceback": [
      "\u001b[0;31m---------------------------------------------------------------------------\u001b[0m",
      "\u001b[0;31mKeyError\u001b[0m                                  Traceback (most recent call last)",
      "\u001b[0;32m/tmp/ipykernel_33298/171652974.py\u001b[0m in \u001b[0;36m<module>\u001b[0;34m\u001b[0m\n\u001b[0;32m----> 1\u001b[0;31m \u001b[0mdic_test\u001b[0m\u001b[0;34m[\u001b[0m\u001b[0;36m1\u001b[0m\u001b[0;34m]\u001b[0m\u001b[0;34m[\u001b[0m\u001b[0;34m'Age'\u001b[0m\u001b[0;34m]\u001b[0m\u001b[0;34m\u001b[0m\u001b[0;34m\u001b[0m\u001b[0m\n\u001b[0m",
      "\u001b[0;31mKeyError\u001b[0m: 1"
     ]
    }
   ],
   "source": [
    "dic_test[1]['Age']"
   ]
  },
  {
   "cell_type": "code",
   "execution_count": 15,
   "id": "02900178",
   "metadata": {
    "ExecuteTime": {
     "end_time": "2021-08-11T06:41:09.192464Z",
     "start_time": "2021-08-11T06:41:09.186509Z"
    }
   },
   "outputs": [
    {
     "data": {
      "text/plain": [
       "30"
      ]
     },
     "execution_count": 15,
     "metadata": {},
     "output_type": "execute_result"
    }
   ],
   "source": [
    "dict_test['Person_2']['Age']"
   ]
  },
  {
   "cell_type": "code",
   "execution_count": 16,
   "id": "f5cfed8d",
   "metadata": {
    "ExecuteTime": {
     "end_time": "2021-08-11T06:41:30.397422Z",
     "start_time": "2021-08-11T06:41:30.392755Z"
    }
   },
   "outputs": [
    {
     "ename": "TypeError",
     "evalue": "'dict_keys' object is not subscriptable",
     "output_type": "error",
     "traceback": [
      "\u001b[0;31m---------------------------------------------------------------------------\u001b[0m",
      "\u001b[0;31mTypeError\u001b[0m                                 Traceback (most recent call last)",
      "\u001b[0;32m/tmp/ipykernel_33298/440900849.py\u001b[0m in \u001b[0;36m<module>\u001b[0;34m\u001b[0m\n\u001b[0;32m----> 1\u001b[0;31m \u001b[0mdict_test\u001b[0m\u001b[0;34m[\u001b[0m\u001b[0mdict_test\u001b[0m\u001b[0;34m.\u001b[0m\u001b[0mkeys\u001b[0m\u001b[0;34m(\u001b[0m\u001b[0;34m)\u001b[0m\u001b[0;34m[\u001b[0m \u001b[0;36m1\u001b[0m \u001b[0;34m]\u001b[0m\u001b[0;34m]\u001b[0m\u001b[0;34m[\u001b[0m\u001b[0;34m'Age'\u001b[0m\u001b[0;34m]\u001b[0m\u001b[0;34m\u001b[0m\u001b[0;34m\u001b[0m\u001b[0m\n\u001b[0m",
      "\u001b[0;31mTypeError\u001b[0m: 'dict_keys' object is not subscriptable"
     ]
    }
   ],
   "source": [
    "dict_test[dict_test.keys()[ 1 ]]['Age']"
   ]
  },
  {
   "cell_type": "code",
   "execution_count": 17,
   "id": "99baba64",
   "metadata": {
    "ExecuteTime": {
     "end_time": "2021-08-11T06:41:44.445989Z",
     "start_time": "2021-08-11T06:41:44.437233Z"
    }
   },
   "outputs": [
    {
     "data": {
      "text/plain": [
       "30"
      ]
     },
     "execution_count": 17,
     "metadata": {},
     "output_type": "execute_result"
    }
   ],
   "source": [
    "dict_test[list(dict_test.keys())[ 1 ]]['Age']"
   ]
  },
  {
   "cell_type": "code",
   "execution_count": 18,
   "id": "c50e0131",
   "metadata": {
    "ExecuteTime": {
     "end_time": "2021-08-11T06:41:59.542432Z",
     "start_time": "2021-08-11T06:41:59.532377Z"
    }
   },
   "outputs": [
    {
     "data": {
      "text/plain": [
       "30"
      ]
     },
     "execution_count": 18,
     "metadata": {},
     "output_type": "execute_result"
    }
   ],
   "source": [
    "list(dict_test[list(dict_test.keys())[ 1 ]].values())[1]"
   ]
  },
  {
   "cell_type": "code",
   "execution_count": 30,
   "id": "70ce42f4",
   "metadata": {
    "ExecuteTime": {
     "end_time": "2021-08-11T06:46:18.424283Z",
     "start_time": "2021-08-11T06:46:18.420925Z"
    }
   },
   "outputs": [
    {
     "name": "stdout",
     "output_type": "stream",
     "text": [
      "{'brand': 'Audi', 'model': 'A3', 'year': 2011, 'colour': 'black'}\n"
     ]
    }
   ],
   "source": [
    "car = {\"brand\": \"Audi\",\n",
    "      \"model\": \"A3\",\n",
    "      \"year\":2011}\n",
    "#output -->{'brand': 'Audi', 'model': 'A3', 'year': 2011, 'colour': 'black'}\n",
    "car.update({'colour' : 'black'})\n",
    "print(car)"
   ]
  },
  {
   "cell_type": "code",
   "execution_count": 21,
   "id": "daf52146",
   "metadata": {
    "ExecuteTime": {
     "end_time": "2021-08-11T06:44:28.071261Z",
     "start_time": "2021-08-11T06:44:28.068217Z"
    }
   },
   "outputs": [
    {
     "name": "stdout",
     "output_type": "stream",
     "text": [
      "{'brand': 'Audi', 'model': 'A3', 'year': 2011, 'colour': 'black'}\n"
     ]
    }
   ],
   "source": [
    "car['colour'] = 'black'\n",
    "print(car)"
   ]
  },
  {
   "cell_type": "code",
   "execution_count": 23,
   "id": "a415f921",
   "metadata": {
    "ExecuteTime": {
     "end_time": "2021-08-11T06:44:52.260705Z",
     "start_time": "2021-08-11T06:44:52.254926Z"
    }
   },
   "outputs": [
    {
     "ename": "AttributeError",
     "evalue": "'dict' object has no attribute 'add'",
     "output_type": "error",
     "traceback": [
      "\u001b[0;31m---------------------------------------------------------------------------\u001b[0m",
      "\u001b[0;31mAttributeError\u001b[0m                            Traceback (most recent call last)",
      "\u001b[0;32m/tmp/ipykernel_33298/2095124616.py\u001b[0m in \u001b[0;36m<module>\u001b[0;34m\u001b[0m\n\u001b[0;32m----> 1\u001b[0;31m \u001b[0mcar\u001b[0m\u001b[0;34m.\u001b[0m\u001b[0madd\u001b[0m\u001b[0;34m(\u001b[0m\u001b[0;34m{\u001b[0m\u001b[0;34m'colour'\u001b[0m \u001b[0;34m:\u001b[0m \u001b[0;34m'black'\u001b[0m\u001b[0;34m}\u001b[0m\u001b[0;34m)\u001b[0m\u001b[0;34m\u001b[0m\u001b[0;34m\u001b[0m\u001b[0m\n\u001b[0m\u001b[1;32m      2\u001b[0m \u001b[0mprint\u001b[0m\u001b[0;34m(\u001b[0m\u001b[0mcar\u001b[0m\u001b[0;34m)\u001b[0m\u001b[0;34m\u001b[0m\u001b[0;34m\u001b[0m\u001b[0m\n",
      "\u001b[0;31mAttributeError\u001b[0m: 'dict' object has no attribute 'add'"
     ]
    }
   ],
   "source": [
    "car.add({'colour' : 'black'})\n",
    "print(car)"
   ]
  },
  {
   "cell_type": "code",
   "execution_count": 25,
   "id": "36912c73",
   "metadata": {
    "ExecuteTime": {
     "end_time": "2021-08-11T06:45:16.068930Z",
     "start_time": "2021-08-11T06:45:16.065774Z"
    }
   },
   "outputs": [
    {
     "ename": "SyntaxError",
     "evalue": "expression cannot contain assignment, perhaps you meant \"==\"? (2708369397.py, line 1)",
     "output_type": "error",
     "traceback": [
      "\u001b[0;36m  File \u001b[0;32m\"/tmp/ipykernel_33298/2708369397.py\"\u001b[0;36m, line \u001b[0;32m1\u001b[0m\n\u001b[0;31m    car.update('colour' = 'black')\u001b[0m\n\u001b[0m               ^\u001b[0m\n\u001b[0;31mSyntaxError\u001b[0m\u001b[0;31m:\u001b[0m expression cannot contain assignment, perhaps you meant \"==\"?\n"
     ]
    }
   ],
   "source": [
    "car.update('colour' = 'black')\n",
    "print(car)"
   ]
  },
  {
   "cell_type": "code",
   "execution_count": 27,
   "id": "85edec3a",
   "metadata": {
    "ExecuteTime": {
     "end_time": "2021-08-11T06:45:34.564917Z",
     "start_time": "2021-08-11T06:45:34.561886Z"
    }
   },
   "outputs": [
    {
     "ename": "SyntaxError",
     "evalue": "cannot assign to function call (1425839584.py, line 1)",
     "output_type": "error",
     "traceback": [
      "\u001b[0;36m  File \u001b[0;32m\"/tmp/ipykernel_33298/1425839584.py\"\u001b[0;36m, line \u001b[0;32m1\u001b[0m\n\u001b[0;31m    car('colour') = 'black'\u001b[0m\n\u001b[0m    ^\u001b[0m\n\u001b[0;31mSyntaxError\u001b[0m\u001b[0;31m:\u001b[0m cannot assign to function call\n"
     ]
    }
   ],
   "source": [
    "car('colour') = 'black'\n",
    "print(car)"
   ]
  },
  {
   "cell_type": "code",
   "execution_count": 29,
   "id": "c6a7f9ef",
   "metadata": {
    "ExecuteTime": {
     "end_time": "2021-08-11T06:45:53.136394Z",
     "start_time": "2021-08-11T06:45:53.133021Z"
    }
   },
   "outputs": [
    {
     "ename": "SyntaxError",
     "evalue": "cannot assign to function call (1379240652.py, line 1)",
     "output_type": "error",
     "traceback": [
      "\u001b[0;36m  File \u001b[0;32m\"/tmp/ipykernel_33298/1379240652.py\"\u001b[0;36m, line \u001b[0;32m1\u001b[0m\n\u001b[0;31m    car.get('colour') = 'black'\u001b[0m\n\u001b[0m    ^\u001b[0m\n\u001b[0;31mSyntaxError\u001b[0m\u001b[0;31m:\u001b[0m cannot assign to function call\n"
     ]
    }
   ],
   "source": [
    "car.get('colour') = 'black'\n",
    "print(car)"
   ]
  },
  {
   "cell_type": "code",
   "execution_count": null,
   "id": "558cfaca",
   "metadata": {},
   "outputs": [],
   "source": []
  }
 ],
 "metadata": {
  "kernelspec": {
   "display_name": "Python 3 (ipykernel)",
   "language": "python",
   "name": "python3"
  },
  "language_info": {
   "codemirror_mode": {
    "name": "ipython",
    "version": 3
   },
   "file_extension": ".py",
   "mimetype": "text/x-python",
   "name": "python",
   "nbconvert_exporter": "python",
   "pygments_lexer": "ipython3",
   "version": "3.9.6"
  }
 },
 "nbformat": 4,
 "nbformat_minor": 5
}
