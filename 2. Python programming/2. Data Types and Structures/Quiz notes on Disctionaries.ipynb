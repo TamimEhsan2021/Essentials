{
 "cells": [
  {
   "cell_type": "code",
   "execution_count": 6,
   "id": "45af5de7",
   "metadata": {
    "ExecuteTime": {
     "end_time": "2021-08-11T06:34:14.291458Z",
     "start_time": "2021-08-11T06:34:14.282501Z"
    }
   },
   "outputs": [
    {
     "data": {
      "text/plain": [
       "1"
      ]
     },
     "execution_count": 6,
     "metadata": {},
     "output_type": "execute_result"
    }
   ],
   "source": [
    "new_dict = {'key1':''}\n",
    "len(new_dict)"
   ]
  },
  {
   "cell_type": "code",
   "execution_count": 7,
   "id": "b1934794",
   "metadata": {
    "ExecuteTime": {
     "end_time": "2021-08-11T06:34:18.020683Z",
     "start_time": "2021-08-11T06:34:18.017418Z"
    }
   },
   "outputs": [
    {
     "data": {
      "text/plain": [
       "dict_keys(['key1'])"
      ]
     },
     "execution_count": 7,
     "metadata": {},
     "output_type": "execute_result"
    }
   ],
   "source": [
    "new_dict.keys()"
   ]
  },
  {
   "cell_type": "code",
   "execution_count": 4,
   "id": "517666ae",
   "metadata": {
    "ExecuteTime": {
     "end_time": "2021-08-11T06:33:49.108771Z",
     "start_time": "2021-08-11T06:33:49.105300Z"
    }
   },
   "outputs": [
    {
     "data": {
      "text/plain": [
       "dict_items([('key1', '3')])"
      ]
     },
     "execution_count": 4,
     "metadata": {},
     "output_type": "execute_result"
    }
   ],
   "source": [
    "new_dict.items()"
   ]
  },
  {
   "cell_type": "code",
   "execution_count": 2,
   "id": "cf017af6",
   "metadata": {
    "ExecuteTime": {
     "end_time": "2021-08-12T06:48:13.343159Z",
     "start_time": "2021-08-12T06:48:13.335330Z"
    }
   },
   "outputs": [],
   "source": [
    "dic_test = {'Person_1' : {'Name':'Harry',\n",
    "                           'Age': 23,\n",
    "                           'Position': 'Founder'},\n",
    "             'Person_2' : {'Name': 'Ivan',\n",
    "                           'Age':30,\n",
    "                           'Position': 'Instructor'}\n",
    "            }"
   ]
  },
  {
   "cell_type": "code",
   "execution_count": 6,
   "id": "4d032e77",
   "metadata": {
    "ExecuteTime": {
     "end_time": "2021-08-12T06:48:54.254078Z",
     "start_time": "2021-08-12T06:48:54.250371Z"
    }
   },
   "outputs": [
    {
     "data": {
      "text/plain": [
       "{'Name': 'Ivan', 'Age': 30, 'Position': 'Instructor'}"
      ]
     },
     "execution_count": 6,
     "metadata": {},
     "output_type": "execute_result"
    }
   ],
   "source": [
    "dic_test.keys()\n",
    "dic_test['Person_2']"
   ]
  },
  {
   "cell_type": "code",
   "execution_count": 14,
   "id": "a8a15c65",
   "metadata": {
    "ExecuteTime": {
     "end_time": "2021-08-11T06:40:57.093033Z",
     "start_time": "2021-08-11T06:40:57.088567Z"
    }
   },
   "outputs": [
    {
     "ename": "KeyError",
     "evalue": "1",
     "output_type": "error",
     "traceback": [
      "\u001b[0;31m---------------------------------------------------------------------------\u001b[0m",
      "\u001b[0;31mKeyError\u001b[0m                                  Traceback (most recent call last)",
      "\u001b[0;32m/tmp/ipykernel_33298/171652974.py\u001b[0m in \u001b[0;36m<module>\u001b[0;34m\u001b[0m\n\u001b[0;32m----> 1\u001b[0;31m \u001b[0mdic_test\u001b[0m\u001b[0;34m[\u001b[0m\u001b[0;36m1\u001b[0m\u001b[0;34m]\u001b[0m\u001b[0;34m[\u001b[0m\u001b[0;34m'Age'\u001b[0m\u001b[0;34m]\u001b[0m\u001b[0;34m\u001b[0m\u001b[0;34m\u001b[0m\u001b[0m\n\u001b[0m",
      "\u001b[0;31mKeyError\u001b[0m: 1"
     ]
    }
   ],
   "source": [
    "dic_test[1]['Age']"
   ]
  },
  {
   "cell_type": "code",
   "execution_count": 15,
   "id": "02900178",
   "metadata": {
    "ExecuteTime": {
     "end_time": "2021-08-11T06:41:09.192464Z",
     "start_time": "2021-08-11T06:41:09.186509Z"
    }
   },
   "outputs": [
    {
     "data": {
      "text/plain": [
       "30"
      ]
     },
     "execution_count": 15,
     "metadata": {},
     "output_type": "execute_result"
    }
   ],
   "source": [
    "dict_test['Person_2']['Age']"
   ]
  },
  {
   "cell_type": "code",
   "execution_count": 16,
   "id": "f5cfed8d",
   "metadata": {
    "ExecuteTime": {
     "end_time": "2021-08-11T06:41:30.397422Z",
     "start_time": "2021-08-11T06:41:30.392755Z"
    }
   },
   "outputs": [
    {
     "ename": "TypeError",
     "evalue": "'dict_keys' object is not subscriptable",
     "output_type": "error",
     "traceback": [
      "\u001b[0;31m---------------------------------------------------------------------------\u001b[0m",
      "\u001b[0;31mTypeError\u001b[0m                                 Traceback (most recent call last)",
      "\u001b[0;32m/tmp/ipykernel_33298/440900849.py\u001b[0m in \u001b[0;36m<module>\u001b[0;34m\u001b[0m\n\u001b[0;32m----> 1\u001b[0;31m \u001b[0mdict_test\u001b[0m\u001b[0;34m[\u001b[0m\u001b[0mdict_test\u001b[0m\u001b[0;34m.\u001b[0m\u001b[0mkeys\u001b[0m\u001b[0;34m(\u001b[0m\u001b[0;34m)\u001b[0m\u001b[0;34m[\u001b[0m \u001b[0;36m1\u001b[0m \u001b[0;34m]\u001b[0m\u001b[0;34m]\u001b[0m\u001b[0;34m[\u001b[0m\u001b[0;34m'Age'\u001b[0m\u001b[0;34m]\u001b[0m\u001b[0;34m\u001b[0m\u001b[0;34m\u001b[0m\u001b[0m\n\u001b[0m",
      "\u001b[0;31mTypeError\u001b[0m: 'dict_keys' object is not subscriptable"
     ]
    }
   ],
   "source": [
    "dict_test[dict_test.keys()[ 1 ]]['Age']"
   ]
  },
  {
   "cell_type": "code",
   "execution_count": 17,
   "id": "99baba64",
   "metadata": {
    "ExecuteTime": {
     "end_time": "2021-08-11T06:41:44.445989Z",
     "start_time": "2021-08-11T06:41:44.437233Z"
    }
   },
   "outputs": [
    {
     "data": {
      "text/plain": [
       "30"
      ]
     },
     "execution_count": 17,
     "metadata": {},
     "output_type": "execute_result"
    }
   ],
   "source": [
    "dict_test[list(dict_test.keys())[ 1 ]]['Age']"
   ]
  },
  {
   "cell_type": "code",
   "execution_count": 18,
   "id": "c50e0131",
   "metadata": {
    "ExecuteTime": {
     "end_time": "2021-08-11T06:41:59.542432Z",
     "start_time": "2021-08-11T06:41:59.532377Z"
    }
   },
   "outputs": [
    {
     "data": {
      "text/plain": [
       "30"
      ]
     },
     "execution_count": 18,
     "metadata": {},
     "output_type": "execute_result"
    }
   ],
   "source": [
    "list(dict_test[list(dict_test.keys())[ 1 ]].values())[1]"
   ]
  },
  {
   "cell_type": "code",
   "execution_count": 30,
   "id": "70ce42f4",
   "metadata": {
    "ExecuteTime": {
     "end_time": "2021-08-11T06:46:18.424283Z",
     "start_time": "2021-08-11T06:46:18.420925Z"
    }
   },
   "outputs": [
    {
     "name": "stdout",
     "output_type": "stream",
     "text": [
      "{'brand': 'Audi', 'model': 'A3', 'year': 2011, 'colour': 'black'}\n"
     ]
    }
   ],
   "source": [
    "car = {\"brand\": \"Audi\",\n",
    "      \"model\": \"A3\",\n",
    "      \"year\":2011}\n",
    "#output -->{'brand': 'Audi', 'model': 'A3', 'year': 2011, 'colour': 'black'}\n",
    "car.update({'colour' : 'black'})\n",
    "print(car)"
   ]
  },
  {
   "cell_type": "code",
   "execution_count": 21,
   "id": "daf52146",
   "metadata": {
    "ExecuteTime": {
     "end_time": "2021-08-11T06:44:28.071261Z",
     "start_time": "2021-08-11T06:44:28.068217Z"
    }
   },
   "outputs": [
    {
     "name": "stdout",
     "output_type": "stream",
     "text": [
      "{'brand': 'Audi', 'model': 'A3', 'year': 2011, 'colour': 'black'}\n"
     ]
    }
   ],
   "source": [
    "car['colour'] = 'black'\n",
    "print(car)"
   ]
  },
  {
   "cell_type": "code",
   "execution_count": 23,
   "id": "a415f921",
   "metadata": {
    "ExecuteTime": {
     "end_time": "2021-08-11T06:44:52.260705Z",
     "start_time": "2021-08-11T06:44:52.254926Z"
    }
   },
   "outputs": [
    {
     "ename": "AttributeError",
     "evalue": "'dict' object has no attribute 'add'",
     "output_type": "error",
     "traceback": [
      "\u001b[0;31m---------------------------------------------------------------------------\u001b[0m",
      "\u001b[0;31mAttributeError\u001b[0m                            Traceback (most recent call last)",
      "\u001b[0;32m/tmp/ipykernel_33298/2095124616.py\u001b[0m in \u001b[0;36m<module>\u001b[0;34m\u001b[0m\n\u001b[0;32m----> 1\u001b[0;31m \u001b[0mcar\u001b[0m\u001b[0;34m.\u001b[0m\u001b[0madd\u001b[0m\u001b[0;34m(\u001b[0m\u001b[0;34m{\u001b[0m\u001b[0;34m'colour'\u001b[0m \u001b[0;34m:\u001b[0m \u001b[0;34m'black'\u001b[0m\u001b[0;34m}\u001b[0m\u001b[0;34m)\u001b[0m\u001b[0;34m\u001b[0m\u001b[0;34m\u001b[0m\u001b[0m\n\u001b[0m\u001b[1;32m      2\u001b[0m \u001b[0mprint\u001b[0m\u001b[0;34m(\u001b[0m\u001b[0mcar\u001b[0m\u001b[0;34m)\u001b[0m\u001b[0;34m\u001b[0m\u001b[0;34m\u001b[0m\u001b[0m\n",
      "\u001b[0;31mAttributeError\u001b[0m: 'dict' object has no attribute 'add'"
     ]
    }
   ],
   "source": [
    "car.add({'colour' : 'black'})\n",
    "print(car)"
   ]
  },
  {
   "cell_type": "code",
   "execution_count": 25,
   "id": "36912c73",
   "metadata": {
    "ExecuteTime": {
     "end_time": "2021-08-11T06:45:16.068930Z",
     "start_time": "2021-08-11T06:45:16.065774Z"
    }
   },
   "outputs": [
    {
     "ename": "SyntaxError",
     "evalue": "expression cannot contain assignment, perhaps you meant \"==\"? (2708369397.py, line 1)",
     "output_type": "error",
     "traceback": [
      "\u001b[0;36m  File \u001b[0;32m\"/tmp/ipykernel_33298/2708369397.py\"\u001b[0;36m, line \u001b[0;32m1\u001b[0m\n\u001b[0;31m    car.update('colour' = 'black')\u001b[0m\n\u001b[0m               ^\u001b[0m\n\u001b[0;31mSyntaxError\u001b[0m\u001b[0;31m:\u001b[0m expression cannot contain assignment, perhaps you meant \"==\"?\n"
     ]
    }
   ],
   "source": [
    "car.update('colour' = 'black')\n",
    "print(car)"
   ]
  },
  {
   "cell_type": "code",
   "execution_count": 27,
   "id": "85edec3a",
   "metadata": {
    "ExecuteTime": {
     "end_time": "2021-08-11T06:45:34.564917Z",
     "start_time": "2021-08-11T06:45:34.561886Z"
    }
   },
   "outputs": [
    {
     "ename": "SyntaxError",
     "evalue": "cannot assign to function call (1425839584.py, line 1)",
     "output_type": "error",
     "traceback": [
      "\u001b[0;36m  File \u001b[0;32m\"/tmp/ipykernel_33298/1425839584.py\"\u001b[0;36m, line \u001b[0;32m1\u001b[0m\n\u001b[0;31m    car('colour') = 'black'\u001b[0m\n\u001b[0m    ^\u001b[0m\n\u001b[0;31mSyntaxError\u001b[0m\u001b[0;31m:\u001b[0m cannot assign to function call\n"
     ]
    }
   ],
   "source": [
    "car('colour') = 'black'\n",
    "print(car)"
   ]
  },
  {
   "cell_type": "code",
   "execution_count": 29,
   "id": "c6a7f9ef",
   "metadata": {
    "ExecuteTime": {
     "end_time": "2021-08-11T06:45:53.136394Z",
     "start_time": "2021-08-11T06:45:53.133021Z"
    }
   },
   "outputs": [
    {
     "ename": "SyntaxError",
     "evalue": "cannot assign to function call (1379240652.py, line 1)",
     "output_type": "error",
     "traceback": [
      "\u001b[0;36m  File \u001b[0;32m\"/tmp/ipykernel_33298/1379240652.py\"\u001b[0;36m, line \u001b[0;32m1\u001b[0m\n\u001b[0;31m    car.get('colour') = 'black'\u001b[0m\n\u001b[0m    ^\u001b[0m\n\u001b[0;31mSyntaxError\u001b[0m\u001b[0;31m:\u001b[0m cannot assign to function call\n"
     ]
    }
   ],
   "source": [
    "car.get('colour') = 'black'\n",
    "print(car)"
   ]
  },
  {
   "cell_type": "code",
   "execution_count": 7,
   "id": "558cfaca",
   "metadata": {
    "ExecuteTime": {
     "end_time": "2021-08-12T06:50:45.855086Z",
     "start_time": "2021-08-12T06:50:45.848767Z"
    }
   },
   "outputs": [],
   "source": [
    "my_dict = {'w':450, 'x':600, 'y':42, 'z': 780}"
   ]
  },
  {
   "cell_type": "code",
   "execution_count": 8,
   "id": "138210d7",
   "metadata": {
    "ExecuteTime": {
     "end_time": "2021-08-12T06:51:05.968873Z",
     "start_time": "2021-08-12T06:51:05.954076Z"
    }
   },
   "outputs": [
    {
     "ename": "AttributeError",
     "evalue": "'dict' object has no attribute 'max'",
     "output_type": "error",
     "traceback": [
      "\u001b[0;31m---------------------------------------------------------------------------\u001b[0m",
      "\u001b[0;31mAttributeError\u001b[0m                            Traceback (most recent call last)",
      "\u001b[0;32m/tmp/ipykernel_18814/3320851713.py\u001b[0m in \u001b[0;36m<module>\u001b[0;34m\u001b[0m\n\u001b[0;32m----> 1\u001b[0;31m \u001b[0mmy_dict\u001b[0m\u001b[0;34m.\u001b[0m\u001b[0mmax\u001b[0m\u001b[0;34m(\u001b[0m\u001b[0;34m)\u001b[0m\u001b[0;34m\u001b[0m\u001b[0;34m\u001b[0m\u001b[0m\n\u001b[0m",
      "\u001b[0;31mAttributeError\u001b[0m: 'dict' object has no attribute 'max'"
     ]
    }
   ],
   "source": [
    "my_dict.max()"
   ]
  },
  {
   "cell_type": "code",
   "execution_count": 10,
   "id": "3dd67902",
   "metadata": {
    "ExecuteTime": {
     "end_time": "2021-08-12T06:52:01.222381Z",
     "start_time": "2021-08-12T06:52:01.208327Z"
    }
   },
   "outputs": [
    {
     "ename": "AttributeError",
     "evalue": "'dict_items' object has no attribute 'max'",
     "output_type": "error",
     "traceback": [
      "\u001b[0;31m---------------------------------------------------------------------------\u001b[0m",
      "\u001b[0;31mAttributeError\u001b[0m                            Traceback (most recent call last)",
      "\u001b[0;32m/tmp/ipykernel_18814/1414003271.py\u001b[0m in \u001b[0;36m<module>\u001b[0;34m\u001b[0m\n\u001b[0;32m----> 1\u001b[0;31m \u001b[0mmy_dict\u001b[0m\u001b[0;34m.\u001b[0m\u001b[0mitems\u001b[0m\u001b[0;34m(\u001b[0m\u001b[0;34m)\u001b[0m\u001b[0;34m.\u001b[0m\u001b[0mmax\u001b[0m\u001b[0;34m(\u001b[0m\u001b[0;34m)\u001b[0m\u001b[0;34m\u001b[0m\u001b[0;34m\u001b[0m\u001b[0m\n\u001b[0m",
      "\u001b[0;31mAttributeError\u001b[0m: 'dict_items' object has no attribute 'max'"
     ]
    }
   ],
   "source": [
    "my_dict.items().max()"
   ]
  },
  {
   "cell_type": "code",
   "execution_count": 11,
   "id": "63fbf656",
   "metadata": {
    "ExecuteTime": {
     "end_time": "2021-08-12T06:52:33.161385Z",
     "start_time": "2021-08-12T06:52:33.146870Z"
    }
   },
   "outputs": [
    {
     "ename": "AttributeError",
     "evalue": "'dict_values' object has no attribute 'max'",
     "output_type": "error",
     "traceback": [
      "\u001b[0;31m---------------------------------------------------------------------------\u001b[0m",
      "\u001b[0;31mAttributeError\u001b[0m                            Traceback (most recent call last)",
      "\u001b[0;32m/tmp/ipykernel_18814/2372216021.py\u001b[0m in \u001b[0;36m<module>\u001b[0;34m\u001b[0m\n\u001b[0;32m----> 1\u001b[0;31m \u001b[0mmy_dict\u001b[0m\u001b[0;34m.\u001b[0m\u001b[0mvalues\u001b[0m\u001b[0;34m(\u001b[0m\u001b[0;34m)\u001b[0m\u001b[0;34m.\u001b[0m\u001b[0mmax\u001b[0m\u001b[0;34m(\u001b[0m\u001b[0;34m)\u001b[0m\u001b[0;34m\u001b[0m\u001b[0;34m\u001b[0m\u001b[0m\n\u001b[0m",
      "\u001b[0;31mAttributeError\u001b[0m: 'dict_values' object has no attribute 'max'"
     ]
    }
   ],
   "source": [
    "my_dict.values().max()"
   ]
  },
  {
   "cell_type": "code",
   "execution_count": 18,
   "id": "de01c311",
   "metadata": {
    "ExecuteTime": {
     "end_time": "2021-08-12T06:54:29.998733Z",
     "start_time": "2021-08-12T06:54:29.991806Z"
    }
   },
   "outputs": [
    {
     "data": {
      "text/plain": [
       "'z'"
      ]
     },
     "execution_count": 18,
     "metadata": {},
     "output_type": "execute_result"
    }
   ],
   "source": [
    "max(my_dict)"
   ]
  },
  {
   "cell_type": "code",
   "execution_count": 17,
   "id": "f005d373",
   "metadata": {
    "ExecuteTime": {
     "end_time": "2021-08-12T06:54:20.132362Z",
     "start_time": "2021-08-12T06:54:20.121991Z"
    }
   },
   "outputs": [
    {
     "data": {
      "text/plain": [
       "('z', 780)"
      ]
     },
     "execution_count": 17,
     "metadata": {},
     "output_type": "execute_result"
    }
   ],
   "source": [
    "max(my_dict.items())"
   ]
  },
  {
   "cell_type": "code",
   "execution_count": 16,
   "id": "db9b25e0",
   "metadata": {
    "ExecuteTime": {
     "end_time": "2021-08-12T06:54:15.759893Z",
     "start_time": "2021-08-12T06:54:15.753438Z"
    }
   },
   "outputs": [
    {
     "data": {
      "text/plain": [
       "780"
      ]
     },
     "execution_count": 16,
     "metadata": {},
     "output_type": "execute_result"
    }
   ],
   "source": [
    "max(my_dict.values())"
   ]
  },
  {
   "cell_type": "code",
   "execution_count": 27,
   "id": "b1ca38e0",
   "metadata": {
    "ExecuteTime": {
     "end_time": "2021-08-12T06:58:18.681232Z",
     "start_time": "2021-08-12T06:58:18.673873Z"
    }
   },
   "outputs": [],
   "source": [
    "dic1={1: 10, 2: 20, 3: 10}\n",
    "dic2={1: 20, 3: 30, 4: 40}\n",
    "dic3={5: 50, 6: 60, 4: 30}\n",
    "dic4 = {}"
   ]
  },
  {
   "cell_type": "code",
   "execution_count": 20,
   "id": "1aeb5ea9",
   "metadata": {
    "ExecuteTime": {
     "end_time": "2021-08-12T06:56:05.461215Z",
     "start_time": "2021-08-12T06:56:05.451806Z"
    }
   },
   "outputs": [
    {
     "ename": "TypeError",
     "evalue": "'NoneType' object is not iterable",
     "output_type": "error",
     "traceback": [
      "\u001b[0;31m---------------------------------------------------------------------------\u001b[0m",
      "\u001b[0;31mTypeError\u001b[0m                                 Traceback (most recent call last)",
      "\u001b[0;32m/tmp/ipykernel_18814/2591015328.py\u001b[0m in \u001b[0;36m<module>\u001b[0;34m\u001b[0m\n\u001b[0;32m----> 1\u001b[0;31m \u001b[0mdic4\u001b[0m\u001b[0;34m.\u001b[0m\u001b[0mupdate\u001b[0m\u001b[0;34m(\u001b[0m\u001b[0mdic3\u001b[0m\u001b[0;34m.\u001b[0m\u001b[0mupdate\u001b[0m\u001b[0;34m(\u001b[0m\u001b[0mdic1\u001b[0m\u001b[0;34m)\u001b[0m\u001b[0;34m)\u001b[0m\u001b[0;34m\u001b[0m\u001b[0;34m\u001b[0m\u001b[0m\n\u001b[0m",
      "\u001b[0;31mTypeError\u001b[0m: 'NoneType' object is not iterable"
     ]
    }
   ],
   "source": [
    "dic4.update(dic3.update(dic1))"
   ]
  },
  {
   "cell_type": "code",
   "execution_count": 21,
   "id": "a3b6bfb3",
   "metadata": {
    "ExecuteTime": {
     "end_time": "2021-08-12T06:56:35.748283Z",
     "start_time": "2021-08-12T06:56:35.741070Z"
    }
   },
   "outputs": [
    {
     "ename": "AttributeError",
     "evalue": "'NoneType' object has no attribute 'update'",
     "output_type": "error",
     "traceback": [
      "\u001b[0;31m---------------------------------------------------------------------------\u001b[0m",
      "\u001b[0;31mAttributeError\u001b[0m                            Traceback (most recent call last)",
      "\u001b[0;32m/tmp/ipykernel_18814/1835881217.py\u001b[0m in \u001b[0;36m<module>\u001b[0;34m\u001b[0m\n\u001b[0;32m----> 1\u001b[0;31m \u001b[0mdic4\u001b[0m\u001b[0;34m.\u001b[0m\u001b[0mupdate\u001b[0m\u001b[0;34m(\u001b[0m\u001b[0mdic3\u001b[0m\u001b[0;34m)\u001b[0m\u001b[0;34m.\u001b[0m\u001b[0mupdate\u001b[0m\u001b[0;34m(\u001b[0m\u001b[0mdic1\u001b[0m\u001b[0;34m)\u001b[0m\u001b[0;34m\u001b[0m\u001b[0;34m\u001b[0m\u001b[0m\n\u001b[0m",
      "\u001b[0;31mAttributeError\u001b[0m: 'NoneType' object has no attribute 'update'"
     ]
    }
   ],
   "source": [
    "dic4.update(dic3).update(dic1)"
   ]
  },
  {
   "cell_type": "code",
   "execution_count": 28,
   "id": "c34ef060",
   "metadata": {
    "ExecuteTime": {
     "end_time": "2021-08-12T06:58:21.733263Z",
     "start_time": "2021-08-12T06:58:21.727468Z"
    }
   },
   "outputs": [],
   "source": [
    "dic4.update(dic3)\n",
    "dic4.update(dic1)"
   ]
  },
  {
   "cell_type": "code",
   "execution_count": 29,
   "id": "8956cccc",
   "metadata": {
    "ExecuteTime": {
     "end_time": "2021-08-12T06:58:22.314668Z",
     "start_time": "2021-08-12T06:58:22.307225Z"
    }
   },
   "outputs": [
    {
     "name": "stdout",
     "output_type": "stream",
     "text": [
      "{5: 50, 6: 60, 4: 30, 1: 10, 2: 20, 3: 10}\n"
     ]
    }
   ],
   "source": [
    "print(dic4)"
   ]
  },
  {
   "cell_type": "code",
   "execution_count": 32,
   "id": "d613c937",
   "metadata": {
    "ExecuteTime": {
     "end_time": "2021-08-12T07:00:20.854605Z",
     "start_time": "2021-08-12T07:00:20.847345Z"
    }
   },
   "outputs": [],
   "source": [
    "dic4 = {}\n",
    "dic4.update(dic2)\n",
    "dic4.update(dic1)\n",
    "dic4.update(dic3)"
   ]
  },
  {
   "cell_type": "code",
   "execution_count": 33,
   "id": "daaf0295",
   "metadata": {
    "ExecuteTime": {
     "end_time": "2021-08-12T07:00:21.485201Z",
     "start_time": "2021-08-12T07:00:21.477631Z"
    }
   },
   "outputs": [
    {
     "name": "stdout",
     "output_type": "stream",
     "text": [
      "{1: 10, 3: 10, 4: 30, 2: 20, 5: 50, 6: 60}\n"
     ]
    }
   ],
   "source": [
    "#dic4 = {1: 10, 2: 20, 3: 10, 4: 30, 5: 50, 6: 60}\n",
    "print(dic4)"
   ]
  },
  {
   "cell_type": "code",
   "execution_count": 34,
   "id": "4a4152ce",
   "metadata": {
    "ExecuteTime": {
     "end_time": "2021-08-12T07:01:22.680218Z",
     "start_time": "2021-08-12T07:01:22.673659Z"
    }
   },
   "outputs": [],
   "source": [
    "dic4 = {}\n",
    "dic4.update(dic1)\n",
    "dic4.update(dic2)\n",
    "dic4.update(dic3)"
   ]
  },
  {
   "cell_type": "code",
   "execution_count": 35,
   "id": "bf702c86",
   "metadata": {
    "ExecuteTime": {
     "end_time": "2021-08-12T07:01:24.004339Z",
     "start_time": "2021-08-12T07:01:23.996783Z"
    }
   },
   "outputs": [
    {
     "name": "stdout",
     "output_type": "stream",
     "text": [
      "{1: 20, 2: 20, 3: 30, 4: 30, 5: 50, 6: 60}\n"
     ]
    }
   ],
   "source": [
    "#dic4 = {1: 10, 2: 20, 3: 10, 4: 30, 5: 50, 6: 60}\n",
    "print(dic4)"
   ]
  },
  {
   "cell_type": "code",
   "execution_count": null,
   "id": "e84b7734",
   "metadata": {},
   "outputs": [],
   "source": []
  }
 ],
 "metadata": {
  "kernelspec": {
   "display_name": "Python 3 (ipykernel)",
   "language": "python",
   "name": "python3"
  },
  "language_info": {
   "codemirror_mode": {
    "name": "ipython",
    "version": 3
   },
   "file_extension": ".py",
   "mimetype": "text/x-python",
   "name": "python",
   "nbconvert_exporter": "python",
   "pygments_lexer": "ipython3",
   "version": "3.9.6"
  }
 },
 "nbformat": 4,
 "nbformat_minor": 5
}
