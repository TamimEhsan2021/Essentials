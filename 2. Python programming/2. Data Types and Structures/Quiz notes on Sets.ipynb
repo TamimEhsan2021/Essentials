{
 "cells": [
  {
   "cell_type": "code",
   "execution_count": 7,
   "id": "be0d1d7a",
   "metadata": {
    "ExecuteTime": {
     "end_time": "2021-08-12T07:20:31.243220Z",
     "start_time": "2021-08-12T07:20:31.240530Z"
    }
   },
   "outputs": [],
   "source": [
    "a = {1,2,2,3}\n",
    "b = {1,2,3}"
   ]
  },
  {
   "cell_type": "code",
   "execution_count": 2,
   "id": "bbb0e0ac",
   "metadata": {
    "ExecuteTime": {
     "end_time": "2021-08-12T07:17:17.553538Z",
     "start_time": "2021-08-12T07:17:17.540779Z"
    }
   },
   "outputs": [
    {
     "data": {
      "text/plain": [
       "True"
      ]
     },
     "execution_count": 2,
     "metadata": {},
     "output_type": "execute_result"
    }
   ],
   "source": [
    "a == b"
   ]
  },
  {
   "cell_type": "code",
   "execution_count": 3,
   "id": "9ad02ef0",
   "metadata": {
    "ExecuteTime": {
     "end_time": "2021-08-12T07:17:53.819590Z",
     "start_time": "2021-08-12T07:17:53.812588Z"
    }
   },
   "outputs": [
    {
     "data": {
      "text/plain": [
       "{1, 2, 3, 4, 5}"
      ]
     },
     "execution_count": 3,
     "metadata": {},
     "output_type": "execute_result"
    }
   ],
   "source": [
    "tuple_1 = (1,2,3,4,5)\n",
    "set(tuple_1)"
   ]
  },
  {
   "cell_type": "code",
   "execution_count": 4,
   "id": "518b1b65",
   "metadata": {
    "ExecuteTime": {
     "end_time": "2021-08-12T07:18:18.952362Z",
     "start_time": "2021-08-12T07:18:18.938259Z"
    }
   },
   "outputs": [
    {
     "data": {
      "text/plain": [
       "{1, 2, 3, 4, 7}"
      ]
     },
     "execution_count": 4,
     "metadata": {},
     "output_type": "execute_result"
    }
   ],
   "source": [
    "list_1 = [1,2,3,4,7]\n",
    "set(list_1)"
   ]
  },
  {
   "cell_type": "code",
   "execution_count": 9,
   "id": "30bbebd4",
   "metadata": {
    "ExecuteTime": {
     "end_time": "2021-08-12T07:20:48.266346Z",
     "start_time": "2021-08-12T07:20:48.262863Z"
    }
   },
   "outputs": [
    {
     "data": {
      "text/plain": [
       "<function set.difference_update>"
      ]
     },
     "execution_count": 9,
     "metadata": {},
     "output_type": "execute_result"
    }
   ],
   "source": [
    "a.difference_update"
   ]
  },
  {
   "cell_type": "code",
   "execution_count": 10,
   "id": "58c94ed1",
   "metadata": {
    "ExecuteTime": {
     "end_time": "2021-08-12T07:21:41.694948Z",
     "start_time": "2021-08-12T07:21:41.692178Z"
    }
   },
   "outputs": [],
   "source": [
    "tup = (1, 5, 4, 1, 8, 1, 5, 2, 2, 2, 1, 8)\n",
    "#[1, 2, 4, 5, 8]"
   ]
  },
  {
   "cell_type": "code",
   "execution_count": 11,
   "id": "b714dd6d",
   "metadata": {
    "ExecuteTime": {
     "end_time": "2021-08-12T07:21:52.408581Z",
     "start_time": "2021-08-12T07:21:52.399441Z"
    }
   },
   "outputs": [
    {
     "data": {
      "text/plain": [
       "{1, 2, 4, 5, 8}"
      ]
     },
     "execution_count": 11,
     "metadata": {},
     "output_type": "execute_result"
    }
   ],
   "source": [
    "set(tup)"
   ]
  },
  {
   "cell_type": "code",
   "execution_count": 12,
   "id": "b1825de5",
   "metadata": {
    "ExecuteTime": {
     "end_time": "2021-08-12T07:22:36.721672Z",
     "start_time": "2021-08-12T07:22:36.714369Z"
    }
   },
   "outputs": [
    {
     "data": {
      "text/plain": [
       "[1, 2, 4, 5, 8]"
      ]
     },
     "execution_count": 12,
     "metadata": {},
     "output_type": "execute_result"
    }
   ],
   "source": [
    "list(set(tup))"
   ]
  },
  {
   "cell_type": "code",
   "execution_count": 13,
   "id": "8481d323",
   "metadata": {
    "ExecuteTime": {
     "end_time": "2021-08-12T07:23:00.781977Z",
     "start_time": "2021-08-12T07:23:00.772207Z"
    }
   },
   "outputs": [
    {
     "data": {
      "text/plain": [
       "[1, 5, 4, 1, 8, 1, 5, 2, 2, 2, 1, 8]"
      ]
     },
     "execution_count": 13,
     "metadata": {},
     "output_type": "execute_result"
    }
   ],
   "source": [
    "list(tup)"
   ]
  },
  {
   "cell_type": "code",
   "execution_count": 14,
   "id": "066f9eac",
   "metadata": {
    "ExecuteTime": {
     "end_time": "2021-08-12T07:23:19.702580Z",
     "start_time": "2021-08-12T07:23:19.692557Z"
    }
   },
   "outputs": [
    {
     "data": {
      "text/plain": [
       "{1, 2, 4, 5, 8}"
      ]
     },
     "execution_count": 14,
     "metadata": {},
     "output_type": "execute_result"
    }
   ],
   "source": [
    "set(list(tup))"
   ]
  },
  {
   "cell_type": "code",
   "execution_count": 22,
   "id": "53c8047c",
   "metadata": {
    "ExecuteTime": {
     "end_time": "2021-08-12T07:26:34.096955Z",
     "start_time": "2021-08-12T07:26:34.091398Z"
    }
   },
   "outputs": [],
   "source": [
    "fruits = {'apple', 'banana', 'cherry'}\n",
    "#{'apple', 'banana', 'cherry', 'durian'}"
   ]
  },
  {
   "cell_type": "code",
   "execution_count": 16,
   "id": "717d1398",
   "metadata": {
    "ExecuteTime": {
     "end_time": "2021-08-12T07:24:12.708482Z",
     "start_time": "2021-08-12T07:24:12.702484Z"
    }
   },
   "outputs": [],
   "source": [
    "fruits.add('durian')"
   ]
  },
  {
   "cell_type": "code",
   "execution_count": 19,
   "id": "ca0af4c3",
   "metadata": {
    "ExecuteTime": {
     "end_time": "2021-08-12T07:25:17.616319Z",
     "start_time": "2021-08-12T07:25:17.604625Z"
    }
   },
   "outputs": [
    {
     "ename": "TypeError",
     "evalue": "unsupported operand type(s) for +: 'set' and 'str'",
     "output_type": "error",
     "traceback": [
      "\u001b[0;31m---------------------------------------------------------------------------\u001b[0m",
      "\u001b[0;31mTypeError\u001b[0m                                 Traceback (most recent call last)",
      "\u001b[0;32m/tmp/ipykernel_38816/2468061009.py\u001b[0m in \u001b[0;36m<module>\u001b[0;34m\u001b[0m\n\u001b[0;32m----> 1\u001b[0;31m \u001b[0mfruits\u001b[0m \u001b[0;34m+\u001b[0m \u001b[0;34m'durian'\u001b[0m\u001b[0;34m\u001b[0m\u001b[0;34m\u001b[0m\u001b[0m\n\u001b[0m",
      "\u001b[0;31mTypeError\u001b[0m: unsupported operand type(s) for +: 'set' and 'str'"
     ]
    }
   ],
   "source": [
    "fruits + 'durian'"
   ]
  },
  {
   "cell_type": "code",
   "execution_count": 20,
   "id": "be09b8b3",
   "metadata": {
    "ExecuteTime": {
     "end_time": "2021-08-12T07:25:36.215002Z",
     "start_time": "2021-08-12T07:25:36.201517Z"
    }
   },
   "outputs": [
    {
     "ename": "TypeError",
     "evalue": "unsupported operand type(s) for +: 'set' and 'set'",
     "output_type": "error",
     "traceback": [
      "\u001b[0;31m---------------------------------------------------------------------------\u001b[0m",
      "\u001b[0;31mTypeError\u001b[0m                                 Traceback (most recent call last)",
      "\u001b[0;32m/tmp/ipykernel_38816/241844536.py\u001b[0m in \u001b[0;36m<module>\u001b[0;34m\u001b[0m\n\u001b[0;32m----> 1\u001b[0;31m \u001b[0mfruits\u001b[0m \u001b[0;34m+\u001b[0m \u001b[0;34m{\u001b[0m\u001b[0;34m'durian'\u001b[0m\u001b[0;34m}\u001b[0m\u001b[0;34m\u001b[0m\u001b[0;34m\u001b[0m\u001b[0m\n\u001b[0m",
      "\u001b[0;31mTypeError\u001b[0m: unsupported operand type(s) for +: 'set' and 'set'"
     ]
    }
   ],
   "source": [
    "fruits + {'durian'}"
   ]
  },
  {
   "cell_type": "code",
   "execution_count": 21,
   "id": "11f1ba9b",
   "metadata": {
    "ExecuteTime": {
     "end_time": "2021-08-12T07:25:59.166500Z",
     "start_time": "2021-08-12T07:25:59.156307Z"
    }
   },
   "outputs": [
    {
     "data": {
      "text/plain": [
       "{'apple', 'banana', 'cherry', 'durian'}"
      ]
     },
     "execution_count": 21,
     "metadata": {},
     "output_type": "execute_result"
    }
   ],
   "source": [
    "set(list(fruits) + ['durian'])"
   ]
  },
  {
   "cell_type": "code",
   "execution_count": 24,
   "id": "632316ed",
   "metadata": {
    "ExecuteTime": {
     "end_time": "2021-08-12T07:26:53.943142Z",
     "start_time": "2021-08-12T07:26:53.937401Z"
    }
   },
   "outputs": [],
   "source": [
    "fruits_2 = {'banana', 'cherry', 'durian'}\n",
    "fruits.update(fruits_2)"
   ]
  },
  {
   "cell_type": "code",
   "execution_count": 25,
   "id": "b862c063",
   "metadata": {
    "ExecuteTime": {
     "end_time": "2021-08-12T07:26:57.803235Z",
     "start_time": "2021-08-12T07:26:57.795935Z"
    }
   },
   "outputs": [
    {
     "name": "stdout",
     "output_type": "stream",
     "text": [
      "{'apple', 'durian', 'banana', 'cherry'}\n"
     ]
    }
   ],
   "source": [
    "print(fruits)"
   ]
  },
  {
   "cell_type": "code",
   "execution_count": 30,
   "id": "b3b44c8a",
   "metadata": {
    "ExecuteTime": {
     "end_time": "2021-08-12T07:28:44.037477Z",
     "start_time": "2021-08-12T07:28:44.031124Z"
    }
   },
   "outputs": [],
   "source": [
    "set_a = {'a', 'b', 'c', 'd'}\n",
    "set_b = {'b', 'c', 'd', 'e'}"
   ]
  },
  {
   "cell_type": "code",
   "execution_count": 27,
   "id": "a383eddf",
   "metadata": {
    "ExecuteTime": {
     "end_time": "2021-08-12T07:27:51.179002Z",
     "start_time": "2021-08-12T07:27:51.168704Z"
    }
   },
   "outputs": [
    {
     "data": {
      "text/plain": [
       "{'a', 'b', 'c', 'd', 'e'}"
      ]
     },
     "execution_count": 27,
     "metadata": {},
     "output_type": "execute_result"
    }
   ],
   "source": [
    "set_a.union(set_b)"
   ]
  },
  {
   "cell_type": "code",
   "execution_count": 29,
   "id": "8493544c",
   "metadata": {
    "ExecuteTime": {
     "end_time": "2021-08-12T07:28:16.084190Z",
     "start_time": "2021-08-12T07:28:16.074254Z"
    }
   },
   "outputs": [
    {
     "data": {
      "text/plain": [
       "{'b', 'c', 'd'}"
      ]
     },
     "execution_count": 29,
     "metadata": {},
     "output_type": "execute_result"
    }
   ],
   "source": [
    "set_a.intersection(set_b)"
   ]
  },
  {
   "cell_type": "code",
   "execution_count": 31,
   "id": "b934343f",
   "metadata": {
    "ExecuteTime": {
     "end_time": "2021-08-12T07:28:46.387681Z",
     "start_time": "2021-08-12T07:28:46.380681Z"
    }
   },
   "outputs": [
    {
     "data": {
      "text/plain": [
       "{'a'}"
      ]
     },
     "execution_count": 31,
     "metadata": {},
     "output_type": "execute_result"
    }
   ],
   "source": [
    "set_a.difference(set_b)"
   ]
  },
  {
   "cell_type": "code",
   "execution_count": 32,
   "id": "4aed7494",
   "metadata": {
    "ExecuteTime": {
     "end_time": "2021-08-12T07:29:05.148192Z",
     "start_time": "2021-08-12T07:29:05.140646Z"
    }
   },
   "outputs": [
    {
     "data": {
      "text/plain": [
       "{'e'}"
      ]
     },
     "execution_count": 32,
     "metadata": {},
     "output_type": "execute_result"
    }
   ],
   "source": [
    "set_b.difference(set_a)"
   ]
  },
  {
   "cell_type": "code",
   "execution_count": 33,
   "id": "7582b08d",
   "metadata": {
    "ExecuteTime": {
     "end_time": "2021-08-12T07:29:28.811653Z",
     "start_time": "2021-08-12T07:29:28.804606Z"
    }
   },
   "outputs": [
    {
     "data": {
      "text/plain": [
       "{'a', 'e'}"
      ]
     },
     "execution_count": 33,
     "metadata": {},
     "output_type": "execute_result"
    }
   ],
   "source": [
    "set_a.symmetric_difference(set_b)"
   ]
  },
  {
   "cell_type": "code",
   "execution_count": 34,
   "id": "847ea22b",
   "metadata": {
    "ExecuteTime": {
     "end_time": "2021-08-12T07:29:40.639755Z",
     "start_time": "2021-08-12T07:29:40.630441Z"
    }
   },
   "outputs": [
    {
     "data": {
      "text/plain": [
       "{'a', 'e'}"
      ]
     },
     "execution_count": 34,
     "metadata": {},
     "output_type": "execute_result"
    }
   ],
   "source": [
    "set_b.symmetric_difference(set_a)"
   ]
  },
  {
   "cell_type": "code",
   "execution_count": 37,
   "id": "665f3ebf",
   "metadata": {
    "ExecuteTime": {
     "end_time": "2021-08-12T07:30:47.260099Z",
     "start_time": "2021-08-12T07:30:47.253545Z"
    }
   },
   "outputs": [],
   "source": [
    "set_1 = {1, 2, 3, 4, 5}\n",
    "set_2 = {2, 4}\n",
    "set_3 = {2}"
   ]
  },
  {
   "cell_type": "code",
   "execution_count": 39,
   "id": "c12c3d37",
   "metadata": {
    "ExecuteTime": {
     "end_time": "2021-08-12T07:30:58.191379Z",
     "start_time": "2021-08-12T07:30:58.181500Z"
    }
   },
   "outputs": [
    {
     "data": {
      "text/plain": [
       "True"
      ]
     },
     "execution_count": 39,
     "metadata": {},
     "output_type": "execute_result"
    }
   ],
   "source": [
    "set_1.issuperset(set_1)"
   ]
  },
  {
   "cell_type": "code",
   "execution_count": 40,
   "id": "836b6a1a",
   "metadata": {
    "ExecuteTime": {
     "end_time": "2021-08-12T07:31:29.704608Z",
     "start_time": "2021-08-12T07:31:29.695458Z"
    }
   },
   "outputs": [
    {
     "data": {
      "text/plain": [
       "True"
      ]
     },
     "execution_count": 40,
     "metadata": {},
     "output_type": "execute_result"
    }
   ],
   "source": [
    "set_1.issuperset(set_2)"
   ]
  },
  {
   "cell_type": "code",
   "execution_count": 41,
   "id": "67b1b250",
   "metadata": {
    "ExecuteTime": {
     "end_time": "2021-08-12T07:31:42.894105Z",
     "start_time": "2021-08-12T07:31:42.884699Z"
    }
   },
   "outputs": [
    {
     "data": {
      "text/plain": [
       "False"
      ]
     },
     "execution_count": 41,
     "metadata": {},
     "output_type": "execute_result"
    }
   ],
   "source": [
    "set_2.issuperset(set_1)"
   ]
  },
  {
   "cell_type": "code",
   "execution_count": 42,
   "id": "3c06860f",
   "metadata": {
    "ExecuteTime": {
     "end_time": "2021-08-12T07:32:00.165766Z",
     "start_time": "2021-08-12T07:32:00.156318Z"
    }
   },
   "outputs": [
    {
     "data": {
      "text/plain": [
       "True"
      ]
     },
     "execution_count": 42,
     "metadata": {},
     "output_type": "execute_result"
    }
   ],
   "source": [
    "set_2.issuperset(set_3)"
   ]
  },
  {
   "cell_type": "code",
   "execution_count": 45,
   "id": "97c1fb5f",
   "metadata": {
    "ExecuteTime": {
     "end_time": "2021-08-12T07:32:43.697934Z",
     "start_time": "2021-08-12T07:32:43.687443Z"
    }
   },
   "outputs": [
    {
     "ename": "TypeError",
     "evalue": "'set' object is not subscriptable",
     "output_type": "error",
     "traceback": [
      "\u001b[0;31m---------------------------------------------------------------------------\u001b[0m",
      "\u001b[0;31mTypeError\u001b[0m                                 Traceback (most recent call last)",
      "\u001b[0;32m/tmp/ipykernel_38816/3807740933.py\u001b[0m in \u001b[0;36m<module>\u001b[0;34m\u001b[0m\n\u001b[0;32m----> 1\u001b[0;31m \u001b[0mset_1\u001b[0m\u001b[0;34m[\u001b[0m\u001b[0;36m0\u001b[0m\u001b[0;34m:\u001b[0m\u001b[0;36m4\u001b[0m\u001b[0;34m]\u001b[0m\u001b[0;34m.\u001b[0m\u001b[0missuperset\u001b[0m\u001b[0;34m(\u001b[0m\u001b[0mset_3\u001b[0m\u001b[0;34m)\u001b[0m\u001b[0;34m\u001b[0m\u001b[0;34m\u001b[0m\u001b[0m\n\u001b[0m",
      "\u001b[0;31mTypeError\u001b[0m: 'set' object is not subscriptable"
     ]
    }
   ],
   "source": [
    "set_1[0:4].issuperset(set_3)"
   ]
  },
  {
   "cell_type": "code",
   "execution_count": null,
   "id": "eddc93ad",
   "metadata": {},
   "outputs": [],
   "source": []
  }
 ],
 "metadata": {
  "kernelspec": {
   "display_name": "Python 3 (ipykernel)",
   "language": "python",
   "name": "python3"
  },
  "language_info": {
   "codemirror_mode": {
    "name": "ipython",
    "version": 3
   },
   "file_extension": ".py",
   "mimetype": "text/x-python",
   "name": "python",
   "nbconvert_exporter": "python",
   "pygments_lexer": "ipython3",
   "version": "3.9.6"
  }
 },
 "nbformat": 4,
 "nbformat_minor": 5
}
