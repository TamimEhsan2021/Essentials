{
 "cells": [
  {
   "cell_type": "code",
   "execution_count": 10,
   "id": "0e9e497d",
   "metadata": {
    "ExecuteTime": {
     "end_time": "2021-08-11T06:07:15.263137Z",
     "start_time": "2021-08-11T06:07:15.258610Z"
    }
   },
   "outputs": [
    {
     "data": {
      "text/plain": [
       "0"
      ]
     },
     "execution_count": 10,
     "metadata": {},
     "output_type": "execute_result"
    }
   ],
   "source": [
    "list1=[1,2,3,4]\n",
    "list1.count(5)"
   ]
  },
  {
   "cell_type": "code",
   "execution_count": 11,
   "id": "ed9c0edf",
   "metadata": {
    "ExecuteTime": {
     "end_time": "2021-08-11T06:07:46.742257Z",
     "start_time": "2021-08-11T06:07:46.739427Z"
    }
   },
   "outputs": [],
   "source": [
    "a = [ 1, 5, 'Hello', 8, 6]\n",
    "b = a[2]\n",
    "c = a[-1]\n",
    "d = a[1:4]"
   ]
  },
  {
   "cell_type": "code",
   "execution_count": 12,
   "id": "7d6f4d9f",
   "metadata": {
    "ExecuteTime": {
     "end_time": "2021-08-11T06:07:56.294087Z",
     "start_time": "2021-08-11T06:07:56.284036Z"
    }
   },
   "outputs": [
    {
     "data": {
      "text/plain": [
       "str"
      ]
     },
     "execution_count": 12,
     "metadata": {},
     "output_type": "execute_result"
    }
   ],
   "source": [
    "type(b)"
   ]
  },
  {
   "cell_type": "code",
   "execution_count": 13,
   "id": "24c37091",
   "metadata": {
    "ExecuteTime": {
     "end_time": "2021-08-11T06:08:05.549648Z",
     "start_time": "2021-08-11T06:08:05.546271Z"
    }
   },
   "outputs": [
    {
     "data": {
      "text/plain": [
       "int"
      ]
     },
     "execution_count": 13,
     "metadata": {},
     "output_type": "execute_result"
    }
   ],
   "source": [
    "type(c)"
   ]
  },
  {
   "cell_type": "code",
   "execution_count": 14,
   "id": "c62c201c",
   "metadata": {
    "ExecuteTime": {
     "end_time": "2021-08-11T06:08:19.352923Z",
     "start_time": "2021-08-11T06:08:19.349119Z"
    }
   },
   "outputs": [
    {
     "data": {
      "text/plain": [
       "list"
      ]
     },
     "execution_count": 14,
     "metadata": {},
     "output_type": "execute_result"
    }
   ],
   "source": [
    "type(d)"
   ]
  },
  {
   "cell_type": "code",
   "execution_count": 15,
   "id": "8f369538",
   "metadata": {
    "ExecuteTime": {
     "end_time": "2021-08-11T06:10:06.216031Z",
     "start_time": "2021-08-11T06:10:06.208093Z"
    }
   },
   "outputs": [
    {
     "name": "stdout",
     "output_type": "stream",
     "text": [
      "None\n"
     ]
    }
   ],
   "source": [
    "a = [1,2]\n",
    "b = [3,4]\n",
    "print(a.append(b))"
   ]
  },
  {
   "cell_type": "code",
   "execution_count": 29,
   "id": "422b3189",
   "metadata": {
    "ExecuteTime": {
     "end_time": "2021-08-11T06:15:35.172321Z",
     "start_time": "2021-08-11T06:15:35.169933Z"
    }
   },
   "outputs": [],
   "source": [
    "fruits = ['banana', 'pineapple', 'apple', 'orange', 'strawberry']\n",
    "#['strawberry', 'pineapple', 'orange', 'banana', 'apple']\n",
    "#sorted(fruits, reverse=True)"
   ]
  },
  {
   "cell_type": "code",
   "execution_count": 24,
   "id": "f16fb5c7",
   "metadata": {
    "ExecuteTime": {
     "end_time": "2021-08-11T06:12:56.671309Z",
     "start_time": "2021-08-11T06:12:56.668600Z"
    }
   },
   "outputs": [
    {
     "name": "stdout",
     "output_type": "stream",
     "text": [
      "['strawberry', 'orange', 'apple', 'pineapple', 'banana']\n"
     ]
    }
   ],
   "source": [
    "fruits.reverse()\n",
    "print(fruits)"
   ]
  },
  {
   "cell_type": "code",
   "execution_count": 28,
   "id": "4ea1dddf",
   "metadata": {
    "ExecuteTime": {
     "end_time": "2021-08-11T06:14:59.929550Z",
     "start_time": "2021-08-11T06:14:59.921933Z"
    }
   },
   "outputs": [
    {
     "name": "stdout",
     "output_type": "stream",
     "text": [
      "['strawberry', 'pineapple', 'orange', 'banana', 'apple']\n"
     ]
    }
   ],
   "source": [
    "fruits.sort(reverse=True)\n",
    "print(fruits)"
   ]
  },
  {
   "cell_type": "code",
   "execution_count": 30,
   "id": "9c083ef7",
   "metadata": {
    "ExecuteTime": {
     "end_time": "2021-08-11T06:15:37.187823Z",
     "start_time": "2021-08-11T06:15:37.182596Z"
    }
   },
   "outputs": [
    {
     "ename": "AttributeError",
     "evalue": "'list' object has no attribute 'sorted'",
     "output_type": "error",
     "traceback": [
      "\u001b[0;31m---------------------------------------------------------------------------\u001b[0m",
      "\u001b[0;31mAttributeError\u001b[0m                            Traceback (most recent call last)",
      "\u001b[0;32m/tmp/ipykernel_13797/1144612364.py\u001b[0m in \u001b[0;36m<module>\u001b[0;34m\u001b[0m\n\u001b[0;32m----> 1\u001b[0;31m \u001b[0mfruits\u001b[0m\u001b[0;34m.\u001b[0m\u001b[0msorted\u001b[0m\u001b[0;34m(\u001b[0m\u001b[0;34m)\u001b[0m\u001b[0;34m\u001b[0m\u001b[0;34m\u001b[0m\u001b[0m\n\u001b[0m\u001b[1;32m      2\u001b[0m \u001b[0mprint\u001b[0m\u001b[0;34m(\u001b[0m\u001b[0mfruits\u001b[0m\u001b[0;34m)\u001b[0m\u001b[0;34m\u001b[0m\u001b[0;34m\u001b[0m\u001b[0m\n",
      "\u001b[0;31mAttributeError\u001b[0m: 'list' object has no attribute 'sorted'"
     ]
    }
   ],
   "source": [
    "fruits.sorted()\n",
    "print(fruits)"
   ]
  },
  {
   "cell_type": "code",
   "execution_count": 31,
   "id": "1b0c8446",
   "metadata": {
    "ExecuteTime": {
     "end_time": "2021-08-11T06:16:07.581042Z",
     "start_time": "2021-08-11T06:16:07.578526Z"
    }
   },
   "outputs": [],
   "source": [
    "arr = [\n",
    "[[1, 2], [3, 4]],\n",
    "[[5, 6], [7, 8]]\n",
    "]"
   ]
  },
  {
   "cell_type": "code",
   "execution_count": 39,
   "id": "2c642dbb",
   "metadata": {
    "ExecuteTime": {
     "end_time": "2021-08-11T06:18:11.918235Z",
     "start_time": "2021-08-11T06:18:11.912272Z"
    }
   },
   "outputs": [
    {
     "data": {
      "text/plain": [
       "[[5, 6], [7, 8]]"
      ]
     },
     "execution_count": 39,
     "metadata": {},
     "output_type": "execute_result"
    }
   ],
   "source": [
    "arr[1][0][1]"
   ]
  },
  {
   "cell_type": "code",
   "execution_count": 33,
   "id": "ba83733f",
   "metadata": {
    "ExecuteTime": {
     "end_time": "2021-08-11T06:16:31.167547Z",
     "start_time": "2021-08-11T06:16:31.161807Z"
    }
   },
   "outputs": [
    {
     "data": {
      "text/plain": [
       "2"
      ]
     },
     "execution_count": 33,
     "metadata": {},
     "output_type": "execute_result"
    }
   ],
   "source": [
    "arr[-2][0][1]"
   ]
  },
  {
   "cell_type": "code",
   "execution_count": 34,
   "id": "f9844fdc",
   "metadata": {
    "ExecuteTime": {
     "end_time": "2021-08-11T06:16:42.331593Z",
     "start_time": "2021-08-11T06:16:42.328176Z"
    }
   },
   "outputs": [
    {
     "data": {
      "text/plain": [
       "6"
      ]
     },
     "execution_count": 34,
     "metadata": {},
     "output_type": "execute_result"
    }
   ],
   "source": [
    "arr[-1][0][1]"
   ]
  },
  {
   "cell_type": "code",
   "execution_count": 35,
   "id": "ef54f1f6",
   "metadata": {
    "ExecuteTime": {
     "end_time": "2021-08-11T06:16:52.922886Z",
     "start_time": "2021-08-11T06:16:52.919053Z"
    }
   },
   "outputs": [
    {
     "data": {
      "text/plain": [
       "5"
      ]
     },
     "execution_count": 35,
     "metadata": {},
     "output_type": "execute_result"
    }
   ],
   "source": [
    "arr[-1][0][0]"
   ]
  },
  {
   "cell_type": "code",
   "execution_count": 36,
   "id": "e483f400",
   "metadata": {
    "ExecuteTime": {
     "end_time": "2021-08-11T06:17:02.363406Z",
     "start_time": "2021-08-11T06:17:02.359517Z"
    }
   },
   "outputs": [
    {
     "data": {
      "text/plain": [
       "6"
      ]
     },
     "execution_count": 36,
     "metadata": {},
     "output_type": "execute_result"
    }
   ],
   "source": [
    "arr[1][-2][1]"
   ]
  },
  {
   "cell_type": "code",
   "execution_count": 37,
   "id": "56e820cb",
   "metadata": {
    "ExecuteTime": {
     "end_time": "2021-08-11T06:17:12.390925Z",
     "start_time": "2021-08-11T06:17:12.385454Z"
    }
   },
   "outputs": [
    {
     "ename": "IndexError",
     "evalue": "list index out of range",
     "output_type": "error",
     "traceback": [
      "\u001b[0;31m---------------------------------------------------------------------------\u001b[0m",
      "\u001b[0;31mIndexError\u001b[0m                                Traceback (most recent call last)",
      "\u001b[0;32m/tmp/ipykernel_13797/992084954.py\u001b[0m in \u001b[0;36m<module>\u001b[0;34m\u001b[0m\n\u001b[0;32m----> 1\u001b[0;31m \u001b[0marr\u001b[0m\u001b[0;34m[\u001b[0m\u001b[0;34m-\u001b[0m\u001b[0;36m1\u001b[0m\u001b[0;34m]\u001b[0m\u001b[0;34m[\u001b[0m\u001b[0;36m0\u001b[0m\u001b[0;34m]\u001b[0m\u001b[0;34m[\u001b[0m\u001b[0;36m2\u001b[0m\u001b[0;34m]\u001b[0m\u001b[0;34m\u001b[0m\u001b[0;34m\u001b[0m\u001b[0m\n\u001b[0m",
      "\u001b[0;31mIndexError\u001b[0m: list index out of range"
     ]
    }
   ],
   "source": [
    "arr[-1][0][2]"
   ]
  },
  {
   "cell_type": "code",
   "execution_count": null,
   "id": "a1ac9c5d",
   "metadata": {},
   "outputs": [],
   "source": []
  }
 ],
 "metadata": {
  "kernelspec": {
   "display_name": "Python 3 (ipykernel)",
   "language": "python",
   "name": "python3"
  },
  "language_info": {
   "codemirror_mode": {
    "name": "ipython",
    "version": 3
   },
   "file_extension": ".py",
   "mimetype": "text/x-python",
   "name": "python",
   "nbconvert_exporter": "python",
   "pygments_lexer": "ipython3",
   "version": "3.9.6"
  }
 },
 "nbformat": 4,
 "nbformat_minor": 5
}
