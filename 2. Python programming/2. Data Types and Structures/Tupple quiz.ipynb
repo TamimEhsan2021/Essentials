{
 "cells": [
  {
   "cell_type": "code",
   "execution_count": 3,
   "id": "4f2bcd2f",
   "metadata": {
    "ExecuteTime": {
     "end_time": "2021-08-11T06:20:24.024692Z",
     "start_time": "2021-08-11T06:20:24.021003Z"
    }
   },
   "outputs": [
    {
     "data": {
      "text/plain": [
       "tuple"
      ]
     },
     "execution_count": 3,
     "metadata": {},
     "output_type": "execute_result"
    }
   ],
   "source": [
    "t= (1,4,6,2,8)\n",
    "type(t)"
   ]
  },
  {
   "cell_type": "code",
   "execution_count": 13,
   "id": "17007f8b",
   "metadata": {
    "ExecuteTime": {
     "end_time": "2021-08-12T07:04:06.886841Z",
     "start_time": "2021-08-12T07:04:06.881041Z"
    }
   },
   "outputs": [],
   "source": [
    "t=(1)"
   ]
  },
  {
   "cell_type": "code",
   "execution_count": 14,
   "id": "8b94890c",
   "metadata": {
    "ExecuteTime": {
     "end_time": "2021-08-12T07:04:17.415155Z",
     "start_time": "2021-08-12T07:04:17.405701Z"
    }
   },
   "outputs": [
    {
     "data": {
      "text/plain": [
       "int"
      ]
     },
     "execution_count": 14,
     "metadata": {},
     "output_type": "execute_result"
    }
   ],
   "source": [
    "type(t)"
   ]
  },
  {
   "cell_type": "code",
   "execution_count": 4,
   "id": "ef734e61",
   "metadata": {
    "ExecuteTime": {
     "end_time": "2021-08-11T06:21:09.700820Z",
     "start_time": "2021-08-11T06:21:09.660887Z"
    }
   },
   "outputs": [
    {
     "ename": "AttributeError",
     "evalue": "'tuple' object has no attribute 'append'",
     "output_type": "error",
     "traceback": [
      "\u001b[0;31m---------------------------------------------------------------------------\u001b[0m",
      "\u001b[0;31mAttributeError\u001b[0m                            Traceback (most recent call last)",
      "\u001b[0;32m/tmp/ipykernel_25893/1165891167.py\u001b[0m in \u001b[0;36m<module>\u001b[0;34m\u001b[0m\n\u001b[0;32m----> 1\u001b[0;31m \u001b[0mt\u001b[0m\u001b[0;34m.\u001b[0m\u001b[0mappend\u001b[0m\u001b[0;34m(\u001b[0m\u001b[0;36m5\u001b[0m\u001b[0;34m)\u001b[0m\u001b[0;34m\u001b[0m\u001b[0;34m\u001b[0m\u001b[0m\n\u001b[0m",
      "\u001b[0;31mAttributeError\u001b[0m: 'tuple' object has no attribute 'append'"
     ]
    }
   ],
   "source": [
    "t.append(5)"
   ]
  },
  {
   "cell_type": "code",
   "execution_count": 2,
   "id": "27f0b9c5",
   "metadata": {
    "ExecuteTime": {
     "end_time": "2021-08-12T06:37:48.033125Z",
     "start_time": "2021-08-12T06:37:48.022967Z"
    }
   },
   "outputs": [
    {
     "data": {
      "text/plain": [
       "list"
      ]
     },
     "execution_count": 2,
     "metadata": {},
     "output_type": "execute_result"
    }
   ],
   "source": [
    "names = ('Harry', 'Dan', 'Ali', 'Szymon')\n",
    "type(sorted(names))"
   ]
  },
  {
   "cell_type": "code",
   "execution_count": 6,
   "id": "a32b6913",
   "metadata": {
    "ExecuteTime": {
     "end_time": "2021-08-11T06:22:09.471440Z",
     "start_time": "2021-08-11T06:22:09.467911Z"
    }
   },
   "outputs": [
    {
     "data": {
      "text/plain": [
       "5"
      ]
     },
     "execution_count": 6,
     "metadata": {},
     "output_type": "execute_result"
    }
   ],
   "source": [
    "len(names[0])"
   ]
  },
  {
   "cell_type": "code",
   "execution_count": 3,
   "id": "211d0ae4",
   "metadata": {
    "ExecuteTime": {
     "end_time": "2021-08-12T06:38:28.657930Z",
     "start_time": "2021-08-12T06:38:28.584792Z"
    }
   },
   "outputs": [
    {
     "ename": "AttributeError",
     "evalue": "'tuple' object has no attribute 'sort'",
     "output_type": "error",
     "traceback": [
      "\u001b[0;31m---------------------------------------------------------------------------\u001b[0m",
      "\u001b[0;31mAttributeError\u001b[0m                            Traceback (most recent call last)",
      "\u001b[0;32m/tmp/ipykernel_10472/2367858841.py\u001b[0m in \u001b[0;36m<module>\u001b[0;34m\u001b[0m\n\u001b[0;32m----> 1\u001b[0;31m \u001b[0mtype\u001b[0m\u001b[0;34m(\u001b[0m\u001b[0mnames\u001b[0m\u001b[0;34m.\u001b[0m\u001b[0msort\u001b[0m\u001b[0;34m(\u001b[0m\u001b[0;34m)\u001b[0m\u001b[0;34m)\u001b[0m\u001b[0;34m\u001b[0m\u001b[0;34m\u001b[0m\u001b[0m\n\u001b[0m",
      "\u001b[0;31mAttributeError\u001b[0m: 'tuple' object has no attribute 'sort'"
     ]
    }
   ],
   "source": [
    "type(names.sort())"
   ]
  },
  {
   "cell_type": "code",
   "execution_count": 4,
   "id": "b422d268",
   "metadata": {
    "ExecuteTime": {
     "end_time": "2021-08-12T06:38:56.744920Z",
     "start_time": "2021-08-12T06:38:56.729872Z"
    }
   },
   "outputs": [
    {
     "ename": "TypeError",
     "evalue": "'tuple' object does not support item assignment",
     "output_type": "error",
     "traceback": [
      "\u001b[0;31m---------------------------------------------------------------------------\u001b[0m",
      "\u001b[0;31mTypeError\u001b[0m                                 Traceback (most recent call last)",
      "\u001b[0;32m/tmp/ipykernel_10472/82335320.py\u001b[0m in \u001b[0;36m<module>\u001b[0;34m\u001b[0m\n\u001b[0;32m----> 1\u001b[0;31m \u001b[0mnames\u001b[0m\u001b[0;34m[\u001b[0m\u001b[0;36m3\u001b[0m\u001b[0;34m]\u001b[0m \u001b[0;34m=\u001b[0m \u001b[0;34m'Ivan'\u001b[0m\u001b[0;34m\u001b[0m\u001b[0;34m\u001b[0m\u001b[0m\n\u001b[0m",
      "\u001b[0;31mTypeError\u001b[0m: 'tuple' object does not support item assignment"
     ]
    }
   ],
   "source": [
    "names[3] = 'Ivan'"
   ]
  },
  {
   "cell_type": "code",
   "execution_count": 9,
   "id": "33a403a0",
   "metadata": {
    "ExecuteTime": {
     "end_time": "2021-08-11T06:23:24.226344Z",
     "start_time": "2021-08-11T06:23:24.223855Z"
    }
   },
   "outputs": [],
   "source": [
    "x, y = (3, 4, )"
   ]
  },
  {
   "cell_type": "code",
   "execution_count": 10,
   "id": "e356e00f",
   "metadata": {
    "ExecuteTime": {
     "end_time": "2021-08-11T06:23:30.066714Z",
     "start_time": "2021-08-11T06:23:30.062764Z"
    }
   },
   "outputs": [
    {
     "data": {
      "text/plain": [
       "int"
      ]
     },
     "execution_count": 10,
     "metadata": {},
     "output_type": "execute_result"
    }
   ],
   "source": [
    "type(x)"
   ]
  },
  {
   "cell_type": "code",
   "execution_count": 11,
   "id": "9cc511ff",
   "metadata": {
    "ExecuteTime": {
     "end_time": "2021-08-11T06:23:40.627674Z",
     "start_time": "2021-08-11T06:23:40.621857Z"
    }
   },
   "outputs": [
    {
     "data": {
      "text/plain": [
       "int"
      ]
     },
     "execution_count": 11,
     "metadata": {},
     "output_type": "execute_result"
    }
   ],
   "source": [
    "type(y)"
   ]
  },
  {
   "cell_type": "code",
   "execution_count": 13,
   "id": "7da0e5cc",
   "metadata": {
    "ExecuteTime": {
     "end_time": "2021-08-11T06:24:13.897019Z",
     "start_time": "2021-08-11T06:24:13.891443Z"
    }
   },
   "outputs": [
    {
     "ename": "TypeError",
     "evalue": "type() takes 1 or 3 arguments",
     "output_type": "error",
     "traceback": [
      "\u001b[0;31m---------------------------------------------------------------------------\u001b[0m",
      "\u001b[0;31mTypeError\u001b[0m                                 Traceback (most recent call last)",
      "\u001b[0;32m/tmp/ipykernel_25893/2284070310.py\u001b[0m in \u001b[0;36m<module>\u001b[0;34m\u001b[0m\n\u001b[0;32m----> 1\u001b[0;31m \u001b[0mtype\u001b[0m\u001b[0;34m(\u001b[0m\u001b[0mx\u001b[0m\u001b[0;34m,\u001b[0m\u001b[0my\u001b[0m\u001b[0;34m)\u001b[0m\u001b[0;34m\u001b[0m\u001b[0;34m\u001b[0m\u001b[0m\n\u001b[0m",
      "\u001b[0;31mTypeError\u001b[0m: type() takes 1 or 3 arguments"
     ]
    }
   ],
   "source": [
    "type(x,y)"
   ]
  },
  {
   "cell_type": "code",
   "execution_count": 14,
   "id": "47f6543c",
   "metadata": {
    "ExecuteTime": {
     "end_time": "2021-08-11T06:24:55.583524Z",
     "start_time": "2021-08-11T06:24:55.580564Z"
    }
   },
   "outputs": [],
   "source": [
    "tup = ([1, 2], [3, 4], [5, 6])"
   ]
  },
  {
   "cell_type": "code",
   "execution_count": 21,
   "id": "c7fe0f95",
   "metadata": {
    "ExecuteTime": {
     "end_time": "2021-08-11T06:27:04.965972Z",
     "start_time": "2021-08-11T06:27:04.960901Z"
    }
   },
   "outputs": [
    {
     "ename": "TypeError",
     "evalue": "'tuple' object does not support item assignment",
     "output_type": "error",
     "traceback": [
      "\u001b[0;31m---------------------------------------------------------------------------\u001b[0m",
      "\u001b[0;31mTypeError\u001b[0m                                 Traceback (most recent call last)",
      "\u001b[0;32m/tmp/ipykernel_25893/3467481830.py\u001b[0m in \u001b[0;36m<module>\u001b[0;34m\u001b[0m\n\u001b[0;32m----> 1\u001b[0;31m \u001b[0mtup\u001b[0m\u001b[0;34m[\u001b[0m\u001b[0;36m1\u001b[0m\u001b[0;34m]\u001b[0m \u001b[0;34m=\u001b[0m \u001b[0;36m1\u001b[0m\u001b[0;34m\u001b[0m\u001b[0;34m\u001b[0m\u001b[0m\n\u001b[0m",
      "\u001b[0;31mTypeError\u001b[0m: 'tuple' object does not support item assignment"
     ]
    }
   ],
   "source": [
    "tup[1] = 1"
   ]
  },
  {
   "cell_type": "code",
   "execution_count": 16,
   "id": "e8885836",
   "metadata": {
    "ExecuteTime": {
     "end_time": "2021-08-11T06:25:36.436098Z",
     "start_time": "2021-08-11T06:25:36.431022Z"
    }
   },
   "outputs": [
    {
     "ename": "TypeError",
     "evalue": "'tuple' object does not support item assignment",
     "output_type": "error",
     "traceback": [
      "\u001b[0;31m---------------------------------------------------------------------------\u001b[0m",
      "\u001b[0;31mTypeError\u001b[0m                                 Traceback (most recent call last)",
      "\u001b[0;32m/tmp/ipykernel_25893/2803827348.py\u001b[0m in \u001b[0;36m<module>\u001b[0;34m\u001b[0m\n\u001b[0;32m----> 1\u001b[0;31m \u001b[0mtup\u001b[0m\u001b[0;34m[\u001b[0m\u001b[0;36m1\u001b[0m\u001b[0;34m,\u001b[0m\u001b[0;36m1\u001b[0m\u001b[0;34m]\u001b[0m \u001b[0;34m=\u001b[0m \u001b[0;36m1\u001b[0m\u001b[0;34m\u001b[0m\u001b[0;34m\u001b[0m\u001b[0m\n\u001b[0m",
      "\u001b[0;31mTypeError\u001b[0m: 'tuple' object does not support item assignment"
     ]
    }
   ],
   "source": [
    "tup[1,1] = 1"
   ]
  },
  {
   "cell_type": "code",
   "execution_count": 19,
   "id": "723f5f61",
   "metadata": {
    "ExecuteTime": {
     "end_time": "2021-08-11T06:26:23.204217Z",
     "start_time": "2021-08-11T06:26:23.201133Z"
    }
   },
   "outputs": [],
   "source": [
    "tup[1][1] = 1"
   ]
  },
  {
   "cell_type": "code",
   "execution_count": 20,
   "id": "3eea8dfb",
   "metadata": {
    "ExecuteTime": {
     "end_time": "2021-08-11T06:26:29.820380Z",
     "start_time": "2021-08-11T06:26:29.810457Z"
    }
   },
   "outputs": [
    {
     "name": "stdout",
     "output_type": "stream",
     "text": [
      "([1, 2], [3, 1], [5, 6])\n"
     ]
    }
   ],
   "source": [
    "print(tup)"
   ]
  },
  {
   "cell_type": "code",
   "execution_count": 22,
   "id": "a84f705d",
   "metadata": {
    "ExecuteTime": {
     "end_time": "2021-08-11T06:28:15.513791Z",
     "start_time": "2021-08-11T06:28:15.511243Z"
    }
   },
   "outputs": [],
   "source": [
    "tup = (1, 5, 4, 1, 8, 1, 5, 2, 2, 2, 1, 8)"
   ]
  },
  {
   "cell_type": "code",
   "execution_count": 24,
   "id": "46501756",
   "metadata": {
    "ExecuteTime": {
     "end_time": "2021-08-11T06:28:48.886158Z",
     "start_time": "2021-08-11T06:28:48.881128Z"
    }
   },
   "outputs": [
    {
     "ename": "TypeError",
     "evalue": "'tuple' object is not callable",
     "output_type": "error",
     "traceback": [
      "\u001b[0;31m---------------------------------------------------------------------------\u001b[0m",
      "\u001b[0;31mTypeError\u001b[0m                                 Traceback (most recent call last)",
      "\u001b[0;32m/tmp/ipykernel_25893/1970079021.py\u001b[0m in \u001b[0;36m<module>\u001b[0;34m\u001b[0m\n\u001b[0;32m----> 1\u001b[0;31m \u001b[0mprint\u001b[0m\u001b[0;34m(\u001b[0m\u001b[0mtup\u001b[0m\u001b[0;34m(\u001b[0m\u001b[0;36m2\u001b[0m\u001b[0;34m)\u001b[0m\u001b[0;34m)\u001b[0m\u001b[0;34m\u001b[0m\u001b[0;34m\u001b[0m\u001b[0m\n\u001b[0m",
      "\u001b[0;31mTypeError\u001b[0m: 'tuple' object is not callable"
     ]
    }
   ],
   "source": [
    "print(tup(2))"
   ]
  },
  {
   "cell_type": "code",
   "execution_count": 25,
   "id": "daaad21e",
   "metadata": {
    "ExecuteTime": {
     "end_time": "2021-08-11T06:29:03.813125Z",
     "start_time": "2021-08-11T06:29:03.810121Z"
    }
   },
   "outputs": [
    {
     "name": "stdout",
     "output_type": "stream",
     "text": [
      "4\n"
     ]
    }
   ],
   "source": [
    "print(tup[2])"
   ]
  },
  {
   "cell_type": "code",
   "execution_count": 26,
   "id": "a5a272b1",
   "metadata": {
    "ExecuteTime": {
     "end_time": "2021-08-11T06:29:17.363591Z",
     "start_time": "2021-08-11T06:29:17.356754Z"
    }
   },
   "outputs": [
    {
     "name": "stdout",
     "output_type": "stream",
     "text": [
      "(4,)\n"
     ]
    }
   ],
   "source": [
    "print(tup[2:3])"
   ]
  },
  {
   "cell_type": "code",
   "execution_count": 27,
   "id": "5f478947",
   "metadata": {
    "ExecuteTime": {
     "end_time": "2021-08-11T06:29:39.960595Z",
     "start_time": "2021-08-11T06:29:39.956994Z"
    }
   },
   "outputs": [
    {
     "data": {
      "text/plain": [
       "1"
      ]
     },
     "execution_count": 27,
     "metadata": {},
     "output_type": "execute_result"
    }
   ],
   "source": [
    "tup.count(4)"
   ]
  },
  {
   "cell_type": "code",
   "execution_count": 28,
   "id": "b2d4b77a",
   "metadata": {
    "ExecuteTime": {
     "end_time": "2021-08-11T06:29:53.909088Z",
     "start_time": "2021-08-11T06:29:53.903211Z"
    }
   },
   "outputs": [
    {
     "data": {
      "text/plain": [
       "0"
      ]
     },
     "execution_count": 28,
     "metadata": {},
     "output_type": "execute_result"
    }
   ],
   "source": [
    "tup.index(1)"
   ]
  },
  {
   "cell_type": "code",
   "execution_count": 1,
   "id": "275fdccd",
   "metadata": {
    "ExecuteTime": {
     "end_time": "2021-08-12T06:36:06.694190Z",
     "start_time": "2021-08-12T06:36:06.668663Z"
    }
   },
   "outputs": [
    {
     "data": {
      "text/plain": [
       "tuple"
      ]
     },
     "execution_count": 1,
     "metadata": {},
     "output_type": "execute_result"
    }
   ],
   "source": [
    "t = 1,\n",
    "type(t)"
   ]
  },
  {
   "cell_type": "code",
   "execution_count": 5,
   "id": "2f72cbaf",
   "metadata": {
    "ExecuteTime": {
     "end_time": "2021-08-12T06:41:00.629234Z",
     "start_time": "2021-08-12T06:41:00.624335Z"
    }
   },
   "outputs": [],
   "source": [
    "tup = (1, 5, 4, 1, 8, 1, 5, 2, 2, 2, 1, 8)"
   ]
  },
  {
   "cell_type": "code",
   "execution_count": 7,
   "id": "f485ba46",
   "metadata": {
    "ExecuteTime": {
     "end_time": "2021-08-12T06:41:29.759562Z",
     "start_time": "2021-08-12T06:41:29.749502Z"
    }
   },
   "outputs": [
    {
     "data": {
      "text/plain": [
       "4"
      ]
     },
     "execution_count": 7,
     "metadata": {},
     "output_type": "execute_result"
    }
   ],
   "source": [
    "tup[2]"
   ]
  },
  {
   "cell_type": "code",
   "execution_count": 8,
   "id": "25099252",
   "metadata": {
    "ExecuteTime": {
     "end_time": "2021-08-12T06:41:43.545549Z",
     "start_time": "2021-08-12T06:41:43.535762Z"
    }
   },
   "outputs": [
    {
     "data": {
      "text/plain": [
       "12"
      ]
     },
     "execution_count": 8,
     "metadata": {},
     "output_type": "execute_result"
    }
   ],
   "source": [
    "len(tup)"
   ]
  },
  {
   "cell_type": "code",
   "execution_count": 10,
   "id": "10f9c12d",
   "metadata": {
    "ExecuteTime": {
     "end_time": "2021-08-12T06:42:19.255112Z",
     "start_time": "2021-08-12T06:42:19.249770Z"
    }
   },
   "outputs": [
    {
     "name": "stdout",
     "output_type": "stream",
     "text": [
      "(4,)\n"
     ]
    }
   ],
   "source": [
    "print(tup[2:3])"
   ]
  },
  {
   "cell_type": "code",
   "execution_count": 11,
   "id": "08dea8ea",
   "metadata": {
    "ExecuteTime": {
     "end_time": "2021-08-12T06:42:48.703069Z",
     "start_time": "2021-08-12T06:42:48.693926Z"
    }
   },
   "outputs": [
    {
     "data": {
      "text/plain": [
       "4"
      ]
     },
     "execution_count": 11,
     "metadata": {},
     "output_type": "execute_result"
    }
   ],
   "source": [
    "tup.count(1)"
   ]
  },
  {
   "cell_type": "code",
   "execution_count": 12,
   "id": "7e6b5f60",
   "metadata": {
    "ExecuteTime": {
     "end_time": "2021-08-12T06:43:01.221705Z",
     "start_time": "2021-08-12T06:43:01.215337Z"
    }
   },
   "outputs": [
    {
     "data": {
      "text/plain": [
       "0"
      ]
     },
     "execution_count": 12,
     "metadata": {},
     "output_type": "execute_result"
    }
   ],
   "source": [
    "tup.index(1)"
   ]
  },
  {
   "cell_type": "code",
   "execution_count": null,
   "id": "005f564f",
   "metadata": {},
   "outputs": [],
   "source": []
  }
 ],
 "metadata": {
  "kernelspec": {
   "display_name": "Python 3 (ipykernel)",
   "language": "python",
   "name": "python3"
  },
  "language_info": {
   "codemirror_mode": {
    "name": "ipython",
    "version": 3
   },
   "file_extension": ".py",
   "mimetype": "text/x-python",
   "name": "python",
   "nbconvert_exporter": "python",
   "pygments_lexer": "ipython3",
   "version": "3.9.6"
  }
 },
 "nbformat": 4,
 "nbformat_minor": 5
}
