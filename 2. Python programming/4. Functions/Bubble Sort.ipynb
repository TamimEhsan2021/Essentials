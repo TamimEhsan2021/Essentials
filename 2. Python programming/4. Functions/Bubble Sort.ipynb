{
 "cells": [
  {
   "cell_type": "code",
   "execution_count": 61,
   "id": "49a0d3b3",
   "metadata": {
    "ExecuteTime": {
     "end_time": "2021-08-04T19:48:58.152593Z",
     "start_time": "2021-08-04T19:48:58.143021Z"
    }
   },
   "outputs": [],
   "source": [
    "def bubble_sort(list_a):\n",
    "    step = 1\n",
    "    lenth = len(list_a)\n",
    "    for count, value in enumerate(list_a):\n",
    "        count=(count, value)\n",
    "        print(\"this is count\", count)\n",
    "        var1=value\n",
    "        count=(count+step, value)\n",
    "        print(\"this is count after step\", count)\n",
    "        var2=(value)\n",
    "        print(var1)\n",
    "        print(var2)\n",
    "        "
   ]
  },
  {
   "cell_type": "code",
   "execution_count": 62,
   "id": "acfa9b29",
   "metadata": {
    "ExecuteTime": {
     "end_time": "2021-08-04T19:48:58.613521Z",
     "start_time": "2021-08-04T19:48:58.603770Z"
    }
   },
   "outputs": [
    {
     "name": "stdout",
     "output_type": "stream",
     "text": [
      "this is count 0\n",
      "this is count after step 1\n",
      "1\n",
      "1\n",
      "this is count 1\n",
      "this is count after step 2\n",
      "4\n",
      "4\n",
      "this is count 2\n",
      "this is count after step 3\n",
      "3\n",
      "3\n",
      "this is count 3\n",
      "this is count after step 4\n",
      "1\n",
      "1\n",
      "this is count 4\n",
      "this is count after step 5\n",
      "7\n",
      "7\n",
      "this is count 5\n",
      "this is count after step 6\n",
      "2\n",
      "2\n"
     ]
    }
   ],
   "source": [
    "list_a=[1,4,3,1,7,2]\n",
    "bubble_sort(list_a)"
   ]
  },
  {
   "cell_type": "code",
   "execution_count": 15,
   "id": "2711f513",
   "metadata": {
    "ExecuteTime": {
     "end_time": "2021-08-04T19:11:47.517715Z",
     "start_time": "2021-08-04T19:11:47.507399Z"
    }
   },
   "outputs": [
    {
     "data": {
      "text/plain": [
       "8"
      ]
     },
     "execution_count": 15,
     "metadata": {},
     "output_type": "execute_result"
    }
   ],
   "source": [
    "list_b = [1,3,5,3,5,8]\n",
    "for count, value in enumerate(list_b):\n",
    "    \n"
   ]
  },
  {
   "cell_type": "code",
   "execution_count": null,
   "id": "29bc3da8",
   "metadata": {},
   "outputs": [],
   "source": []
  }
 ],
 "metadata": {
  "kernelspec": {
   "display_name": "Python 3 (ipykernel)",
   "language": "python",
   "name": "python3"
  },
  "language_info": {
   "codemirror_mode": {
    "name": "ipython",
    "version": 3
   },
   "file_extension": ".py",
   "mimetype": "text/x-python",
   "name": "python",
   "nbconvert_exporter": "python",
   "pygments_lexer": "ipython3",
   "version": "3.9.6"
  }
 },
 "nbformat": 4,
 "nbformat_minor": 5
}
