{
 "cells": [
  {
   "cell_type": "markdown",
   "id": "bc334445",
   "metadata": {},
   "source": [
    "# Fizz-buzz\n",
    "​\n",
    "Write famous fizz-buzz problem as a function, which:\n",
    "- takes `list` or `tuple` as an argument\n",
    "- iterates over values contained in it\n",
    "    - if value is divisible by 3, adds it to a `fizz` list (this list should be defined out of the loop!)\n",
    "    - if it is divisible by 5, adds it to a `buzz` list\n",
    "    - if it is divisible by 15, adds it to a `fizzbuzz` liss\n",
    "- return three arrays\n",
    "- print them to stdou\n",
    "​\n",
    "After this initial part, add `2` more arguments which specify value\n",
    "by which we will do the division (instead of `3` and `5`).\n",
    "​\n",
    "Last value should be defaulted to `None` and if it is `None` we have to:\n",
    "- Take first argument and multiply by `7` (multiply `fizz` argument)\n",
    "- Take `sqrt` from math\n",
    "- Round it to the nearest integer\n",
    "- This will be our second (`buzz`) value for the algorithm\n",
    "​\n",
    "__Totally additional__: Can you do it without using `return` and using `yield`"
   ]
  },
  {
   "cell_type": "code",
   "execution_count": 5,
   "id": "4af62905",
   "metadata": {
    "ExecuteTime": {
     "end_time": "2021-08-03T20:30:25.109621Z",
     "start_time": "2021-08-03T20:30:25.094900Z"
    }
   },
   "outputs": [
    {
     "name": "stdout",
     "output_type": "stream",
     "text": [
      "This is fizz [3, 6, 3, 15, 2334, 42, 15, 30]\n",
      "This is buzz [5, 545]\n",
      "This is fizzbuzz [15, 15, 30]\n"
     ]
    }
   ],
   "source": [
    "data = [1,2,3,4,5,6,32,545,3,2,15,2334,42,15,30]\n",
    "\n",
    "def fizz_buzz(input_list, param2, param3 = None):\n",
    "    fizz = []\n",
    "    buzz = []\n",
    "    fizzbuzz = []\n",
    "    \n",
    "    if param3 is None:\n",
    "        param2 = param2 * 7\n",
    "    \n",
    "    for i in input_list:\n",
    "        if i % 15 == 0:\n",
    "            fizzbuzz.append(i)\n",
    "        if i % param2 == 0:\n",
    "            fizz.append(i)\n",
    "        elif i % 5 == 0:\n",
    "            buzz.append(i)\n",
    "\n",
    "            \n",
    "    return fizz, buzz, fizzbuzz\n",
    "\n",
    "fizz_out = fizz_buzz(data)\n",
    "fizz = fizz_out[0]\n",
    "buzz = fizz_out[1]\n",
    "fizzbuzz = fizz_out[2]\n",
    "\n",
    "\n",
    "print(\"This is fizz\", fizz)\n",
    "print(\"This is buzz\", buzz)\n",
    "print(\"This is fizzbuzz\", fizzbuzz)\n",
    "            "
   ]
  },
  {
   "cell_type": "code",
   "execution_count": null,
   "id": "4dc2a91a",
   "metadata": {},
   "outputs": [],
   "source": []
  }
 ],
 "metadata": {
  "kernelspec": {
   "display_name": "Python 3 (ipykernel)",
   "language": "python",
   "name": "python3"
  },
  "language_info": {
   "codemirror_mode": {
    "name": "ipython",
    "version": 3
   },
   "file_extension": ".py",
   "mimetype": "text/x-python",
   "name": "python",
   "nbconvert_exporter": "python",
   "pygments_lexer": "ipython3",
   "version": "3.9.6"
  }
 },
 "nbformat": 4,
 "nbformat_minor": 5
}
