{
 "cells": [
  {
   "cell_type": "markdown",
   "id": "bc334445",
   "metadata": {},
   "source": [
    "# Fizz-buzz\n",
    "​\n",
    "Write famous fizz-buzz problem as a function, which:\n",
    "- takes `list` or `tuple` as an argument\n",
    "- iterates over values contained in it\n",
    "    - if value is divisible by 3, adds it to a `fizz` list (this list should be defined out of the loop!)\n",
    "    - if it is divisible by 5, adds it to a `buzz` list\n",
    "    - if it is divisible by 15, adds it to a `fizzbuzz` liss\n",
    "- return three arrays\n",
    "- print them to stdou\n",
    "​\n",
    "After this initial part, add `2` more arguments which specify value\n",
    "by which we will do the division (instead of `3` and `5`).\n",
    "​\n",
    "Last value should be defaulted to `None` and if it is `None` we have to:\n",
    "- Take first argument and multiply by `7` (multiply `fizz` argument)\n",
    "- Take `sqrt` from math\n",
    "- Round it to the nearest integer\n",
    "- This will be our second (`buzz`) value for the algorithm\n",
    "​\n",
    "__Totally additional__: Can you do it without using `return` and using `yield`"
   ]
  },
  {
   "cell_type": "code",
   "execution_count": 35,
   "id": "4af62905",
   "metadata": {
    "ExecuteTime": {
     "end_time": "2021-08-04T18:25:16.757602Z",
     "start_time": "2021-08-04T18:25:16.744866Z"
    }
   },
   "outputs": [],
   "source": [
    "data = [1,2,3,4,5,6,32,545,3,2,15,2334,42,15,30]\n",
    "\n",
    "def fizz_buzz(input_list, param2, param3 = None):\n",
    "    fizz = []\n",
    "    buzz = []\n",
    "    fizzbuzz = []\n",
    "    \n",
    "    if param3 is None:\n",
    "        param3 = param2 * 7\n",
    "        param3 = param3 ** 0.5\n",
    "        param3 = round(param3)\n",
    "        print(param3)\n",
    "    \n",
    "    for i in input_list:\n",
    "        if i % 15 == 0:\n",
    "            fizzbuzz.append(i)\n",
    "            yield i\n",
    "        elif i % param2 == 0:\n",
    "            fizz.append(i)\n",
    "            yield i\n",
    "        elif i % param3 == 0:\n",
    "            buzz.append(i)\n",
    "            yield i\n",
    "        \n",
    "    #return fizz, buzz, fizzbuzz        \n",
    "    \n",
    "    \n",
    "    "
   ]
  },
  {
   "cell_type": "code",
   "execution_count": 36,
   "id": "309897ff",
   "metadata": {
    "ExecuteTime": {
     "end_time": "2021-08-04T18:25:17.832785Z",
     "start_time": "2021-08-04T18:25:17.825932Z"
    }
   },
   "outputs": [
    {
     "name": "stdout",
     "output_type": "stream",
     "text": [
      "<generator object fizz_buzz at 0x7f42fe8d3820>\n"
     ]
    }
   ],
   "source": [
    "generator = fizz_buzz(range(0,1000), 2,3)\n",
    "print(generator)"
   ]
  },
  {
   "cell_type": "code",
   "execution_count": 42,
   "id": "63d0b48a",
   "metadata": {
    "ExecuteTime": {
     "end_time": "2021-08-04T18:25:32.015403Z",
     "start_time": "2021-08-04T18:25:32.008069Z"
    }
   },
   "outputs": [
    {
     "data": {
      "text/plain": [
       "6"
      ]
     },
     "execution_count": 42,
     "metadata": {},
     "output_type": "execute_result"
    }
   ],
   "source": [
    "next(generator)"
   ]
  },
  {
   "cell_type": "code",
   "execution_count": 38,
   "id": "4dc2a91a",
   "metadata": {
    "ExecuteTime": {
     "end_time": "2021-08-04T18:25:20.377968Z",
     "start_time": "2021-08-04T18:25:20.367676Z"
    }
   },
   "outputs": [
    {
     "ename": "TypeError",
     "evalue": "'generator' object is not subscriptable",
     "output_type": "error",
     "traceback": [
      "\u001b[0;31m---------------------------------------------------------------------------\u001b[0m",
      "\u001b[0;31mTypeError\u001b[0m                                 Traceback (most recent call last)",
      "\u001b[0;32m/tmp/ipykernel_35809/2754736791.py\u001b[0m in \u001b[0;36m<module>\u001b[0;34m\u001b[0m\n\u001b[1;32m      1\u001b[0m \u001b[0mfizz_out\u001b[0m \u001b[0;34m=\u001b[0m \u001b[0mfizz_buzz\u001b[0m\u001b[0;34m(\u001b[0m\u001b[0mdata\u001b[0m\u001b[0;34m,\u001b[0m \u001b[0mparam2\u001b[0m\u001b[0;34m=\u001b[0m\u001b[0;36m3\u001b[0m\u001b[0;34m)\u001b[0m\u001b[0;34m\u001b[0m\u001b[0;34m\u001b[0m\u001b[0m\n\u001b[0;32m----> 2\u001b[0;31m \u001b[0mfizz\u001b[0m \u001b[0;34m=\u001b[0m \u001b[0mfizz_out\u001b[0m\u001b[0;34m[\u001b[0m\u001b[0;36m0\u001b[0m\u001b[0;34m]\u001b[0m\u001b[0;34m\u001b[0m\u001b[0;34m\u001b[0m\u001b[0m\n\u001b[0m\u001b[1;32m      3\u001b[0m \u001b[0mbuzz\u001b[0m \u001b[0;34m=\u001b[0m \u001b[0mfizz_out\u001b[0m\u001b[0;34m[\u001b[0m\u001b[0;36m1\u001b[0m\u001b[0;34m]\u001b[0m\u001b[0;34m\u001b[0m\u001b[0;34m\u001b[0m\u001b[0m\n\u001b[1;32m      4\u001b[0m \u001b[0mfizzbuzz\u001b[0m \u001b[0;34m=\u001b[0m \u001b[0mfizz_out\u001b[0m\u001b[0;34m[\u001b[0m\u001b[0;36m2\u001b[0m\u001b[0;34m]\u001b[0m\u001b[0;34m\u001b[0m\u001b[0;34m\u001b[0m\u001b[0m\n\u001b[1;32m      5\u001b[0m \u001b[0;34m\u001b[0m\u001b[0m\n",
      "\u001b[0;31mTypeError\u001b[0m: 'generator' object is not subscriptable"
     ]
    }
   ],
   "source": [
    "fizz_out = fizz_buzz(data, param2=3)\n",
    "fizz = fizz_out[0]\n",
    "buzz = fizz_out[1]\n",
    "fizzbuzz = fizz_out[2]\n",
    "\n",
    "\n",
    "print(\"This is fizz\", fizz)\n",
    "print(\"This is buzz\", buzz)\n",
    "print(\"This is fizzbuzz\", fizzbuzz)"
   ]
  },
  {
   "cell_type": "code",
   "execution_count": 22,
   "id": "5d77421b",
   "metadata": {
    "ExecuteTime": {
     "end_time": "2021-08-04T18:18:29.315593Z",
     "start_time": "2021-08-04T18:18:29.310779Z"
    }
   },
   "outputs": [
    {
     "name": "stdout",
     "output_type": "stream",
     "text": [
      "5\n",
      "([0, 3, 6, 9, 12, 15, 18, 21, 24, 27, 30, 33, 36, 39, 42, 45, 48, 51, 54, 57, 60, 63, 66, 69, 72, 75, 78, 81, 84, 87, 90, 93, 96, 99, 102, 105, 108, 111, 114, 117, 120, 123, 126, 129, 132, 135, 138, 141, 144, 147, 150, 153, 156, 159, 162, 165, 168, 171, 174, 177, 180, 183, 186, 189, 192, 195, 198, 201, 204, 207, 210, 213, 216, 219, 222, 225, 228, 231, 234, 237, 240, 243, 246, 249, 252, 255, 258, 261, 264, 267, 270, 273, 276, 279, 282, 285, 288, 291, 294, 297, 300, 303, 306, 309, 312, 315, 318, 321, 324, 327, 330, 333, 336, 339, 342, 345, 348, 351, 354, 357, 360, 363, 366, 369, 372, 375, 378, 381, 384, 387, 390, 393, 396, 399, 402, 405, 408, 411, 414, 417, 420, 423, 426, 429, 432, 435, 438, 441, 444, 447, 450, 453, 456, 459, 462, 465, 468, 471, 474, 477, 480, 483, 486, 489, 492, 495, 498, 501, 504, 507, 510, 513, 516, 519, 522, 525, 528, 531, 534, 537, 540, 543, 546, 549, 552, 555, 558, 561, 564, 567, 570, 573, 576, 579, 582, 585, 588, 591, 594, 597, 600, 603, 606, 609, 612, 615, 618, 621, 624, 627, 630, 633, 636, 639, 642, 645, 648, 651, 654, 657, 660, 663, 666, 669, 672, 675, 678, 681, 684, 687, 690, 693, 696, 699, 702, 705, 708, 711, 714, 717, 720, 723, 726, 729, 732, 735, 738, 741, 744, 747, 750, 753, 756, 759, 762, 765, 768, 771, 774, 777, 780, 783, 786, 789, 792, 795, 798, 801, 804, 807, 810, 813, 816, 819, 822, 825, 828, 831, 834, 837, 840, 843, 846, 849, 852, 855, 858, 861, 864, 867, 870, 873, 876, 879, 882, 885, 888, 891, 894, 897, 900, 903, 906, 909, 912, 915, 918, 921, 924, 927, 930, 933, 936, 939, 942, 945, 948, 951, 954, 957, 960, 963, 966, 969, 972, 975, 978, 981, 984, 987, 990, 993, 996, 999], [5, 10, 20, 25, 35, 40, 50, 55, 65, 70, 80, 85, 95, 100, 110, 115, 125, 130, 140, 145, 155, 160, 170, 175, 185, 190, 200, 205, 215, 220, 230, 235, 245, 250, 260, 265, 275, 280, 290, 295, 305, 310, 320, 325, 335, 340, 350, 355, 365, 370, 380, 385, 395, 400, 410, 415, 425, 430, 440, 445, 455, 460, 470, 475, 485, 490, 500, 505, 515, 520, 530, 535, 545, 550, 560, 565, 575, 580, 590, 595, 605, 610, 620, 625, 635, 640, 650, 655, 665, 670, 680, 685, 695, 700, 710, 715, 725, 730, 740, 745, 755, 760, 770, 775, 785, 790, 800, 805, 815, 820, 830, 835, 845, 850, 860, 865, 875, 880, 890, 895, 905, 910, 920, 925, 935, 940, 950, 955, 965, 970, 980, 985, 995], [0, 15, 30, 45, 60, 75, 90, 105, 120, 135, 150, 165, 180, 195, 210, 225, 240, 255, 270, 285, 300, 315, 330, 345, 360, 375, 390, 405, 420, 435, 450, 465, 480, 495, 510, 525, 540, 555, 570, 585, 600, 615, 630, 645, 660, 675, 690, 705, 720, 735, 750, 765, 780, 795, 810, 825, 840, 855, 870, 885, 900, 915, 930, 945, 960, 975, 990])\n"
     ]
    }
   ],
   "source": [
    "#fizz_out = fizz_buzz(data, param2=3)\n",
    "for value in fizz_buzz(range(0,1000), param2=3): \n",
    "    print(value)"
   ]
  },
  {
   "cell_type": "code",
   "execution_count": null,
   "id": "35e15d58",
   "metadata": {},
   "outputs": [],
   "source": []
  }
 ],
 "metadata": {
  "kernelspec": {
   "display_name": "Python 3 (ipykernel)",
   "language": "python",
   "name": "python3"
  },
  "language_info": {
   "codemirror_mode": {
    "name": "ipython",
    "version": 3
   },
   "file_extension": ".py",
   "mimetype": "text/x-python",
   "name": "python",
   "nbconvert_exporter": "python",
   "pygments_lexer": "ipython3",
   "version": "3.9.6"
  }
 },
 "nbformat": 4,
 "nbformat_minor": 5
}
