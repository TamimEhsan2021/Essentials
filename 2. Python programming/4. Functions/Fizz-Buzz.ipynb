{
 "cells": [
  {
   "cell_type": "markdown",
   "id": "bc334445",
   "metadata": {},
   "source": [
    "# Fizz-buzz\n",
    "​\n",
    "Write famous fizz-buzz problem as a function, which:\n",
    "- takes `list` or `tuple` as an argument\n",
    "- iterates over values contained in it\n",
    "    - if value is divisible by 3, adds it to a `fizz` list (this list should be defined out of the loop!)\n",
    "    - if it is divisible by 5, adds it to a `buzz` list\n",
    "    - if it is divisible by 15, adds it to a `fizzbuzz` liss\n",
    "- return three arrays\n",
    "- print them to stdou\n",
    "​\n",
    "After this initial part, add `2` more arguments which specify value\n",
    "by which we will do the division (instead of `3` and `5`).\n",
    "​\n",
    "Last value should be defaulted to `None` and if it is `None` we have to:\n",
    "- Take first argument and multiply by `7` (multiply `fizz` argument)\n",
    "- Take `sqrt` from math\n",
    "- Round it to the nearest integer\n",
    "- This will be our second (`buzz`) value for the algorithm\n",
    "​\n",
    "__Totally additional__: Can you do it without using `return` and using `yield`"
   ]
  },
  {
   "cell_type": "code",
   "execution_count": null,
   "id": "4af62905",
   "metadata": {},
   "outputs": [],
   "source": []
  }
 ],
 "metadata": {
  "kernelspec": {
   "display_name": "Python 3 (ipykernel)",
   "language": "python",
   "name": "python3"
  },
  "language_info": {
   "codemirror_mode": {
    "name": "ipython",
    "version": 3
   },
   "file_extension": ".py",
   "mimetype": "text/x-python",
   "name": "python",
   "nbconvert_exporter": "python",
   "pygments_lexer": "ipython3",
   "version": "3.9.6"
  }
 },
 "nbformat": 4,
 "nbformat_minor": 5
}
